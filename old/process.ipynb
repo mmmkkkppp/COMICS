{
 "cells": [
  {
   "cell_type": "code",
   "execution_count": 1,
   "metadata": {},
   "outputs": [],
   "source": [
    "import pandas as pd\n",
    "import astropy.io.fits as fits\n",
    "import numpy as np\n",
    "import glob\n",
    "import os\n",
    "from scipy.ndimage import gaussian_filter\n",
    "import pandas as pd\n",
    "import shutil\n",
    "from function import *"
   ]
  },
  {
   "cell_type": "code",
   "execution_count": 11,
   "metadata": {},
   "outputs": [],
   "source": [
    "#全体の流れは、function.pyのmake_objに記載の通り\n",
    "#ここでは、処理を途中でやめること、darkがない場合も考慮した方法で書いていく。"
   ]
  },
  {
   "cell_type": "code",
   "execution_count": 6,
   "metadata": {},
   "outputs": [
    {
     "name": "stdout",
     "output_type": "stream",
     "text": [
      "/mnt/e/2003/COMA00036923.fits\n"
     ]
    },
    {
     "name": "stderr",
     "output_type": "stream",
     "text": [
      "WARNING: VerifyWarning: Invalid 'BLANK' keyword in header.  The 'BLANK' keyword is only applicable to integer data, and will be ignored in this HDU. [astropy.io.fits.hdu.image]\n"
     ]
    },
    {
     "name": "stdout",
     "output_type": "stream",
     "text": [
      "/mnt/e/2003/COMA00036925.fits\n"
     ]
    },
    {
     "name": "stderr",
     "output_type": "stream",
     "text": [
      "WARNING: VerifyWarning: Invalid 'BLANK' keyword in header.  The 'BLANK' keyword is only applicable to integer data, and will be ignored in this HDU. [astropy.io.fits.hdu.image]\n"
     ]
    }
   ],
   "source": [
    "filelist = glob.glob(r'/mnt/e/2003/COMA*.fits')\n",
    "for obsfile in filelist[2700:2702]:\n",
    "\n",
    "        dark_1 = make1Expdark(obsfile)\n",
    "        obsheader = readheader(obsfile)\n",
    "        Q_CHEB = obsheader[\"Q_CHEB\"]\n",
    "        dark_CHEB = dark_1 * int(Q_CHEB)\n",
    "        # obsdata\n",
    "        # この時点で、RAWをAddに変換する。\n",
    "        if (obsheader[\"Q_CHAM\"] == 0):\n",
    "            obsdata_RAW = readdata(obsfile)\n",
    "            Q_CHCN = obsheader[\"Q_CHCN\"]\n",
    "            A = np.array(np.split(obsdata_RAW, Q_CHCN, axis=1))\n",
    "            obsdata = np.sum(A, axis=0)\n",
    "        elif (obsheader[\"Q_CHAM\"] == 1):\n",
    "            obsdata = readdata(obsfile)\n",
    "        elif (obsheader[\"Q_CHAM\"] == 2):\n",
    "            print(\"ECOモードによりskip\")\n",
    "            continue\n",
    "\n",
    "        # skydata作成\n",
    "        skydata = obsdata - dark_CHEB\n",
    "        # q_bsepによりposiとnegaにわける\n",
    "        # Addモードの場合だけでやってみる。\n",
    "        skydata_p = q_bsep_posi(skydata)\n",
    "        skydata_n = q_bsep_nega(skydata)\n",
    "\n",
    "        # z方向平均\n",
    "        sky_pa = mean_z(skydata_p)\n",
    "        sky_na = mean_z(skydata_n)\n",
    "\n",
    "        # gaussian　平均\n",
    "        sky_paG = gaussfilter(sky_pa)\n",
    "        sky_naG = gaussfilter(sky_na)\n",
    "\n",
    "        # Flatの作成\n",
    "        sky_paF = sky_pa / sky_paG\n",
    "        sky_naF = sky_na / sky_naG\n",
    "\n",
    "        comqfile = obsfile.replace(\"COMA\", \"COMQ\")\n",
    "\n",
    "        comq_obs = readdata(comqfile)\n",
    "        obj_obs = q_subch(comq_obs)\n",
    "        # Flatで割る\n",
    "        obj_obs_datP0 = obj_obs / sky_naF\n",
    "        obj_obs_datN0 = obj_obs / sky_paF\n",
    "\n",
    "        # Exptimeで割る\n",
    "        obj_obs_datP0_per1sec = obj_obs_datP0 / exptime(comqfile)\n",
    "        obj_obs_datN0_per1sec = obj_obs_datN0 / exptime(comqfile)\n",
    "\n",
    "        os.makedirs(r'/mnt/e/'+obsyear(obsfile)+r'/out_obj/', exist_ok=True)\n",
    "        outputfol_P = r'/mnt/e/' + \\\n",
    "            obsyear(obsfile)+r'/out_obj/obj_' + \\\n",
    "            obsfile[-10:-5]+r'_datP0_per1sec.fits'\n",
    "        makefits(obj_obs_datP0_per1sec, outputfol_P, comqfile)\n",
    "\n",
    "        outputfol_N = r'/mnt/e/' + \\\n",
    "            obsyear(obsfile)+r'/out_obj/obj_' + \\\n",
    "            obsfile[-10:-5]+r'_datN0_per1sec.fits'\n",
    "        makefits(obj_obs_datN0_per1sec, outputfol_N, comqfile)\n"
   ]
  },
  {
   "cell_type": "code",
   "execution_count": 10,
   "metadata": {},
   "outputs": [],
   "source": [
    "def make1Expdark_q(obsfile):\n",
    "    print(obsfile)\n",
    "    df = identify(obsfile)\n",
    "    year = obsyear(obsfile)\n",
    "    darkbasefolder = r'/mnt/e/' + year + r'/dark/'\n",
    "    obsdata = readdata(obsfile)\n",
    "    # obsdataと同じshapeの0のnumpyを作成\n",
    "    darkdata = np.zeros(list(obsdata.shape))\n",
    "    if len(df) == 0:\n",
    "        print(\"該当のダークが存在しない\")\n",
    "        return None\n",
    "        # ここにはその場合の処理を記載する。\n",
    "\n",
    "    # 特定したダークファイル一枚一枚に対して、Q_CHEBが同じものを抽出??\n",
    "\n",
    "    # df[df[\"Q_CHEB\"].duplicated()]\n",
    "    for darkfile in df[\"FRAME_ID\"]:\n",
    "        darkfilepath = darkbasefolder + darkfile + r'.fits'\n",
    "        darkdata += np.mean(readdata(darkfilepath), axis=1, keepdims=True)\n",
    "    # meanをとる\n",
    "    meandark = darkdata / len(df)\n",
    "    # 1Expあたりに直す\n",
    "    meandark_1 = meandark / int(df[\"Q_CHEB\"][0])\n",
    "    return meandark_1"
   ]
  },
  {
   "cell_type": "code",
   "execution_count": 14,
   "metadata": {},
   "outputs": [
    {
     "name": "stdout",
     "output_type": "stream",
     "text": [
      "/mnt/e/2003/COMA00032397.fits\n",
      "該当のダークが存在しない\n",
      "Noneです\n"
     ]
    }
   ],
   "source": [
    "filelist = glob.glob(r'/mnt/e/2003/COMA*.fits')\n",
    "filelist[0]\n",
    "A = make1Expdark_q(filelist[0])\n",
    "if A is None:\n",
    "    print(\"Noneです\")"
   ]
  },
  {
   "cell_type": "code",
   "execution_count": 9,
   "metadata": {},
   "outputs": [
    {
     "name": "stdout",
     "output_type": "stream",
     "text": [
      "/mnt/e/2003/COMA00036796.fits\n",
      "該当のダークが存在しない\n",
      "/mnt/e/2003/COMA00036798.fits\n",
      "該当のダークが存在しない\n",
      "/mnt/e/2003/COMA00036800.fits\n",
      "該当のダークが存在しない\n",
      "/mnt/e/2003/COMA00036801.fits\n"
     ]
    },
    {
     "ename": "ValueError",
     "evalue": "non-broadcastable output operand with shape (1,2,240,320) doesn't match the broadcast shape (2,2,240,320)",
     "output_type": "error",
     "traceback": [
      "\u001b[0;31m---------------------------------------------------------------------------\u001b[0m",
      "\u001b[0;31mValueError\u001b[0m                                Traceback (most recent call last)",
      "Cell \u001b[0;32mIn [9], line 3\u001b[0m\n\u001b[1;32m      1\u001b[0m filelist \u001b[39m=\u001b[39m glob\u001b[39m.\u001b[39mglob(\u001b[39mr\u001b[39m\u001b[39m'\u001b[39m\u001b[39m/mnt/e/2003/COMA*.fits\u001b[39m\u001b[39m'\u001b[39m)\n\u001b[1;32m      2\u001b[0m \u001b[39mfor\u001b[39;00m obsfile \u001b[39min\u001b[39;00m filelist[\u001b[39m2630\u001b[39m:\u001b[39m2670\u001b[39m]:\n\u001b[0;32m----> 3\u001b[0m     make_obj(obsfile)\n",
      "File \u001b[0;32m/mnt/c/Users/yyush/Documents/GitHub/COMICS/function.py:127\u001b[0m, in \u001b[0;36mmake_obj\u001b[0;34m(obsfile)\u001b[0m\n\u001b[1;32m    123\u001b[0m \u001b[39mdef\u001b[39;00m \u001b[39mmake_obj\u001b[39m(obsfile):\n\u001b[1;32m    124\u001b[0m     \n\u001b[1;32m    125\u001b[0m \u001b[39m# dark_1を取得\u001b[39;00m\n\u001b[0;32m--> 127\u001b[0m     dark_1 \u001b[39m=\u001b[39m make1Expdark(obsfile)\n\u001b[1;32m    128\u001b[0m     \u001b[39mif\u001b[39;00m dark_1 \u001b[39mis\u001b[39;00m \u001b[39mNone\u001b[39;00m:\n\u001b[1;32m    129\u001b[0m         \u001b[39mreturn\u001b[39;00m \u001b[39mNone\u001b[39;00m\n",
      "File \u001b[0;32m/mnt/c/Users/yyush/Documents/GitHub/COMICS/function.py:107\u001b[0m, in \u001b[0;36mmake1Expdark\u001b[0;34m(obsfile)\u001b[0m\n\u001b[1;32m    105\u001b[0m \u001b[39mfor\u001b[39;00m darkfile \u001b[39min\u001b[39;00m df[\u001b[39m\"\u001b[39m\u001b[39mFRAME_ID\u001b[39m\u001b[39m\"\u001b[39m]:\n\u001b[1;32m    106\u001b[0m     darkfilepath \u001b[39m=\u001b[39m darkbasefolder \u001b[39m+\u001b[39m darkfile \u001b[39m+\u001b[39m \u001b[39mr\u001b[39m\u001b[39m'\u001b[39m\u001b[39m.fits\u001b[39m\u001b[39m'\u001b[39m\n\u001b[0;32m--> 107\u001b[0m     darkdata \u001b[39m+\u001b[39m\u001b[39m=\u001b[39m np\u001b[39m.\u001b[39mmean(readdata(darkfilepath), axis\u001b[39m=\u001b[39m\u001b[39m1\u001b[39m, keepdims\u001b[39m=\u001b[39m\u001b[39mTrue\u001b[39;00m)\n\u001b[1;32m    108\u001b[0m \u001b[39m# meanをとる\u001b[39;00m\n\u001b[1;32m    109\u001b[0m meandark \u001b[39m=\u001b[39m darkdata \u001b[39m/\u001b[39m \u001b[39mlen\u001b[39m(df)\n",
      "\u001b[0;31mValueError\u001b[0m: non-broadcastable output operand with shape (1,2,240,320) doesn't match the broadcast shape (2,2,240,320)"
     ]
    }
   ],
   "source": [
    "filelist = glob.glob(r'/mnt/e/2003/COMA*.fits')\n",
    "for obsfile in filelist[2630:2670]:\n",
    "    try:\n",
    "        make_obj(obsfile)\n",
    "    \n",
    "    except Exception as e:\n",
    "        \n",
    "        print('=== エラー内容 ===')\n",
    "        print('type:' + str(type(e)))\n",
    "        print('args:' + str(e.args))\n",
    "        print('message:' + e.message)\n",
    "        print('e自身:' + str(e))"
   ]
  },
  {
   "cell_type": "code",
   "execution_count": 4,
   "metadata": {},
   "outputs": [
    {
     "name": "stdout",
     "output_type": "stream",
     "text": [
      "/mnt/e/2003/COMA00032397.fits\n",
      "該当のダークが存在しない\n",
      "/mnt/e/2003/COMA00032397.fits\n",
      "該当のダークが存在しない\n"
     ]
    }
   ],
   "source": [
    "filelist = glob.glob(r'/mnt/e/2003/COMA*.fits')\n",
    "make1Expdark(filelist[0])\n",
    "make_obj(filelist[0])"
   ]
  },
  {
   "cell_type": "code",
   "execution_count": 12,
   "metadata": {},
   "outputs": [
    {
     "ename": "TypeError",
     "evalue": "error() missing 1 required positional argument: 'msg'",
     "output_type": "error",
     "traceback": [
      "\u001b[0;31m---------------------------------------------------------------------------\u001b[0m",
      "\u001b[0;31mTypeError\u001b[0m                                 Traceback (most recent call last)",
      "Cell \u001b[0;32mIn [12], line 3\u001b[0m\n\u001b[1;32m      1\u001b[0m \u001b[39m#errorlogの取り方\u001b[39;00m\n\u001b[1;32m      2\u001b[0m \u001b[39mimport\u001b[39;00m \u001b[39mlogging\u001b[39;00m\n\u001b[0;32m----> 3\u001b[0m logging\u001b[39m.\u001b[39;49merror()\n",
      "\u001b[0;31mTypeError\u001b[0m: error() missing 1 required positional argument: 'msg'"
     ]
    }
   ],
   "source": [
    "#errorlogの取り方\n",
    "import logging\n",
    "logging.error()"
   ]
  },
  {
   "cell_type": "code",
   "execution_count": null,
   "metadata": {},
   "outputs": [],
   "source": []
  }
 ],
 "metadata": {
  "kernelspec": {
   "display_name": "Python 3",
   "language": "python",
   "name": "python3"
  },
  "language_info": {
   "codemirror_mode": {
    "name": "ipython",
    "version": 3
   },
   "file_extension": ".py",
   "mimetype": "text/x-python",
   "name": "python",
   "nbconvert_exporter": "python",
   "pygments_lexer": "ipython3",
   "version": "3.8.10 (default, Jun 22 2022, 20:18:18) \n[GCC 9.4.0]"
  },
  "orig_nbformat": 4,
  "vscode": {
   "interpreter": {
    "hash": "916dbcbb3f70747c44a77c7bcd40155683ae19c65e1c03b4aa3499c5328201f1"
   }
  }
 },
 "nbformat": 4,
 "nbformat_minor": 2
}
