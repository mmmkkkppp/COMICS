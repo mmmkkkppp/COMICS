{
 "cells": [
  {
   "attachments": {},
   "cell_type": "markdown",
   "metadata": {},
   "source": [
    "## 全体の流れ \n",
    "①年ごとにわけたフォルダを作成。  \n",
    "②それぞれの年の中で、ダークのフォルダを作成  \n",
    "③ダークのフォルダから、必要情報をまとめたデータフレームあるいは、csvファイルを作成しておく  \n",
    "\n",
    "④天体画像を選択(いったんパス付きで指定したとする)  \n",
    "⑤天体画像の日付等から、csvファイルを開き、ダークを探す  \n",
    "⑥該当のダークファイルが見つかれば、そのファイル名をリストに格納。  \n",
    "⑦ダーク処理を行う  \n",
    "⑧COMQ画像を取得する。"
   ]
  },
  {
   "cell_type": "markdown",
   "metadata": {},
   "source": [
    "## 関数の定義"
   ]
  },
  {
   "cell_type": "code",
   "execution_count": null,
   "metadata": {},
   "outputs": [],
   "source": [
    "import astropy.io.fits as fits\n",
    "import numpy as np\n",
    "import glob\n",
    "import os\n",
    "from scipy.ndimage import gaussian_filter\n",
    "import pandas as pd\n",
    "import shutil\n",
    "\n",
    "\n",
    "def readheader(filename):\n",
    "    return fits.open(filename)[0].header\n",
    "\n",
    "\n",
    "def readdata(filename):\n",
    "    return fits.open(filename)[0].data\n",
    "#関数の定義\n",
    "def readheader(filename):\n",
    "    return fits.open(filename)[0].header\n",
    "\n",
    "def readdata(filename):\n",
    "    return fits.open(filename)[0].data\n",
    "\n",
    "def q_bsep_posi(input):\n",
    "    return input[:,::2,:,:]\n",
    "def q_bsep_nega(input):\n",
    "    return input[:,1::2,:,:]   \n",
    "#z方向平均\n",
    "def mean_z(input):\n",
    "    return np.mean(input, axis=1, keepdims=True)\n",
    "\n",
    "#gaussian filter\n",
    "\n",
    "\n",
    "def gaussfilter(input):\n",
    "    output = gaussian_filter(input[0, 0, :, :], sigma=6, order=0,\n",
    "                             output=None, mode='nearest', cval=0.0, truncate=4.0)\n",
    "    return output\n",
    "\n",
    "\n",
    "def q_subch(input):\n",
    "    #z方向については、COMQは1となっているはずである。\n",
    "    input_dim2 = input[0, 0, :, :]\n",
    "    #x軸方向に20*240と分割し、z方向に積み上げる\n",
    "\n",
    "    divstack = np.stack(np.split(input_dim2, 16, axis=1))\n",
    "    #z方向にmedianをとり、20*240をtileして320*240にする\n",
    "    beforetile = np.median(divstack, axis=0)  # keepdimsは不要(二次元でいい)\n",
    "    tilemedian = np.tile(beforetile, 16)\n",
    "    # print(tilemedian.shape)\n",
    "    input_to_output = input.copy()\n",
    "    input_to_output[0, 0, :, :] -= tilemedian\n",
    "    # input_to_output[0, 0, :, :] = 1\n",
    "    return input_to_output\n",
    "\n",
    "#fitsファイル作成用\n",
    "\n",
    "def makefits(dataname, filename):\n",
    "    hdu = fits.PrimaryHDU(data=dataname)\n",
    "    fits.HDUList([hdu]).writeto(str(filename), overwrite=True)"
   ]
  },
  {
   "cell_type": "markdown",
   "metadata": {},
   "source": [
    "## 処理の中身"
   ]
  },
  {
   "cell_type": "code",
   "execution_count": null,
   "metadata": {},
   "outputs": [],
   "source": [
    "def process(obsfilename):\n",
    "    \"\"\"  \n",
    "    ここには天体画像から、ダークを特定する処理を記載する。下のセル参照\n",
    "    \n",
    "    \"\"\"\n",
    "    darkheader1 =\n",
    "    if (darkheader1[\"Q_CHAM\"] != 1) or (obsheader[\"Q_CHAM\"] != 1):\n",
    "        print(\"CoAdd Modeが1ではない。\")\n",
    "    elif darkheader1[\"Q_CHAM\"] == 1 and darkheader2[\"Q_CHAM\"] == 1:\n",
    "        darkfile1 = readdata(dark1)\n",
    "        darkfile2 = readdata(dark2)\n",
    "        meandark = (np.mean(dark1, axis=1, keepdims=True) +\n",
    "                    np.mean(dark2, axis=1, keepdims=True)) / 2\n",
    "        meandark_1 = meandark / int(darkheader1[\"Q_CHEB\"])\n",
    "\n",
    "        #darkの差し引き\n",
    "        #Q_CHEB倍する\n",
    "        obsdata = readdata(obsfilename)\n",
    "        meandark_obs = meandark_1 * obsheader[\"Q_CHEB\"]\n",
    "\n",
    "        skydata = obsdata - meandark_obs\n",
    "        skydata_p = q_bsep_posi(skydata)\n",
    "        skydata_n = q_bsep_nega(skydata)\n",
    "\n",
    "        #z方向平均\n",
    "        sky_pa = mean_z(skydata_p)\n",
    "        sky_na = mean_z(skydata_n)\n",
    "\n",
    "        #gaussian　平均\n",
    "        sky_paG = gaussfilter(sky_pa)\n",
    "        sky_naG = gaussfilter(sky_na)\n",
    "\n",
    "        #Flatの作成\n",
    "        sky_paF = sky_pa / sky_paG\n",
    "        sky_naF = sky_na / sky_naG\n",
    "\n",
    "        #Chop差し引きした、COMQ画像に対して、Flatで割る\n",
    "        comq_data = readdata(obs_comq)\n",
    "        obj_obs = q_subch(comq_data)\n",
    "\n",
    "        #Flatで割る\n",
    "        obj_obs_datP0 = obj_obs / sky_naF\n",
    "        obj_obs_datN0 = obj_obs / sky_paF\n",
    "\n",
    "        makefits(obj_obs_datP0, \"./out/obj\" +\n",
    "                 str(obsfilename[-10:-5]) + \"_datP0.fits\")\n",
    "        makefits(obj_obs_datN0, \"./out/obj\" +\n",
    "                 str(obsfilename[-10:-5]) + \"_datN0.fits\")\n"
   ]
  },
  {
   "cell_type": "markdown",
   "metadata": {},
   "source": [
    "## 1. 年ごとにわけたフォルダの作成\n",
    "データの申請段階で年ごとに行なっているので、ファイル名を変えるのみ。"
   ]
  },
  {
   "cell_type": "markdown",
   "metadata": {},
   "source": [
    "## 2. ダークのフォルダを作成\n",
    "これは、それぞれの年ごとのフレームリストから、該当のファイルをとってきて、フォルダを移動させる。"
   ]
  },
  {
   "cell_type": "code",
   "execution_count": null,
   "metadata": {},
   "outputs": [],
   "source": [
    "#for example 2009年度のもの\n",
    "folderpath = r'D:\\2009-01-13'\n",
    "judgedarkfile = r'./DataFrame/COM_2009.xlsx'\n",
    "\n",
    "frameall = pd.read_excel(judgedarkfile)\n",
    "#1行目は不要なので削除\n",
    "frameall = frameall.dropna(how=\"all\", axis=0)\n",
    "darkframe = frameall[(frameall[\"DATA_TYP\"] == \"DARK\") |\n",
    "                     (frameall[\"OBJECT2\"] == \"DARK\")]\n",
    "#indexをリセット\n",
    "darkframe = darkframe.reset_index(drop=True)\n",
    "\n",
    "\n",
    "#filepath\n",
    "filepath = r\"D:\\2009\"\n",
    "filelist = glob.glob(filepath+\"\\*\")\n",
    "#ダークのフォルダを作成。\n",
    "os.makedirs(r\"D:\\2009\\DARK\", exist_ok=True)\n",
    "#darkの名前を取得\n",
    "for dark in darkframe[\"#FRAME_ID\"]:\n",
    "    #filename作成\n",
    "    name = filepath +\"\\\\\"+ str(dark) +\".fits\"\n",
    "    #移動\n",
    "    if name in filelist:\n",
    "        shutil.move(name, filepath+\"\\\\DARK\\\\\" + str(dark) +\".fits\")"
   ]
  },
  {
   "cell_type": "markdown",
   "metadata": {},
   "source": []
  },
  {
   "cell_type": "markdown",
   "metadata": {},
   "source": [
    "## 3. ダークフォルダから、必要な情報をまとめたデータフレームを作成"
   ]
  },
  {
   "cell_type": "code",
   "execution_count": null,
   "metadata": {},
   "outputs": [],
   "source": [
    "#for example 2009年の場合\n",
    "darkfolderpath = r\"D:\\2009\\DARK\"\n",
    "#darkのファイル名を取得\n",
    "darkfilelist = glob.glob(darkfolderpath+\"\\\\*\")\n",
    "#データフレーム作成。\n",
    "darkdf = pd.DataFrame(columns=[\"FRRAME_ID\", \"DATE\", \"PIXTIM\", \"RRSTRT\", \"YSTRT\", \"CoAdd\", \"Q_CHEB\"])\n",
    "for darkfile in darkfilelist:\n",
    "    darkheader = readheader(darkfile)\n",
    "\n",
    "    list1 = [darkheader[\"FRAMEID\"], darkheader[\"DATE-OBS\"], darkheader[\"Q_PIXTIM\"],\n",
    "            darkheader[\"Q_RRSTRT\"], darkheader[\"Q_YSTRT\"], darkheader[\"Q_CHAM\"],darkheader[\"Q_CHEB\"]]\n",
    "    add_row = pd.DataFrame([list1], columns = darkdf.columns)\n",
    "    darkdf = pd.concat([darkdf, add_row], ignore_index=True)\n",
    "darkdf.to_csv(darkfolderpath + \"\\\\\" + \"dark.csv\")\n",
    "\n"
   ]
  },
  {
   "cell_type": "code",
   "execution_count": 4,
   "metadata": {},
   "outputs": [
    {
     "ename": "RuntimeError",
     "evalue": "Could not run SExtractor. Is the path 'sex' correct ? If not, specify sexpath='/path/to/sextractor'",
     "output_type": "error",
     "traceback": [
      "\u001b[0;31m---------------------------------------------------------------------------\u001b[0m",
      "\u001b[0;31mFileNotFoundError\u001b[0m                         Traceback (most recent call last)",
      "File \u001b[0;32m~/.local/lib/python3.8/site-packages/sewpy/sewpy.py:161\u001b[0m, in \u001b[0;36mSEW.get_version\u001b[0;34m(self)\u001b[0m\n\u001b[1;32m    160\u001b[0m \u001b[39mtry\u001b[39;00m:\n\u001b[0;32m--> 161\u001b[0m \tp \u001b[39m=\u001b[39m subprocess\u001b[39m.\u001b[39;49mPopen([\u001b[39mself\u001b[39;49m\u001b[39m.\u001b[39;49msexpath], stdout\u001b[39m=\u001b[39;49msubprocess\u001b[39m.\u001b[39;49mPIPE, stderr\u001b[39m=\u001b[39;49msubprocess\u001b[39m.\u001b[39;49mPIPE)\n\u001b[1;32m    162\u001b[0m \u001b[39mexcept\u001b[39;00m:\n",
      "File \u001b[0;32m/usr/lib/python3.8/subprocess.py:858\u001b[0m, in \u001b[0;36mPopen.__init__\u001b[0;34m(self, args, bufsize, executable, stdin, stdout, stderr, preexec_fn, close_fds, shell, cwd, env, universal_newlines, startupinfo, creationflags, restore_signals, start_new_session, pass_fds, encoding, errors, text)\u001b[0m\n\u001b[1;32m    855\u001b[0m             \u001b[39mself\u001b[39m\u001b[39m.\u001b[39mstderr \u001b[39m=\u001b[39m io\u001b[39m.\u001b[39mTextIOWrapper(\u001b[39mself\u001b[39m\u001b[39m.\u001b[39mstderr,\n\u001b[1;32m    856\u001b[0m                     encoding\u001b[39m=\u001b[39mencoding, errors\u001b[39m=\u001b[39merrors)\n\u001b[0;32m--> 858\u001b[0m     \u001b[39mself\u001b[39;49m\u001b[39m.\u001b[39;49m_execute_child(args, executable, preexec_fn, close_fds,\n\u001b[1;32m    859\u001b[0m                         pass_fds, cwd, env,\n\u001b[1;32m    860\u001b[0m                         startupinfo, creationflags, shell,\n\u001b[1;32m    861\u001b[0m                         p2cread, p2cwrite,\n\u001b[1;32m    862\u001b[0m                         c2pread, c2pwrite,\n\u001b[1;32m    863\u001b[0m                         errread, errwrite,\n\u001b[1;32m    864\u001b[0m                         restore_signals, start_new_session)\n\u001b[1;32m    865\u001b[0m \u001b[39mexcept\u001b[39;00m:\n\u001b[1;32m    866\u001b[0m     \u001b[39m# Cleanup if the child failed starting.\u001b[39;00m\n",
      "File \u001b[0;32m/usr/lib/python3.8/subprocess.py:1704\u001b[0m, in \u001b[0;36mPopen._execute_child\u001b[0;34m(self, args, executable, preexec_fn, close_fds, pass_fds, cwd, env, startupinfo, creationflags, shell, p2cread, p2cwrite, c2pread, c2pwrite, errread, errwrite, restore_signals, start_new_session)\u001b[0m\n\u001b[1;32m   1703\u001b[0m         err_msg \u001b[39m=\u001b[39m os\u001b[39m.\u001b[39mstrerror(errno_num)\n\u001b[0;32m-> 1704\u001b[0m     \u001b[39mraise\u001b[39;00m child_exception_type(errno_num, err_msg, err_filename)\n\u001b[1;32m   1705\u001b[0m \u001b[39mraise\u001b[39;00m child_exception_type(err_msg)\n",
      "\u001b[0;31mFileNotFoundError\u001b[0m: [Errno 2] No such file or directory: 'sex'",
      "\nDuring handling of the above exception, another exception occurred:\n",
      "\u001b[0;31mRuntimeError\u001b[0m                              Traceback (most recent call last)",
      "Cell \u001b[0;32mIn [4], line 2\u001b[0m\n\u001b[1;32m      1\u001b[0m \u001b[39mimport\u001b[39;00m \u001b[39msewpy\u001b[39;00m\n\u001b[0;32m----> 2\u001b[0m sew \u001b[39m=\u001b[39m sewpy\u001b[39m.\u001b[39;49mSEW(params\u001b[39m=\u001b[39;49m[\u001b[39m\"\u001b[39;49m\u001b[39mX_IMAGE\u001b[39;49m\u001b[39m\"\u001b[39;49m, \u001b[39m\"\u001b[39;49m\u001b[39mY_IMAGE\u001b[39;49m\u001b[39m\"\u001b[39;49m, \u001b[39m\"\u001b[39;49m\u001b[39mFLUX_RADIUS(3)\u001b[39;49m\u001b[39m\"\u001b[39;49m, \u001b[39m\"\u001b[39;49m\u001b[39mFLAGS\u001b[39;49m\u001b[39m\"\u001b[39;49m],\n\u001b[1;32m      3\u001b[0m         config\u001b[39m=\u001b[39;49m{\u001b[39m\"\u001b[39;49m\u001b[39mDETECT_MINAREA\u001b[39;49m\u001b[39m\"\u001b[39;49m:\u001b[39m10\u001b[39;49m, \u001b[39m\"\u001b[39;49m\u001b[39mPHOT_FLUXFRAC\u001b[39;49m\u001b[39m\"\u001b[39;49m:\u001b[39m\"\u001b[39;49m\u001b[39m0.3, 0.5, 0.8\u001b[39;49m\u001b[39m\"\u001b[39;49m})\n\u001b[1;32m      4\u001b[0m out \u001b[39m=\u001b[39m sew(\u001b[39m\"\u001b[39m\u001b[39m/mnt/c/Users/yyush/Documents/GitHub/COMICS/practicedata/COMA00010946.fits\u001b[39m\u001b[39m\"\u001b[39m)\n\u001b[1;32m      5\u001b[0m \u001b[39mprint\u001b[39m(out[\u001b[39m\"\u001b[39m\u001b[39mtable\u001b[39m\u001b[39m\"\u001b[39m]) \u001b[39m# this is an astropy table.\u001b[39;00m\n",
      "File \u001b[0;32m~/.local/lib/python3.8/site-packages/sewpy/sewpy.py:112\u001b[0m, in \u001b[0;36mSEW.__init__\u001b[0;34m(self, workdir, sexpath, params, config, configfilepath, nice, loglevel)\u001b[0m\n\u001b[1;32m    109\u001b[0m \u001b[39mself\u001b[39m\u001b[39m.\u001b[39mconfigfilepath \u001b[39m=\u001b[39m configfilepath\n\u001b[1;32m    110\u001b[0m \u001b[39mself\u001b[39m\u001b[39m.\u001b[39mnice \u001b[39m=\u001b[39m nice\n\u001b[0;32m--> 112\u001b[0m logger\u001b[39m.\u001b[39minfo(\u001b[39m\"\u001b[39m\u001b[39mSExtractor version is \u001b[39m\u001b[39m%s\u001b[39;00m\u001b[39m\"\u001b[39m \u001b[39m%\u001b[39m (\u001b[39mself\u001b[39;49m\u001b[39m.\u001b[39;49mget_version()))\n\u001b[1;32m    114\u001b[0m \u001b[39m# ... and the workdir\u001b[39;00m\n\u001b[1;32m    116\u001b[0m \u001b[39mif\u001b[39;00m workdir \u001b[39mis\u001b[39;00m \u001b[39mnot\u001b[39;00m \u001b[39mNone\u001b[39;00m:\n",
      "File \u001b[0;32m~/.local/lib/python3.8/site-packages/sewpy/sewpy.py:163\u001b[0m, in \u001b[0;36mSEW.get_version\u001b[0;34m(self)\u001b[0m\n\u001b[1;32m    161\u001b[0m \tp \u001b[39m=\u001b[39m subprocess\u001b[39m.\u001b[39mPopen([\u001b[39mself\u001b[39m\u001b[39m.\u001b[39msexpath], stdout\u001b[39m=\u001b[39msubprocess\u001b[39m.\u001b[39mPIPE, stderr\u001b[39m=\u001b[39msubprocess\u001b[39m.\u001b[39mPIPE)\n\u001b[1;32m    162\u001b[0m \u001b[39mexcept\u001b[39;00m:\n\u001b[0;32m--> 163\u001b[0m \t\u001b[39mraise\u001b[39;00m \u001b[39mRuntimeError\u001b[39;00m(\u001b[39m\"\u001b[39m\u001b[39mCould not run SExtractor. Is the path \u001b[39m\u001b[39m'\u001b[39m\u001b[39m%s\u001b[39;00m\u001b[39m'\u001b[39m\u001b[39m correct ? If not, specify sexpath=\u001b[39m\u001b[39m'\u001b[39m\u001b[39m/path/to/sextractor\u001b[39m\u001b[39m'\u001b[39m\u001b[39m\"\u001b[39m \u001b[39m%\u001b[39m \u001b[39mself\u001b[39m\u001b[39m.\u001b[39msexpath)\n\u001b[1;32m    164\u001b[0m out, err \u001b[39m=\u001b[39m p\u001b[39m.\u001b[39mcommunicate()\n\u001b[1;32m    165\u001b[0m version_match \u001b[39m=\u001b[39m re\u001b[39m.\u001b[39msearch(\u001b[39m\"\u001b[39m\u001b[39m[Vv]ersion ([0-9\u001b[39m\u001b[39m\\\u001b[39m\u001b[39m.])+\u001b[39m\u001b[39m\"\u001b[39m, err\u001b[39m.\u001b[39mdecode(encoding\u001b[39m=\u001b[39m\u001b[39m'\u001b[39m\u001b[39mUTF-8\u001b[39m\u001b[39m'\u001b[39m))\n",
      "\u001b[0;31mRuntimeError\u001b[0m: Could not run SExtractor. Is the path 'sex' correct ? If not, specify sexpath='/path/to/sextractor'"
     ]
    }
   ],
   "source": [
    "import sewpy\n",
    "sew = sewpy.SEW(params=[\"X_IMAGE\", \"Y_IMAGE\", \"FLUX_RADIUS(3)\", \"FLAGS\"],\n",
    "        config={\"DETECT_MINAREA\":10, \"PHOT_FLUXFRAC\":\"0.3, 0.5, 0.8\"})\n",
    "out = sew(\"/mnt/c/Users/yyush/Documents/GitHub/COMICS/practicedata/COMA00010946.fits\")\n",
    "print(out[\"table\"]) # this is an astropy table."
   ]
  },
  {
   "cell_type": "markdown",
   "metadata": {},
   "source": [
    "## 4. 天体画像を与えたときにダークを探す"
   ]
  },
  {
   "cell_type": "code",
   "execution_count": null,
   "metadata": {},
   "outputs": [],
   "source": [
    "#for example \n",
    "obsfile = \n",
    "obsheader = readheader(obsfile)"
   ]
  },
  {
   "cell_type": "markdown",
   "metadata": {},
   "source": []
  }
 ],
 "metadata": {
  "kernelspec": {
   "display_name": "Python 3",
   "language": "python",
   "name": "python3"
  },
  "language_info": {
   "codemirror_mode": {
    "name": "ipython",
    "version": 3
   },
   "file_extension": ".py",
   "mimetype": "text/x-python",
   "name": "python",
   "nbconvert_exporter": "python",
   "pygments_lexer": "ipython3",
   "version": "3.8.10 (default, Jun 22 2022, 20:18:18) \n[GCC 9.4.0]"
  },
  "orig_nbformat": 4,
  "vscode": {
   "interpreter": {
    "hash": "916dbcbb3f70747c44a77c7bcd40155683ae19c65e1c03b4aa3499c5328201f1"
   }
  }
 },
 "nbformat": 4,
 "nbformat_minor": 2
}
