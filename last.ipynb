{
 "cells": [
  {
   "cell_type": "code",
   "execution_count": 1,
   "metadata": {},
   "outputs": [
    {
     "name": "stdout",
     "output_type": "stream",
     "text": [
      "/bin/python3\n"
     ]
    }
   ],
   "source": [
    "import sys \n",
    "print(sys.executable)"
   ]
  },
  {
   "attachments": {},
   "cell_type": "markdown",
   "metadata": {},
   "source": [
    "## 全体の流れ \n",
    "①年ごとにわけたフォルダを作成。  \n",
    "②それぞれの年の中で、ダークのフォルダを作成  \n",
    "③ダークのフォルダから、必要情報をまとめたデータフレームあるいは、csvファイルを作成しておく  \n",
    "この際、ダーク画像もダークフォルダへ移動\n",
    "\n",
    "④天体画像を選択(いったんパス付きで指定したとする)  \n",
    "⑤天体画像の日付等から、csvファイルを開き、ダークを探す  \n",
    "⑥該当のダークファイルが見つかれば、そのファイル名をリストに格納。  \n",
    "⑦ダーク処理を行う  \n",
    "⑧COMQ画像を取得する。  "
   ]
  },
  {
   "cell_type": "markdown",
   "metadata": {},
   "source": [
    "## 関数の定義"
   ]
  },
  {
   "cell_type": "code",
   "execution_count": 2,
   "metadata": {},
   "outputs": [],
   "source": [
    "import astropy.io.fits as fits\n",
    "import numpy as np\n",
    "import glob\n",
    "import os\n",
    "from scipy.ndimage import gaussian_filter\n",
    "import pandas as pd\n",
    "import shutil\n",
    "\n",
    "\n",
    "def readheader(filename):\n",
    "    return fits.open(filename)[0].header\n",
    "\n",
    "\n",
    "def readdata(filename):\n",
    "    return fits.open(filename)[0].data\n",
    "#関数の定義\n",
    "def readheader(filename):\n",
    "    return fits.open(filename)[0].header\n",
    "\n",
    "def readdata(filename):\n",
    "    return fits.open(filename)[0].data\n",
    "\n",
    "def q_bsep_posi(input):\n",
    "    return input[:,::2,:,:]\n",
    "def q_bsep_nega(input):\n",
    "    return input[:,1::2,:,:]   \n",
    "#z方向平均\n",
    "def mean_z(input):\n",
    "    return np.mean(input, axis=1, keepdims=True)\n",
    "\n",
    "#gaussian filter\n",
    "\n",
    "\n",
    "def gaussfilter(input):\n",
    "    output = gaussian_filter(input[0, 0, :, :], sigma=6, order=0,\n",
    "                             output=None, mode='nearest', cval=0.0, truncate=4.0)\n",
    "    return output\n",
    "\n",
    "\n",
    "def q_subch(input):\n",
    "    #z方向については、COMQは1となっているはずである。\n",
    "    input_dim2 = input[0, 0, :, :]\n",
    "    #x軸方向に20*240と分割し、z方向に積み上げる\n",
    "\n",
    "    divstack = np.stack(np.split(input_dim2, 16, axis=1))\n",
    "    #z方向にmedianをとり、20*240をtileして320*240にする\n",
    "    beforetile = np.median(divstack, axis=0)  # keepdimsは不要(二次元でいい)\n",
    "    tilemedian = np.tile(beforetile, 16)\n",
    "    # print(tilemedian.shape)\n",
    "    input_to_output = input.copy()\n",
    "    input_to_output[0, 0, :, :] -= tilemedian\n",
    "    # input_to_output[0, 0, :, :] = 1\n",
    "    return input_to_output\n",
    "\n",
    "#fitsファイル作成用\n",
    "\n",
    "def makefits(dataname, filename):\n",
    "    hdu = fits.PrimaryHDU(data=dataname)\n",
    "    fits.HDUList([hdu]).writeto(str(filename), overwrite=True)"
   ]
  },
  {
   "attachments": {},
   "cell_type": "markdown",
   "metadata": {},
   "source": [
    "## dark特定"
   ]
  },
  {
   "attachments": {},
   "cell_type": "markdown",
   "metadata": {},
   "source": [
    "処理手順  \n",
    "ダークの名前を読み込むためのリスト作成   \n",
    "ダークを特定して、データフレームに必要な情報を入れる  \n",
    "そのcsvを該当の年のフォルダに移す  "
   ]
  },
  {
   "cell_type": "code",
   "execution_count": 99,
   "metadata": {},
   "outputs": [],
   "source": [
    "# 一年分のデータのフレームリストのうち、ダークのファイル名取得\n",
    "import pandas as pd\n",
    "year = \"2003\"\n",
    "basefolder = r'/mnt/e/DataFrame/'\n",
    "allframe = pd.read_excel(basefolder + \"COM_\"+year+\".xlsx\", skiprows=0)\n",
    "allframe.dropna(how=\"all\", axis=0)\n",
    "darkframe = allframe[(allframe[\"DATA_TYP\"].str.contains(\"DARK\")) |\n",
    "                     (allframe[\"OBJECT2\"].str.contains(\"DARK\"))]\n",
    "darkframe = darkframe.reset_index(drop=True)\n",
    "darkframe.to_csv(r'/mnt/e/DataFrame/dark/darkframe_' +\n",
    "                 year + r'.csv', encoding=\"utf-8\")\n"
   ]
  },
  {
   "attachments": {},
   "cell_type": "markdown",
   "metadata": {},
   "source": [
    "COMAのファイルから、ダークのヘッダーを読み込み必要な情報を取得する。  \n",
    "データフレームに格納する  \n",
    "また、dark画像をdarkフォルダを作成して移動する。  "
   ]
  },
  {
   "cell_type": "code",
   "execution_count": 100,
   "metadata": {},
   "outputs": [],
   "source": [
    "# darkの情報を書いたcsvを作成する。\n",
    "year = \"2003\"\n",
    "basefolder = r'/mnt/e/'+year + r'/'\n",
    "darkdf = pd.DataFrame(\n",
    "    columns=[\"FRAME_ID\", \"DATE\", \"PIXTIM\", \"RRSTRT\", \"YSTRT\", \"CoAdd\", \"Q_CHEB\"])\n",
    "# for文に回すのはあとで\n",
    "for darkfile in darkframe[\"#FRAME_ID\"]:\n",
    "    # header読み込み\n",
    "    darkfilepath = basefolder + darkfile + \".fits\"\n",
    "    darkheader = readheader(darkfilepath)\n",
    "\n",
    "    list1 = [darkheader[\"FRAMEID\"], darkheader[\"DATE-OBS\"], darkheader[\"Q_PIXTIM\"],\n",
    "            darkheader[\"Q_RRSTRT\"], darkheader[\"Q_YSTRT\"],darkheader[\"Q_CHAM\"], darkheader[\"Q_CHEB\"]]\n",
    "    add_row = pd.DataFrame([list1], columns=darkdf.columns)\n",
    "    darkdf = pd.concat([darkdf, add_row], ignore_index=True)\n",
    "    #dark画像を移動\n",
    "    os.makedirs(basefolder+r'dark',exist_ok=True)\n",
    "    shutil.move(darkfilepath, basefolder+r'dark/')\n",
    "# darkdf"
   ]
  },
  {
   "cell_type": "code",
   "execution_count": 101,
   "metadata": {},
   "outputs": [],
   "source": [
    "#csvにする\n",
    "basefolder = r'/mnt/e/'+year + r'/'\n",
    "darkdf.to_csv(basefolder+r'dark/dark.csv', index=False, encoding=\"utf-8\")\n"
   ]
  },
  {
   "cell_type": "code",
   "execution_count": 102,
   "metadata": {},
   "outputs": [
    {
     "data": {
      "text/html": [
       "<div>\n",
       "<style scoped>\n",
       "    .dataframe tbody tr th:only-of-type {\n",
       "        vertical-align: middle;\n",
       "    }\n",
       "\n",
       "    .dataframe tbody tr th {\n",
       "        vertical-align: top;\n",
       "    }\n",
       "\n",
       "    .dataframe thead th {\n",
       "        text-align: right;\n",
       "    }\n",
       "</style>\n",
       "<table border=\"1\" class=\"dataframe\">\n",
       "  <thead>\n",
       "    <tr style=\"text-align: right;\">\n",
       "      <th></th>\n",
       "      <th>FRAME_ID</th>\n",
       "      <th>DATE</th>\n",
       "      <th>PIXTIM</th>\n",
       "      <th>RRSTRT</th>\n",
       "      <th>YSTRT</th>\n",
       "      <th>CoAdd</th>\n",
       "      <th>Q_CHEB</th>\n",
       "    </tr>\n",
       "  </thead>\n",
       "  <tbody>\n",
       "    <tr>\n",
       "      <th>0</th>\n",
       "      <td>COMA00037345</td>\n",
       "      <td>2003-06-17</td>\n",
       "      <td>30</td>\n",
       "      <td>1</td>\n",
       "      <td>1</td>\n",
       "      <td>1</td>\n",
       "      <td>1</td>\n",
       "    </tr>\n",
       "    <tr>\n",
       "      <th>1</th>\n",
       "      <td>COMA00037347</td>\n",
       "      <td>2003-06-17</td>\n",
       "      <td>30</td>\n",
       "      <td>1</td>\n",
       "      <td>40</td>\n",
       "      <td>1</td>\n",
       "      <td>1</td>\n",
       "    </tr>\n",
       "    <tr>\n",
       "      <th>2</th>\n",
       "      <td>COMA00037349</td>\n",
       "      <td>2003-06-17</td>\n",
       "      <td>30</td>\n",
       "      <td>1</td>\n",
       "      <td>40</td>\n",
       "      <td>1</td>\n",
       "      <td>1</td>\n",
       "    </tr>\n",
       "    <tr>\n",
       "      <th>3</th>\n",
       "      <td>COMA00037351</td>\n",
       "      <td>2003-06-17</td>\n",
       "      <td>30</td>\n",
       "      <td>1</td>\n",
       "      <td>40</td>\n",
       "      <td>1</td>\n",
       "      <td>1</td>\n",
       "    </tr>\n",
       "    <tr>\n",
       "      <th>4</th>\n",
       "      <td>COMA00037353</td>\n",
       "      <td>2003-06-17</td>\n",
       "      <td>30</td>\n",
       "      <td>1</td>\n",
       "      <td>40</td>\n",
       "      <td>1</td>\n",
       "      <td>1</td>\n",
       "    </tr>\n",
       "    <tr>\n",
       "      <th>...</th>\n",
       "      <td>...</td>\n",
       "      <td>...</td>\n",
       "      <td>...</td>\n",
       "      <td>...</td>\n",
       "      <td>...</td>\n",
       "      <td>...</td>\n",
       "      <td>...</td>\n",
       "    </tr>\n",
       "    <tr>\n",
       "      <th>263</th>\n",
       "      <td>COMA00044596</td>\n",
       "      <td>2003-12-12</td>\n",
       "      <td>150</td>\n",
       "      <td>1</td>\n",
       "      <td>1</td>\n",
       "      <td>1</td>\n",
       "      <td>32</td>\n",
       "    </tr>\n",
       "    <tr>\n",
       "      <th>264</th>\n",
       "      <td>COMA00044597</td>\n",
       "      <td>2003-12-12</td>\n",
       "      <td>50</td>\n",
       "      <td>1</td>\n",
       "      <td>1</td>\n",
       "      <td>1</td>\n",
       "      <td>96</td>\n",
       "    </tr>\n",
       "    <tr>\n",
       "      <th>265</th>\n",
       "      <td>COMA00044598</td>\n",
       "      <td>2003-12-12</td>\n",
       "      <td>150</td>\n",
       "      <td>1</td>\n",
       "      <td>1</td>\n",
       "      <td>1</td>\n",
       "      <td>32</td>\n",
       "    </tr>\n",
       "    <tr>\n",
       "      <th>266</th>\n",
       "      <td>COMA00044599</td>\n",
       "      <td>2003-12-12</td>\n",
       "      <td>50</td>\n",
       "      <td>1</td>\n",
       "      <td>1</td>\n",
       "      <td>1</td>\n",
       "      <td>96</td>\n",
       "    </tr>\n",
       "    <tr>\n",
       "      <th>267</th>\n",
       "      <td>COMA00044600</td>\n",
       "      <td>2003-12-12</td>\n",
       "      <td>150</td>\n",
       "      <td>1</td>\n",
       "      <td>1</td>\n",
       "      <td>1</td>\n",
       "      <td>32</td>\n",
       "    </tr>\n",
       "  </tbody>\n",
       "</table>\n",
       "<p>268 rows × 7 columns</p>\n",
       "</div>"
      ],
      "text/plain": [
       "         FRAME_ID        DATE PIXTIM RRSTRT YSTRT CoAdd Q_CHEB\n",
       "0    COMA00037345  2003-06-17     30      1     1     1      1\n",
       "1    COMA00037347  2003-06-17     30      1    40     1      1\n",
       "2    COMA00037349  2003-06-17     30      1    40     1      1\n",
       "3    COMA00037351  2003-06-17     30      1    40     1      1\n",
       "4    COMA00037353  2003-06-17     30      1    40     1      1\n",
       "..            ...         ...    ...    ...   ...   ...    ...\n",
       "263  COMA00044596  2003-12-12    150      1     1     1     32\n",
       "264  COMA00044597  2003-12-12     50      1     1     1     96\n",
       "265  COMA00044598  2003-12-12    150      1     1     1     32\n",
       "266  COMA00044599  2003-12-12     50      1     1     1     96\n",
       "267  COMA00044600  2003-12-12    150      1     1     1     32\n",
       "\n",
       "[268 rows x 7 columns]"
      ]
     },
     "execution_count": 102,
     "metadata": {},
     "output_type": "execute_result"
    }
   ],
   "source": []
  },
  {
   "cell_type": "code",
   "execution_count": 88,
   "metadata": {},
   "outputs": [],
   "source": [
    "darkcsv = basefolder+r'dark/dark.csv'"
   ]
  },
  {
   "cell_type": "code",
   "execution_count": 24,
   "metadata": {},
   "outputs": [],
   "source": [
    "#\"Q_YSTRT\"がないため、いったん全バージョンはここにおいておく\n",
    "# darkdf = pd.DataFrame(\n",
    "#     columns=[\"FRAME_ID\", \"DATE\", \"PIXTIM\", \"RRSTRT\", \"YSTRT\", \"CoAdd\", \"Q_CHEB\"])\n",
    "# for darkfile in darkframe[\"#FRAME_ID\"]:\n",
    "#     # header読み込み\n",
    "#     darkfilepath = basefolder + darkfile + \".fits\"\n",
    "#     darkheader = readheader(darkfilepath)\n",
    "\n",
    "#     list1 = [darkheader[\"FRAMEID\"], darkheader[\"DATE-OBS\"], darkheader[\"Q_PIXTIM\"],\n",
    "#             darkheader[\"Q_RRSTRT\"], darkheader[\"Q_YSTRT\"], darkheader[\"Q_CHAM\"], darkheader[\"Q_CHEB\"]]\n",
    "#     add_row = pd.DataFrame([list1], columns=darkdf.columns)\n",
    "#     darkdf = pd.concat([darkdf, add_row], ignore_index=True)\n",
    "# darkdf\n"
   ]
  },
  {
   "cell_type": "code",
   "execution_count": 83,
   "metadata": {},
   "outputs": [
    {
     "data": {
      "text/plain": [
       "SIMPLE  =                    T / Standard FITS format                           \n",
       "BITPIX  =                   16 / # of bits per pixel                            \n",
       "NAXIS   =                    4 / of axis in frame                               \n",
       "NAXIS1  =                  320 / # of pixels/row                                \n",
       "NAXIS2  =                  241 / # of rows                                      \n",
       "NAXIS3  =                    1 / # of frames                                    \n",
       "NAXIS4  =                    1 / # of detectors                                 \n",
       "EXTEND  =                    F / ASCII Extension Table                          \n",
       "COMMENT   = ' +++++++++++++++++++ SUBARU COMMON'                                \n",
       "COMMENT   = ' ------------------------- About This DATA'                        \n",
       "FRAMEID = 'COMA00009908'       /  Data Serial Num of COMICS A-sequence          \n",
       "EXP-ID  = 'COME00009908'       /  Exporsure ID                                  \n",
       "OBS-ALOC= 'Standby '           /  Allocation Mode                               \n",
       "COMMENT   = ' ------------------------- Observation ID'                         \n",
       "OBSERVER= 'Miyata  '           /  Observers                                     \n",
       "PROP-ID = 'o99001  '           /  Proposal ID                                   \n",
       "OBSERVAT= 'NAOJ    '           /  Observatory                                   \n",
       "TELESCOP= 'Subaru  '           /  Telescope name                                \n",
       "INSTRUME= 'COMICS  '           /  Instrument                                    \n",
       "INS-VER = '2000-02-29'         /  Version of the instrument                     \n",
       "DETECTOR= 'Si:As IBC-104 SG'   /  Name of the detector/CCD                      \n",
       "COMMENT   = ' ------------------------- Telescope Settings'                     \n",
       "FOC-POS = 'Cassegrain'         /  Focus where the instrument is attached        \n",
       "TELFOCUS= 'Nasmyth-OPT'        /  Focus where a beam is reachable               \n",
       "FOC-LEN =           100000.111 / Focal length of the telescope (mm)             \n",
       "FOC-VAL =                0.000 / Encoder value of the focus unit (mm)           \n",
       "INSROT  =                0.000 / Instrument Rotator angle (deg)                 \n",
       "INST-PA =               89.936 / Instrument Rotator P.A. (deg)                  \n",
       "AUTOGUID= 'OFF     '           /  Auto Guider on/off                            \n",
       "M2-TYPE = 'CS_IR   '           /  Type of the Secondary Mirror (Opt/IR)         \n",
       "M2-TIP  = 'CHOPPING'           /  2nd Mirror tip-tilt on/off                    \n",
       "M2-ANG1 =               -0.981 / 2nd Mirror Angle-1                             \n",
       "M2-ANG2 =               -0.063 / 2nd Mirror Angle-2                             \n",
       "M2-POS1 =                0.103 / 2nd Mirror Position-1                          \n",
       "M2-POS2 =               -1.633 / 2nd Mirror Position-2                          \n",
       "COMMENT   = ' ------------------------- Size, Coordinate etc..'                 \n",
       "DETPXSZ1=               0.0500 / Detector pixel size in axis1 (mm)              \n",
       "DETPXSZ2=               0.0500 / Detector pixel size in axis2 (mm)              \n",
       "CDELT1  =           0.00003611 / X Scale projected on detector(#/pix)           \n",
       "CDELT2  =           0.00003611 / Y scale projected on detector(#/pix)           \n",
       "CTYPE1  = 'RA---TAN'           /  Pixel coordinate system                       \n",
       "CTYPE2  = 'DEC--TAN'           /  Pixel coordinate system                       \n",
       "CUNIT1  = 'degree  '           /  Units used in both CRVAL1 and CDELT1          \n",
       "CUNIT2  = 'degree  '           /  Units used in both CRVAL2 and CDELT2          \n",
       "CRPIX1  =                120.0 / Reference pixel in X (pixel,IMG)               \n",
       "CRPIX2  =                160.0 / Reference pixel in Y (pixel,IMG)               \n",
       "PROJP1  =                  0.0 / Projection type of the first axis              \n",
       "PROJP2  =                  0.0 / Projection type of the second axis             \n",
       "PC001001=           0.00111701 / Pixel Coordinate translation matrix            \n",
       "PC001002=           0.99999938 / Pixel Coordinate translation matrix            \n",
       "PC002001=          -0.99999938 / Pixel Coordinate translation matrix            \n",
       "PC002002=           0.00111701 / Pixel Coordinate translation matrix            \n",
       "BSCALE  =           1.00000000 / Real=fits-value*BSCALE+BZERO                   \n",
       "BZERO   =           0.00000000 / Real=fits-value*BSCALE+BZERO                   \n",
       "BUNIT   = 'ADU     '           /  Unit of original pixel values                 \n",
       "BLANK   =                    0 / Value used for NULL pixels                     \n",
       "WCS-ORIG= 'comics19991124'     /  Origin of the WCS value                       \n",
       "COMMENT   = '  (So far, WCS parameters are incorrect)'                          \n",
       "COMMENT   = ' ------------------------- Date'                                   \n",
       "TIMESYS = 'UTC     '           /  Time System used in the header. UTC fix.      \n",
       "DATE-OBS= '2000-06-19'         /  yyyy-mm-dd UTC obs start date                 \n",
       "UT      = '21:04:40.000'       /  HH:MM:SS.SSS Universal Time                   \n",
       "HST     = '11:04:40.000'       /  HH:MM:SS.SSS HST ?                            \n",
       "UT1-UTC =           0.20566000 / UT1-UTC                                        \n",
       "LST     = '04:36:19.389'       /  HH:MM:SS.SSS HST                              \n",
       "MJD     =       51714.87824312 / Modified Julian Date                           \n",
       "COMMENT   = ' ------------------------- Object'                                 \n",
       "DATA-TYP= 'OBJECT  '           /  Type of this data                             \n",
       "RADECSYS= 'FK5     '           /  The equatorial coordinate system              \n",
       "OBJECT  = 'TEST4   '           /  Target Description                            \n",
       "EQUINOX =               2000.0 / Equinox                                        \n",
       "RA      = '08:01:24.419'       /  HH:MM:SS.SSS RA pointing (given EQ)           \n",
       "RA2000  = '08:04:18.580'       /  HH:MM:SS.SSS RA pointing (J2000)              \n",
       "DEC     = '+19:39:16.61'       /  +/-DD:MM:SS.SS DEC pointing (given EQ)        \n",
       "DEC2000 = '+19:30:44.70'       /  +/-DD:MM:SS.SS DEC pointing (J2000)           \n",
       "AZIMUTH =             89.99940 / Azimuth of telescope pointing (degree)         \n",
       "ALTITUDE=             79.93632 / Altitude of telescope pointing(degree)         \n",
       "CRVAL1  =         160.00000000 / Physical value of the reference pixel X        \n",
       "CRVAL2  =         120.00000000 / Physical value of the reference pixel Y        \n",
       "AIRMASS =                1.016 / Air Mass                                       \n",
       "ZD      =             10.06367 / Zenith Distance                                \n",
       "SECZ    =                1.016 / SEC(Zenith Distance)                           \n",
       "LONGPOLE=                180.0 / The North Pole of standard system (deg)        \n",
       "COMMENT   = ' ------------------------- COMICS Optics'                          \n",
       "OBS-MOD = 'imaging '           /  Observation Mode                              \n",
       "FILTER01= 'F01C10.50W6.00'     /  Filter name/ID (pre-opt filter-1)             \n",
       "FILTER02= 'H21     '           /  Filter name/ID (pre-opt filter-2)             \n",
       "FILTER03= 'D12     '           /  Filter name/ID (img-opt filter)               \n",
       "FILTER04= 'L01L10I '           /  Lens  name/ID (img-opt)                       \n",
       "DISPERSR= 'G01L10L '           /  Identifier of the disperser used              \n",
       "SLIT    = 'S02W160 '           /  Identifier of the slit                        \n",
       "SLT-LEN =               39.600 / Length of the slit used                        \n",
       "SLT-PA  =                  0.0 / Slit Position Angle (degree)                   \n",
       "SLT-WID =                0.330 / Width of the slit used                         \n",
       "SLTCPIX1=                120.0 / Slit center projected on detector(pix)         \n",
       "SLTCPIX2=                160.0 / Slit center projected on detector(pix)         \n",
       "COMMENT   = ' ------------------------- COMICS Detector'                        \n",
       "EXPTIME =                 0.00 / Total integration time per frame(sec)          \n",
       "DET-TMP =                 5.79 / Detector temperature (K)                       \n",
       "GAIN    =              350.000 / AD conversion factor (electron/ADU)            \n",
       "PRD-MIN1=                    1 / Start X pos. of partialy read out (pix)        \n",
       "PRD-MIN2=                    1 / Start Y pos. of partialy read out (pix)        \n",
       "PRD-RNG1=                  336 / X Range of partialy read out (pix)             \n",
       "PRD-RNG2=                  241 / Y Range of partialy read out (pix)             \n",
       "BIN-FCT1=                    1 / Binning factor of X axis (pixel)               \n",
       "BIN-FCT2=                    1 / Binning factor of Y axis (pixel)               \n",
       "COMMENT   = ' ------------------------- Weather Condition'                      \n",
       "WEATHER = 'Clear   '           /  Weather condition                             \n",
       "SEEING  =                 0.00 / Long integ PSF FWHM in optical (arcsec)        \n",
       "DOM-WND =                 0.00 / Wind speed in the dome (m/s)                   \n",
       "OUT-WND =                11.20 / Wind speed outside (m/s)                       \n",
       "DOM-TMP =               275.55 / Temperature measured in the dome (K)           \n",
       "OUT-TMP =               280.45 / Temperature measured outside dome (K)          \n",
       "DOM-HUM =                 16.3 / Humidity measured in the dome                  \n",
       "OUT-HUM =                  5.7 / Humidity measured outside dome                 \n",
       "DOM-PRS =               621.90 / Atmospheric pressure in the Dome (hpa)         \n",
       "OUT-PRS =               621.90 / Atmospheric pressure outside (hpa)             \n",
       "COMMENT   = ' +++++++++++++++++++ COMICS ORIGINAL'                              \n",
       "COMMENT   = ' ------------------------- Type of the data'                       \n",
       "Q_DTYPE = 'imaging '           /  type of this data  spec/img/slitview          \n",
       "Q_OBSID =                 9908 / Data Serial Num of COMICS A-sequence           \n",
       "COMMENT   = ' ------------------------- Pre-Optics'                             \n",
       "Q_WINDOW= 'W01Ge   '           /  Entrance Window                               \n",
       "Q_M1MOTA=                 1449 / Pulse count of 1st mir. outer frame            \n",
       "Q_M1MOTB=                 1765 / Pulse count of 1st mir. inner frame            \n",
       "Q_GRTPOS=                 4770 / Grating Position in pulse                      \n",
       "COMMENT   = ' ------------------------- Temperature '                           \n",
       "COMMENT   = ' (Not yet completed)'                                              \n",
       "Q_DETTPI= 'unknown '           /  COMICS DETECTOR TEMP IMAGING                  \n",
       "Q_CFTPI = '5.79    '           /  COMICS COLD FINGER TEMP IMAGING               \n",
       "Q_DETTS1= 'unknown '           /  COMICS DETECTOR TEMP SPEC POS-1               \n",
       "Q_DETTS2= 'unknown '           /  COMICS DETECTOR TEMP SPEC POS-2               \n",
       "Q_DETTS3= 'unknown '           /  COMICS DETECTOR TEMP SPEC POS-3               \n",
       "Q_DETTS4= 'unknown '           /  COMICS DETECTOR TEMP SPEC POS-4               \n",
       "Q_DETTS5= 'unknown '           /  COMICS DETECTOR TEMP SPEC POS-5               \n",
       "Q_CFTPS = '4.97    '           /  COMICS COLD FINGER TEMP SPEC                  \n",
       "Q_OPTTP = '29.87   '           /  COMICS OPTICS TEMP                            \n",
       "COMMENT   = ' ------------------------- Detector bias,clock'                    \n",
       "Q_IMCHIP= 'IBC-104 '           /  COMICS IMAGING CHIP ID                        \n",
       "Q_IMVSC = '-5.5310 '           /  COMICS IMAGING CHIP VSSCLK VOLTAGE            \n",
       "Q_IMVSS = '-5.4676 '           /  COMICS IMAGING CHIP VSS VOLTAGE               \n",
       "Q_IMBS0 = '-6.9009 '           /  COMICS IMAGING CHIP BIAS0 VOLTAGE             \n",
       "Q_IMBS1 = '-7.0108 '           /  COMICS IMAGING CHIP BIAS1 VOLTAGE             \n",
       "Q_IMBS2 = '-5.3112 '           /  COMICS IMAGING CHIP BIAS2 VOLTAGE             \n",
       "Q_IMBS3 = '-3.9117 '           /  COMICS IMAGING CHIP BIAS3 VOLTAGE             \n",
       "Q_IMBS4 = '-1.8125 '           /  COMICS IMAGING CHIP BIAS4 VOLTAGE             \n",
       "Q_IMBS5 = '-3.5079 '           /  COMICS IMAGING CHIP BIAS5 VOLTAGE             \n",
       "Q_IMBS6 = '-2.0091 '           /  COMICS IMAGING CHIP BIAS6 VOLTAGE             \n",
       "Q_IMBS7 = '-6.0067 '           /  COMICS IMAGING CHIP BIAS7 VOLTAGE             \n",
       "Q_IMBS8 = '-3.0112 '           /  COMICS IMAGING CHIP BIAS8 VOLTAGE             \n",
       "Q_IMBS9 = '-4.3091 '           /  COMICS IMAGING CHIP BIAS9 VOLTAGE             \n",
       "Q_IMCS00= '84.6    '           /  COMICS IMAGING CHIP CS00 CURRENT              \n",
       "Q_IMCS02= '296.0   '           /  COMICS IMAGING CHIP CS02 CURRENT              \n",
       "Q_IMCS03= '148.0   '           /  COMICS IMAGING CHIP CS03 CURRENT              \n",
       "Q_IMCS04= '148.0   '           /  COMICS IMAGING CHIP CS04 CURRENT              \n",
       "Q_CLKFL = '/home/comics/clock/test_8/802/t00050.234.00.001.00' /  Macro File    \n",
       "Q_CLKMN = 'StareRaw_A'         /  Clock Macro Pattern Name                      \n",
       "Q_CLKMCC= '        '           /  Macro Comment                                 \n",
       "Q_PIXTIM=                   50 / Clock duration for a pixel (0.1us)             \n",
       "Q_POSTAD=                    1 / Post AD time (0.1us)                           \n",
       "Q_RRSTRT=                  234 / Reset Row Start Width (ND)                     \n",
       "Q_CHWB  =                    0 / Wipe Exporsure Number in a Chop-beam           \n",
       "Q_CHEB  =                    1 / Exporsure Number in a Chop-beam                \n",
       "Q_CHCN  =                    1 / Chopping Number in this file                   \n",
       "Q_CHAM  =                    0 / Add Mode 1:RAW 2:ADD 3:ECO                     \n",
       "Q_CHOP  =                    0 / Chopping ON=1 OFF=0                            \n",
       "Q_DTST  =                    1 / Sort Flag (1:Sorted)                           \n",
       "Q_BANK  = 'A001-B000'          /  Enumeration of Bank and Frame#                \n",
       "COMMENT   = ' ------------------------- CHOPPING'                               \n",
       "Q_CHTHRW=                10.00 / Chopping Throw                                 \n",
       "Q_CHDEG =                 0.00 / Chopping Degree                                \n",
       "COMMENT   = ' ------------------------- FITS VERSION'                           \n",
       "Q_GETVER= '3.14    '           /  FITS header VERSION                           \n",
       "COMMENT -------------------------------------------------------------           \n",
       "COMMENT ------------   SMOKA (https://smoka.nao.ac.jp)   ------------           \n",
       "COMMENT -------------------------------------------------------------           \n",
       "COMMENT  This file is provided by SMOKA Ver.3.7 at Sat Dec 03 13:33:53 JST 2022."
      ]
     },
     "execution_count": 83,
     "metadata": {},
     "output_type": "execute_result"
    }
   ],
   "source": [
    "obsfilename = r'/mnt/e/'+year + r''\n",
    "header= readheader(obsfilename)\n",
    "header"
   ]
  },
  {
   "cell_type": "markdown",
   "metadata": {},
   "source": [
    "## 処理の中身"
   ]
  },
  {
   "cell_type": "code",
   "execution_count": 105,
   "metadata": {},
   "outputs": [],
   "source": [
    "#dark特定\n",
    "#makemeandark_1\n",
    "darkbasefolder =  r'/mnt/e/'+year + r'/dark/'\n",
    "\n",
    "darkdf = pd.read_csv(darkbasefolder+r'dark.csv')\n",
    "obsheader = readheader(obsfilename)\n",
    "Q_PIXTIM = obsheader[\"Q_PIXTIM\"]\n",
    "Q_RRSTRT = obsheader[\"Q_RRSTRT\"]\n",
    "DATE = obsheader[\"DATE-OBS\"]\n",
    "Q_YSTRT = obsheader[\"Q_YSTRT\"]\n",
    "A = (darkdf[\"PIXTIM\"] == Q_PIXTIM)\n",
    "B = (darkdf[\"RRSTRT\"] == Q_RRSTRT)\n",
    "C = (darkdf[\"DATE\"] == DATE)\n",
    "# CoAdd==0のものは省く\n",
    "# D= (darkdf[\"CoAdd\"] == 1)\n",
    "df = darkdf[A & B  & C ].reset_index(drop=True)\n",
    "# if (len(df) ==0):\n",
    "#     print(\"no dark images.\")\n",
    "#     continue"
   ]
  },
  {
   "cell_type": "code",
   "execution_count": 111,
   "metadata": {},
   "outputs": [
    {
     "data": {
      "text/plain": [
       "'2000'"
      ]
     },
     "execution_count": 111,
     "metadata": {},
     "output_type": "execute_result"
    }
   ],
   "source": [
    "obsheader[\"DATE-OBS\"][:4]"
   ]
  },
  {
   "cell_type": "code",
   "execution_count": 74,
   "metadata": {},
   "outputs": [
    {
     "data": {
      "text/plain": [
       "(1, 1, 241, 320)"
      ]
     },
     "execution_count": 74,
     "metadata": {},
     "output_type": "execute_result"
    }
   ],
   "source": [
    "obsdata = readdata(obsfilename)\n",
    "obsdata.shape\n",
    "# mean_dark_1を作成\n",
    "darkfile = darkbasefolder + df[\"FRAME_ID\"][0] + r'.fits'\n",
    "darkdata = np.zeros(list(obsdata.shape))\n",
    "length_of_dark = len(df)\n",
    "for darkfile in df[\"FRAME_ID\"]:\n",
    "    darkfilepath = darkbasefolder + darkfile + r'.fits'\n",
    "    darkdata += np.mean(readdata(darkfilepath), axis=1, keepdims=True)\n",
    "meandark = darkdata / length_of_dark\n",
    "meandark_1 = "
   ]
  },
  {
   "cell_type": "code",
   "execution_count": 108,
   "metadata": {},
   "outputs": [
    {
     "data": {
      "text/plain": [
       "(1, 6, 160, 320)"
      ]
     },
     "execution_count": 108,
     "metadata": {},
     "output_type": "execute_result"
    }
   ],
   "source": [
    "year =\"2003\"\n",
    "darkfile = darkbasefolder+ \"COMA00037347.fits\"\n",
    "\n",
    "darkdata = readdata(darkfile)\n",
    "darkdata.shape"
   ]
  },
  {
   "cell_type": "code",
   "execution_count": 43,
   "metadata": {},
   "outputs": [],
   "source": [
    "#darkをobsfileのQ_CHEB倍する"
   ]
  },
  {
   "cell_type": "code",
   "execution_count": 44,
   "metadata": {},
   "outputs": [],
   "source": [
    "#obsfileから差し引きのskydataを作成"
   ]
  },
  {
   "cell_type": "code",
   "execution_count": null,
   "metadata": {},
   "outputs": [],
   "source": [
    "#positiveとnegativeに分ける\n",
    "#CoAdd=1の場合と0の場合でやり方が異なる。\n",
    "#if CoAdd ==1:\n",
    "#"
   ]
  },
  {
   "cell_type": "code",
   "execution_count": null,
   "metadata": {},
   "outputs": [],
   "source": [
    "def process(obsfilename):\n",
    "    \"\"\"  \n",
    "    ここには天体画像から、ダークを特定する処理を記載する。上のセル参照\n",
    "    \n",
    "    \"\"\"\n",
    "    darkheader1 =\n",
    "    if (darkheader1[\"Q_CHAM\"] != 1) or (obsheader[\"Q_CHAM\"] != 1):\n",
    "        print(\"CoAdd Modeが1ではない。\")\n",
    "    elif darkheader1[\"Q_CHAM\"] == 1 and darkheader2[\"Q_CHAM\"] == 1:\n",
    "        darkfile1 = readdata(dark1)\n",
    "        darkfile2 = readdata(dark2)\n",
    "        meandark = (np.mean(dark1, axis=1, keepdims=True) +\n",
    "                    np.mean(dark2, axis=1, keepdims=True)) / 2\n",
    "        meandark_1 = meandark / int(darkheader1[\"Q_CHEB\"])\n",
    "\n",
    "        #darkの差し引き\n",
    "        #Q_CHEB倍する\n",
    "        obsdata = readdata(obsfilename)\n",
    "        meandark_obs = meandark_1 * obsheader[\"Q_CHEB\"]\n",
    "\n",
    "        skydata = obsdata - meandark_obs\n",
    "        skydata_p = q_bsep_posi(skydata)\n",
    "        skydata_n = q_bsep_nega(skydata)\n",
    "\n",
    "        #z方向平均\n",
    "        sky_pa = mean_z(skydata_p)\n",
    "        sky_na = mean_z(skydata_n)\n",
    "\n",
    "        #gaussian　平均\n",
    "        sky_paG = gaussfilter(sky_pa)\n",
    "        sky_naG = gaussfilter(sky_na)\n",
    "\n",
    "        #Flatの作成\n",
    "        sky_paF = sky_pa / sky_paG\n",
    "        sky_naF = sky_na / sky_naG\n",
    "\n",
    "        #Chop差し引きした、COMQ画像に対して、Flatで割る\n",
    "        comq_data = readdata(obs_comq)\n",
    "        obj_obs = q_subch(comq_data)\n",
    "\n",
    "        #Flatで割る\n",
    "        obj_obs_datP0 = obj_obs / sky_naF\n",
    "        obj_obs_datN0 = obj_obs / sky_paF\n",
    "\n",
    "        makefits(obj_obs_datP0, \"./out/obj\" +\n",
    "                 str(obsfilename[-10:-5]) + \"_datP0.fits\")\n",
    "        makefits(obj_obs_datN0, \"./out/obj\" +\n",
    "                 str(obsfilename[-10:-5]) + \"_datN0.fits\")\n"
   ]
  },
  {
   "cell_type": "markdown",
   "metadata": {},
   "source": [
    "## 1. 年ごとにわけたフォルダの作成\n",
    "データの申請段階で年ごとに行なっているので、ファイル名を変えるのみ。"
   ]
  },
  {
   "cell_type": "markdown",
   "metadata": {},
   "source": [
    "## 2. ダークのフォルダを作成\n",
    "これは、それぞれの年ごとのフレームリストから、該当のファイルをとってきて、フォルダを移動させる。"
   ]
  },
  {
   "cell_type": "code",
   "execution_count": null,
   "metadata": {},
   "outputs": [],
   "source": [
    "#for example 2009年度のもの\n",
    "folderpath = r'D:\\2009-01-13'\n",
    "judgedarkfile = r'./DataFrame/COM_2009.xlsx'\n",
    "\n",
    "frameall = pd.read_excel(judgedarkfile)\n",
    "#1行目は不要なので削除\n",
    "frameall = frameall.dropna(how=\"all\", axis=0)\n",
    "darkframe = frameall[(frameall[\"DATA_TYP\"] == \"DARK\") |\n",
    "                     (frameall[\"OBJECT2\"] == \"DARK\")]\n",
    "#indexをリセット\n",
    "darkframe = darkframe.reset_index(drop=True)\n",
    "\n",
    "\n",
    "#filepath\n",
    "filepath = r\"D:\\2009\"\n",
    "filelist = glob.glob(filepath+\"\\*\")\n",
    "#ダークのフォルダを作成。\n",
    "os.makedirs(r\"D:\\2009\\DARK\", exist_ok=True)\n",
    "#darkの名前を取得\n",
    "for dark in darkframe[\"#FRAME_ID\"]:\n",
    "    #filename作成\n",
    "    name = filepath +\"\\\\\"+ str(dark) +\".fits\"\n",
    "    #移動\n",
    "    if name in filelist:\n",
    "        shutil.move(name, filepath+\"\\\\DARK\\\\\" + str(dark) +\".fits\")"
   ]
  },
  {
   "cell_type": "markdown",
   "metadata": {},
   "source": []
  },
  {
   "cell_type": "markdown",
   "metadata": {},
   "source": [
    "## 3. ダークフォルダから、必要な情報をまとめたデータフレームを作成"
   ]
  },
  {
   "cell_type": "code",
   "execution_count": null,
   "metadata": {},
   "outputs": [],
   "source": [
    "#for example 2009年の場合\n",
    "darkfolderpath = r\"D:\\2009\\DARK\"\n",
    "#darkのファイル名を取得\n",
    "darkfilelist = glob.glob(darkfolderpath+\"\\\\*\")\n",
    "#データフレーム作成。\n",
    "darkdf = pd.DataFrame(columns=[\"FRRAME_ID\", \"DATE\", \"PIXTIM\", \"RRSTRT\", \"YSTRT\", \"CoAdd\"])\n",
    "for darkfile in darkfilelist:\n",
    "    darkheader = readheader(darkfile)\n",
    "\n",
    "    list1 = [darkheader[\"FRAMEID\"], darkheader[\"DATE-OBS\"], darkheader[\"Q_PIXTIM\"],\n",
    "            darkheader[\"Q_RRSTRT\"], darkheader[\"Q_YSTRT\"], darkheader[\"Q_CHAM\"]]\n",
    "    add_row = pd.DataFrame([list1], columns = darkdf.columns)\n",
    "    darkdf = pd.concat([darkdf, add_row], ignore_index=True)\n",
    "darkdf.to_csv(darkfolderpath + \"\\\\\" + \"dark.csv\")\n",
    "\n"
   ]
  },
  {
   "cell_type": "code",
   "execution_count": null,
   "metadata": {},
   "outputs": [],
   "source": []
  },
  {
   "cell_type": "markdown",
   "metadata": {},
   "source": [
    "## 4. 天体画像を与えたときにダークを探す"
   ]
  },
  {
   "cell_type": "code",
   "execution_count": null,
   "metadata": {},
   "outputs": [],
   "source": [
    "#for example \n",
    "obsfile = \n",
    "obsheader = readheader(obsfile)"
   ]
  },
  {
   "cell_type": "markdown",
   "metadata": {},
   "source": []
  }
 ],
 "metadata": {
  "kernelspec": {
   "display_name": "Python 3",
   "language": "python",
   "name": "python3"
  },
  "language_info": {
   "codemirror_mode": {
    "name": "ipython",
    "version": 3
   },
   "file_extension": ".py",
   "mimetype": "text/x-python",
   "name": "python",
   "nbconvert_exporter": "python",
   "pygments_lexer": "ipython3",
   "version": "3.8.10"
  },
  "orig_nbformat": 4,
  "vscode": {
   "interpreter": {
    "hash": "916dbcbb3f70747c44a77c7bcd40155683ae19c65e1c03b4aa3499c5328201f1"
   }
  }
 },
 "nbformat": 4,
 "nbformat_minor": 2
}
