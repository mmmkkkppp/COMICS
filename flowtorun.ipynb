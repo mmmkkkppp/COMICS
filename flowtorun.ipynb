{
 "cells": [
  {
   "cell_type": "markdown",
   "metadata": {},
   "source": [
    "#### 一連の手続き.ipynbでやってきた処理をひとまとめにする。考慮すべき事項は下につけ足していくことにする。"
   ]
  },
  {
   "cell_type": "code",
   "execution_count": 103,
   "metadata": {},
   "outputs": [],
   "source": [
    "#必要なモジュールのimport \n",
    "import astropy.io.fits as fits\n",
    "import numpy as np\n",
    "import glob\n",
    "import os\n",
    "from scipy.ndimage import gaussian_filter\n",
    "import pandas as pd\n",
    "import shutil\n",
    "\n",
    "\n",
    "def readheader(filename):\n",
    "    return fits.open(filename)[0].header\n",
    "\n",
    "\n",
    "def readdata(filename):\n",
    "    return fits.open(filename)[0].data\n"
   ]
  },
  {
   "cell_type": "markdown",
   "metadata": {},
   "source": [
    "ほかのファイルでダークのコマンドリストを作成する。\n",
    "そのコマンドから読み取っていくことにする。"
   ]
  },
  {
   "cell_type": "code",
   "execution_count": 104,
   "metadata": {},
   "outputs": [],
   "source": [
    "#天体画像を一つ指定したとする　→　obsfile\n",
    "#darkのcsvファイルから、天体の画像の、日付、PIXTIM, RRSTRT, YSTRTが等しいものを取得する\n",
    "#darklist = pd.read_csv(filename,header, skiprows)\n",
    "\n",
    "#def judge(information):\n",
    "#   darklist[information] == obsfileheader[information]\n",
    "#judge(\"DATE-OBS\") & judge(\"Q_PIXTIM\") & judge(\"Q_RRSTRT\") & judge(\"YSTRT\")\n",
    "# filepath = os.path.join()"
   ]
  },
  {
   "cell_type": "code",
   "execution_count": 105,
   "metadata": {},
   "outputs": [
    {
     "ename": "SyntaxError",
     "evalue": "invalid syntax (4072968027.py, line 1)",
     "output_type": "error",
     "traceback": [
      "\u001b[1;36m  Input \u001b[1;32mIn [105]\u001b[1;36m\u001b[0m\n\u001b[1;33m    obsfilename = #入力\u001b[0m\n\u001b[1;37m                  ^\u001b[0m\n\u001b[1;31mSyntaxError\u001b[0m\u001b[1;31m:\u001b[0m invalid syntax\n"
     ]
    }
   ],
   "source": [
    "obsfilename = #入力\n",
    "dark1 = #入力\n",
    "dark2 = #入力\n",
    "obs_comq = #入力"
   ]
  },
  {
   "cell_type": "markdown",
   "metadata": {},
   "source": [
    "### darkが欲しいものと一致しているとして処理をする"
   ]
  },
  {
   "cell_type": "code",
   "execution_count": 106,
   "metadata": {},
   "outputs": [],
   "source": [
    "#関数の定義\n",
    "def readheader(filename):\n",
    "    return fits.open(filename)[0].header\n",
    "\n",
    "def readdata(filename):\n",
    "    return fits.open(filename)[0].data\n",
    "\n",
    "def q_bsep_posi(input):\n",
    "    return input[:,::2,:,:]\n",
    "def q_bsep_nega(input):\n",
    "    return input[:,1::2,:,:]   \n",
    "#z方向平均\n",
    "def mean_z(input):\n",
    "    return np.mean(input, axis=1, keepdims=True)\n",
    "\n",
    "#gaussian filter\n",
    "\n",
    "\n",
    "def gaussfilter(input):\n",
    "    output = gaussian_filter(input[0, 0, :, :], sigma=6, order=0,\n",
    "                             output=None, mode='nearest', cval=0.0, truncate=4.0)\n",
    "    return output\n",
    "\n",
    "\n",
    "def q_subch(input):\n",
    "    #z方向については、COMQは1となっているはずである。\n",
    "    input_dim2 = input[0, 0, :, :]\n",
    "    #x軸方向に20*240と分割し、z方向に積み上げる\n",
    "\n",
    "    divstack = np.stack(np.split(input_dim2, 16, axis=1))\n",
    "    #z方向にmedianをとり、20*240をtileして320*240にする\n",
    "    beforetile = np.median(divstack, axis=0)  # keepdimsは不要(二次元でいい)\n",
    "    tilemedian = np.tile(beforetile, 16)\n",
    "    # print(tilemedian.shape)\n",
    "    input_to_output = input.copy()\n",
    "    input_to_output[0, 0, :, :] -= tilemedian\n",
    "    # input_to_output[0, 0, :, :] = 1\n",
    "    return input_to_output\n",
    "\n",
    "#fitsファイル作成用\n",
    "\n",
    "def makefits(dataname, filename):\n",
    "    hdu = fits.PrimaryHDU(data=dataname)\n",
    "    fits.HDUList([hdu]).writeto(str(filename), overwrite=True)\n"
   ]
  },
  {
   "cell_type": "code",
   "execution_count": 107,
   "metadata": {},
   "outputs": [],
   "source": [
    "# darkheader1 = readheader(dark1)\n",
    "# darkheader2 = readheader(dark2)\n",
    "# obsheader = readheader(obsfilename)\n",
    "# print(darkheader1[\"Q_CHEB\"] == darkheader2[\"Q_CHEB\"])\n",
    "# print()\n",
    "def process(obsfilename):\n",
    "    \n",
    "    \"\"\"  \n",
    "    ここには天体画像から、ダークを特定する処理を記載する。\n",
    "    \n",
    "    \"\"\"\n",
    "    if (darkheader1[\"Q_CHAM\"] != 1) or (obsheader[\"Q_CHAM\"]!=1):\n",
    "        print(\"CoAdd Modeが1ではない。\")\n",
    "    elif darkheader1[\"Q_CHAM\"]==1 and darkheader2[\"Q_CHAM\"]==1:\n",
    "        darkfile1 = readdata(dark1)\n",
    "        darkfile2 = readdata(dark2)\n",
    "        meandark = (np.mean(dark1, axis=1, keepdims=True)+np.mean(dark2, axis=1, keepdims=True)) /2\n",
    "        meandark_1 = meandark / int(darkheader1[\"Q_CHEB\"])\n",
    "\n",
    "        #darkの差し引き\n",
    "        #Q_CHEB倍する\n",
    "        obsdata = readdata(obsfilename)\n",
    "        meandark_obs = meandark_1 * obsheader[\"Q_CHEB\"]\n",
    "        \n",
    "        skydata = obsdata - meandark_obs\n",
    "        skydata_p = q_bsep_posi(skydata)\n",
    "        skydata_n = q_bsep_nega(skydata)\n",
    "        \n",
    "        #z方向平均\n",
    "        sky_pa = mean_z(skydata_p)\n",
    "        sky_na = mean_z(skydata_n)\n",
    "        \n",
    "        #gaussian　平均\n",
    "        sky_paG = gaussfilter(sky_pa)\n",
    "        sky_naG = gaussfilter(sky_na)\n",
    "        \n",
    "        #Flatの作成\n",
    "        sky_paF = sky_pa / sky_paG\n",
    "        sky_naF = sky_na / sky_naG\n",
    "        \n",
    "        #Chop差し引きした、COMQ画像に対して、Flatで割る\n",
    "        comq_data = readdata(obs_comq)\n",
    "        obj_obs = q_subch(comq_data)\n",
    "        \n",
    "        #Flatで割る\n",
    "        obj_obs_datP0 = obj_obs / sky_naF\n",
    "        obj_obs_datN0 = obj_obs / sky_paF    \n",
    "        \n",
    "        makefits(obj_obs_datP0, \"./out/obj\"+\n",
    "                str(obsfilename[-10:-5]) + \"_datP0.fits\")\n",
    "        makefits(obj_obs_datN0, \"./out/obj\" +\n",
    "                str(obsfilename[-10:-5]) + \"_datN0.fits\")\n"
   ]
  },
  {
   "cell_type": "markdown",
   "metadata": {},
   "source": [
    "#### フォルダの整理\n",
    "ダウンロードしてきたファイルは、ダークと天体画像が混ざっている。\n",
    "そこで、いったん、ダークだけを取り出し別のフォルダに移すことを考える。\n",
    "FRAME ID のリストからDATA_TYPあるいは、OBJECT2がDARKであればダークと判断する。\n",
    "名前が一致するものをファイルの中から探し、見つかればファイルをダークフォルダに移動する。"
   ]
  },
  {
   "cell_type": "markdown",
   "metadata": {},
   "source": [
    "2009-01-13のデータで練習してみる。\n",
    "\n",
    "'D:\\all-01-13\\P03yushi1102114609NN'"
   ]
  },
  {
   "cell_type": "code",
   "execution_count": 108,
   "metadata": {},
   "outputs": [],
   "source": [
    "folderpath = r'D:\\2009-01-13'\n",
    "judgedarkfile = r'../DataFrame/COM_2009.xlsx'\n"
   ]
  },
  {
   "cell_type": "code",
   "execution_count": 109,
   "metadata": {},
   "outputs": [],
   "source": [
    "frameall = pd.read_excel(judgedarkfile)\n",
    "#1行目は不要なので削除\n",
    "frameall = frameall.dropna(how=\"all\",axis=0)\n",
    "darkframe= frameall[(frameall[\"DATA_TYP\"] ==\"DARK\") | (frameall[\"OBJECT2\"]==\"DARK\")]\n",
    "#indexをリセット\n",
    "darkframe = darkframe.reset_index(drop=True)"
   ]
  },
  {
   "cell_type": "code",
   "execution_count": 110,
   "metadata": {},
   "outputs": [],
   "source": [
    "#darkframeのうち、日付で1/13を選択\n",
    "darkframe_09_0113 = darkframe[darkframe[\"DATE_OBS\"]==\"2009-01-13\"]\n",
    "# darkframe_09_0113"
   ]
  },
  {
   "cell_type": "markdown",
   "metadata": {},
   "source": [
    "ここまででダークは取ってこられたので、該当するものをダークフォルダを作成し移動していく"
   ]
  },
  {
   "cell_type": "code",
   "execution_count": 113,
   "metadata": {},
   "outputs": [],
   "source": [
    "#ダークフォルダを作成\n",
    "try:\n",
    "    os.mkdir(r\"D:\\2009-01-13\\DARK\")\n",
    "except FileExistsError:\n",
    "    pass\n",
    "\n",
    "#あるいは\n",
    "os.makedirs(r\"D:\\2009-01-13\\DARK\",exist_ok=True)\n",
    "\n",
    "#filepath\n",
    "filepath = r\"D:\\2009-01-13\"\n",
    "filelist = glob.glob(filepath+\"\\*\")\n",
    "\n",
    "#darkの名前を取得\n",
    "for dark in darkframe_09_0113[\"#FRAME_ID\"]:\n",
    "    #filename作成\n",
    "    name = filepath +\"\\\\\"+ str(dark) +\".fits\"\n",
    "    #移動\n",
    "    if name in filelist:\n",
    "        shutil.move(name, filepath+\"\\\\DARK\\\\\" + str(dark) +\".fits\")"
   ]
  },
  {
   "cell_type": "code",
   "execution_count": 114,
   "metadata": {},
   "outputs": [],
   "source": [
    "darkfilepath = r\"D:\\2009-01-13\\DARK\"\n",
    "darkfilelist = glob.glob(darkfilepath+\"\\\\*\")\n",
    "d1 = darkfilelist[0]"
   ]
  },
  {
   "cell_type": "code",
   "execution_count": 115,
   "metadata": {},
   "outputs": [
    {
     "data": {
      "text/plain": [
       "1"
      ]
     },
     "execution_count": 115,
     "metadata": {},
     "output_type": "execute_result"
    }
   ],
   "source": [
    "d1head = readheader(d1)\n",
    "d1head[\"FRAMEID\"]\n",
    "d1head[\"DATE-OBS\"]\n",
    "d1head[\"Q_PIXTIM\"]\n",
    "d1head[\"Q_RRSTRT\"]\n",
    "d1head[\"Q_YSTRT\"]\n",
    "d1head[\"Q_CHAM\"]\n"
   ]
  },
  {
   "cell_type": "code",
   "execution_count": 128,
   "metadata": {},
   "outputs": [
    {
     "ename": "ValueError",
     "evalue": "Shape of passed values is (6, 1), indices imply (6, 6)",
     "output_type": "error",
     "traceback": [
      "\u001b[1;31m---------------------------------------------------------------------------\u001b[0m",
      "\u001b[1;31mValueError\u001b[0m                                Traceback (most recent call last)",
      "\u001b[1;32mセル18 を c:\\Users\\yyush\\OneDrive\\COMICS\\COMICSデータ解析\\flowtorun.ipynb\u001b[0m in \u001b[0;36m<cell line: 10>\u001b[1;34m()\u001b[0m\n\u001b[0;32m      <a href='vscode-notebook-cell:/c%3A/Users/yyush/OneDrive/COMICS/COMICS%E3%83%87%E3%83%BC%E3%82%BF%E8%A7%A3%E6%9E%90/flowtorun.ipynb#X26sZmlsZQ%3D%3D?line=4'>5</a>\u001b[0m     \u001b[39m# darkdf.iloc[len(darkdf)] = [darkheader[\"FRAMEID\"], darkheader[\"DATE-OBS\"], darkheader[\"Q_PIXTIM\"], darkheader[\"Q_RRSTRT\"], darkheader[\"Q_YSTRT\"], darkheader[\"Q_CHAM\"]]\u001b[39;00m\n\u001b[0;32m      <a href='vscode-notebook-cell:/c%3A/Users/yyush/OneDrive/COMICS/COMICS%E3%83%87%E3%83%BC%E3%82%BF%E8%A7%A3%E6%9E%90/flowtorun.ipynb#X26sZmlsZQ%3D%3D?line=5'>6</a>\u001b[0m     \u001b[39m# [darkheader[\"FRAMEID\"], darkheader[\"DATE-OBS\"], darkheader[\"Q_PIXTIM\"],\u001b[39;00m\n\u001b[0;32m      <a href='vscode-notebook-cell:/c%3A/Users/yyush/OneDrive/COMICS/COMICS%E3%83%87%E3%83%BC%E3%82%BF%E8%A7%A3%E6%9E%90/flowtorun.ipynb#X26sZmlsZQ%3D%3D?line=6'>7</a>\u001b[0m     \u001b[39m#     darkheader[\"Q_RRSTRT\"], darkheader[\"Q_YSTRT\"], darkheader[\"Q_CHAM\"]]\u001b[39;00m\n\u001b[0;32m      <a href='vscode-notebook-cell:/c%3A/Users/yyush/OneDrive/COMICS/COMICS%E3%83%87%E3%83%BC%E3%82%BF%E8%A7%A3%E6%9E%90/flowtorun.ipynb#X26sZmlsZQ%3D%3D?line=7'>8</a>\u001b[0m list1 \u001b[39m=\u001b[39m [darkheader[\u001b[39m\"\u001b[39m\u001b[39mFRAMEID\u001b[39m\u001b[39m\"\u001b[39m], darkheader[\u001b[39m\"\u001b[39m\u001b[39mDATE-OBS\u001b[39m\u001b[39m\"\u001b[39m], darkheader[\u001b[39m\"\u001b[39m\u001b[39mQ_PIXTIM\u001b[39m\u001b[39m\"\u001b[39m],\n\u001b[0;32m      <a href='vscode-notebook-cell:/c%3A/Users/yyush/OneDrive/COMICS/COMICS%E3%83%87%E3%83%BC%E3%82%BF%E8%A7%A3%E6%9E%90/flowtorun.ipynb#X26sZmlsZQ%3D%3D?line=8'>9</a>\u001b[0m         darkheader[\u001b[39m\"\u001b[39m\u001b[39mQ_RRSTRT\u001b[39m\u001b[39m\"\u001b[39m], darkheader[\u001b[39m\"\u001b[39m\u001b[39mQ_YSTRT\u001b[39m\u001b[39m\"\u001b[39m], darkheader[\u001b[39m\"\u001b[39m\u001b[39mQ_CHAM\u001b[39m\u001b[39m\"\u001b[39m]]\n\u001b[1;32m---> <a href='vscode-notebook-cell:/c%3A/Users/yyush/OneDrive/COMICS/COMICS%E3%83%87%E3%83%BC%E3%82%BF%E8%A7%A3%E6%9E%90/flowtorun.ipynb#X26sZmlsZQ%3D%3D?line=9'>10</a>\u001b[0m add_row \u001b[39m=\u001b[39m pd\u001b[39m.\u001b[39;49mDataFrame(list1, columns \u001b[39m=\u001b[39;49m darkdf\u001b[39m.\u001b[39;49mcolumns)\u001b[39m.\u001b[39mT\n\u001b[0;32m     <a href='vscode-notebook-cell:/c%3A/Users/yyush/OneDrive/COMICS/COMICS%E3%83%87%E3%83%BC%E3%82%BF%E8%A7%A3%E6%9E%90/flowtorun.ipynb#X26sZmlsZQ%3D%3D?line=10'>11</a>\u001b[0m add_row\n",
      "File \u001b[1;32mc:\\Users\\yyush\\AppData\\Local\\Programs\\Python\\Python310\\lib\\site-packages\\pandas\\core\\frame.py:737\u001b[0m, in \u001b[0;36mDataFrame.__init__\u001b[1;34m(self, data, index, columns, dtype, copy)\u001b[0m\n\u001b[0;32m    729\u001b[0m         mgr \u001b[39m=\u001b[39m arrays_to_mgr(\n\u001b[0;32m    730\u001b[0m             arrays,\n\u001b[0;32m    731\u001b[0m             columns,\n\u001b[1;32m   (...)\u001b[0m\n\u001b[0;32m    734\u001b[0m             typ\u001b[39m=\u001b[39mmanager,\n\u001b[0;32m    735\u001b[0m         )\n\u001b[0;32m    736\u001b[0m     \u001b[39melse\u001b[39;00m:\n\u001b[1;32m--> 737\u001b[0m         mgr \u001b[39m=\u001b[39m ndarray_to_mgr(\n\u001b[0;32m    738\u001b[0m             data,\n\u001b[0;32m    739\u001b[0m             index,\n\u001b[0;32m    740\u001b[0m             columns,\n\u001b[0;32m    741\u001b[0m             dtype\u001b[39m=\u001b[39;49mdtype,\n\u001b[0;32m    742\u001b[0m             copy\u001b[39m=\u001b[39;49mcopy,\n\u001b[0;32m    743\u001b[0m             typ\u001b[39m=\u001b[39;49mmanager,\n\u001b[0;32m    744\u001b[0m         )\n\u001b[0;32m    745\u001b[0m \u001b[39melse\u001b[39;00m:\n\u001b[0;32m    746\u001b[0m     mgr \u001b[39m=\u001b[39m dict_to_mgr(\n\u001b[0;32m    747\u001b[0m         {},\n\u001b[0;32m    748\u001b[0m         index,\n\u001b[1;32m   (...)\u001b[0m\n\u001b[0;32m    751\u001b[0m         typ\u001b[39m=\u001b[39mmanager,\n\u001b[0;32m    752\u001b[0m     )\n",
      "File \u001b[1;32mc:\\Users\\yyush\\AppData\\Local\\Programs\\Python\\Python310\\lib\\site-packages\\pandas\\core\\internals\\construction.py:351\u001b[0m, in \u001b[0;36mndarray_to_mgr\u001b[1;34m(values, index, columns, dtype, copy, typ)\u001b[0m\n\u001b[0;32m    346\u001b[0m \u001b[39m# _prep_ndarray ensures that values.ndim == 2 at this point\u001b[39;00m\n\u001b[0;32m    347\u001b[0m index, columns \u001b[39m=\u001b[39m _get_axes(\n\u001b[0;32m    348\u001b[0m     values\u001b[39m.\u001b[39mshape[\u001b[39m0\u001b[39m], values\u001b[39m.\u001b[39mshape[\u001b[39m1\u001b[39m], index\u001b[39m=\u001b[39mindex, columns\u001b[39m=\u001b[39mcolumns\n\u001b[0;32m    349\u001b[0m )\n\u001b[1;32m--> 351\u001b[0m _check_values_indices_shape_match(values, index, columns)\n\u001b[0;32m    353\u001b[0m \u001b[39mif\u001b[39;00m typ \u001b[39m==\u001b[39m \u001b[39m\"\u001b[39m\u001b[39marray\u001b[39m\u001b[39m\"\u001b[39m:\n\u001b[0;32m    355\u001b[0m     \u001b[39mif\u001b[39;00m \u001b[39missubclass\u001b[39m(values\u001b[39m.\u001b[39mdtype\u001b[39m.\u001b[39mtype, \u001b[39mstr\u001b[39m):\n",
      "File \u001b[1;32mc:\\Users\\yyush\\AppData\\Local\\Programs\\Python\\Python310\\lib\\site-packages\\pandas\\core\\internals\\construction.py:422\u001b[0m, in \u001b[0;36m_check_values_indices_shape_match\u001b[1;34m(values, index, columns)\u001b[0m\n\u001b[0;32m    420\u001b[0m passed \u001b[39m=\u001b[39m values\u001b[39m.\u001b[39mshape\n\u001b[0;32m    421\u001b[0m implied \u001b[39m=\u001b[39m (\u001b[39mlen\u001b[39m(index), \u001b[39mlen\u001b[39m(columns))\n\u001b[1;32m--> 422\u001b[0m \u001b[39mraise\u001b[39;00m \u001b[39mValueError\u001b[39;00m(\u001b[39mf\u001b[39m\u001b[39m\"\u001b[39m\u001b[39mShape of passed values is \u001b[39m\u001b[39m{\u001b[39;00mpassed\u001b[39m}\u001b[39;00m\u001b[39m, indices imply \u001b[39m\u001b[39m{\u001b[39;00mimplied\u001b[39m}\u001b[39;00m\u001b[39m\"\u001b[39m)\n",
      "\u001b[1;31mValueError\u001b[0m: Shape of passed values is (6, 1), indices imply (6, 6)"
     ]
    }
   ],
   "source": [
    "#天体画像特定のためのDARKの情報を入れたデータフレームを作成する。\n",
    "darkdf = pd.DataFrame(columns=[\"FRRAME_ID\", \"DATE\", \"PIXTIM\", \"RRSTRT\", \"YSTRT\", \"CoAdd\"])\n",
    "for darkfile in darkfilelist[:2]:\n",
    "    darkheader = readheader(darkfile)\n",
    "    # darkdf.iloc[len(darkdf)] = [darkheader[\"FRAMEID\"], darkheader[\"DATE-OBS\"], darkheader[\"Q_PIXTIM\"], darkheader[\"Q_RRSTRT\"], darkheader[\"Q_YSTRT\"], darkheader[\"Q_CHAM\"]]\n",
    "    # [darkheader[\"FRAMEID\"], darkheader[\"DATE-OBS\"], darkheader[\"Q_PIXTIM\"],\n",
    "    #     darkheader[\"Q_RRSTRT\"], darkheader[\"Q_YSTRT\"], darkheader[\"Q_CHAM\"]]\n",
    "list1 = [darkheader[\"FRAMEID\"], darkheader[\"DATE-OBS\"], darkheader[\"Q_PIXTIM\"],\n",
    "        darkheader[\"Q_RRSTRT\"], darkheader[\"Q_YSTRT\"], darkheader[\"Q_CHAM\"]]\n",
    "add_row = pd.DataFrame(list1, columns = darkdf.columns).T\n",
    "add_row "
   ]
  },
  {
   "cell_type": "code",
   "execution_count": 27,
   "metadata": {},
   "outputs": [
    {
     "data": {
      "text/html": [
       "<div>\n",
       "<style scoped>\n",
       "    .dataframe tbody tr th:only-of-type {\n",
       "        vertical-align: middle;\n",
       "    }\n",
       "\n",
       "    .dataframe tbody tr th {\n",
       "        vertical-align: top;\n",
       "    }\n",
       "\n",
       "    .dataframe thead th {\n",
       "        text-align: right;\n",
       "    }\n",
       "</style>\n",
       "<table border=\"1\" class=\"dataframe\">\n",
       "  <thead>\n",
       "    <tr style=\"text-align: right;\">\n",
       "      <th></th>\n",
       "      <th>FRRAME_ID</th>\n",
       "      <th>DATE</th>\n",
       "      <th>PIXTIM</th>\n",
       "      <th>RRSTRT</th>\n",
       "      <th>YSTRT</th>\n",
       "      <th>CoAdd</th>\n",
       "      <th>0</th>\n",
       "      <th>1</th>\n",
       "      <th>2</th>\n",
       "      <th>3</th>\n",
       "      <th>4</th>\n",
       "      <th>5</th>\n",
       "    </tr>\n",
       "  </thead>\n",
       "  <tbody>\n",
       "    <tr>\n",
       "      <th>0</th>\n",
       "      <td>NaN</td>\n",
       "      <td>NaN</td>\n",
       "      <td>NaN</td>\n",
       "      <td>NaN</td>\n",
       "      <td>NaN</td>\n",
       "      <td>NaN</td>\n",
       "      <td>aoeek</td>\n",
       "      <td>ksdnf</td>\n",
       "      <td>1</td>\n",
       "      <td>2</td>\n",
       "      <td>3</td>\n",
       "      <td>4</td>\n",
       "    </tr>\n",
       "  </tbody>\n",
       "</table>\n",
       "</div>"
      ],
      "text/plain": [
       "  FRRAME_ID DATE PIXTIM RRSTRT YSTRT CoAdd      0      1  2  3  4  5\n",
       "0       NaN  NaN    NaN    NaN   NaN   NaN  aoeek  ksdnf  1  2  3  4"
      ]
     },
     "execution_count": 27,
     "metadata": {},
     "output_type": "execute_result"
    }
   ],
   "source": [
    "list1 =[\"aoeek\", \"ksdnf\", 1,2, 3,4]\n",
    "import pandas as pd\n",
    "df = pd.DataFrame(columns=[\"FRRAME_ID\", \"DATE\",\n",
    "                  \"PIXTIM\", \"RRSTRT\", \"YSTRT\", \"CoAdd\"])\n",
    "a  = pd.DataFrame(list1, c).T\n",
    "df2 = pd.concat([df, a],axis =0, ignore_index=True)\n",
    "df2"
   ]
  },
  {
   "cell_type": "code",
   "execution_count": 25,
   "metadata": {},
   "outputs": [
    {
     "data": {
      "text/html": [
       "<div>\n",
       "<style scoped>\n",
       "    .dataframe tbody tr th:only-of-type {\n",
       "        vertical-align: middle;\n",
       "    }\n",
       "\n",
       "    .dataframe tbody tr th {\n",
       "        vertical-align: top;\n",
       "    }\n",
       "\n",
       "    .dataframe thead th {\n",
       "        text-align: right;\n",
       "    }\n",
       "</style>\n",
       "<table border=\"1\" class=\"dataframe\">\n",
       "  <thead>\n",
       "    <tr style=\"text-align: right;\">\n",
       "      <th></th>\n",
       "      <th>0</th>\n",
       "      <th>1</th>\n",
       "      <th>2</th>\n",
       "      <th>3</th>\n",
       "      <th>4</th>\n",
       "    </tr>\n",
       "  </thead>\n",
       "  <tbody>\n",
       "    <tr>\n",
       "      <th>0</th>\n",
       "      <td>1</td>\n",
       "      <td>2</td>\n",
       "      <td>3</td>\n",
       "      <td>4</td>\n",
       "      <td>5</td>\n",
       "    </tr>\n",
       "  </tbody>\n",
       "</table>\n",
       "</div>"
      ],
      "text/plain": [
       "   0  1  2  3  4\n",
       "0  1  2  3  4  5"
      ]
     },
     "execution_count": 25,
     "metadata": {},
     "output_type": "execute_result"
    }
   ],
   "source": [
    "import numpy as np\n",
    "import pandas as pd\n",
    "a = pd.DataFrame([1,2,3,4,5]).T\n",
    "a"
   ]
  },
  {
   "cell_type": "code",
   "execution_count": null,
   "metadata": {},
   "outputs": [],
   "source": []
  }
 ],
 "metadata": {
  "kernelspec": {
   "display_name": "Python 3.10.4 64-bit",
   "language": "python",
   "name": "python3"
  },
  "language_info": {
   "codemirror_mode": {
    "name": "ipython",
    "version": 3
   },
   "file_extension": ".py",
   "mimetype": "text/x-python",
   "name": "python",
   "nbconvert_exporter": "python",
   "pygments_lexer": "ipython3",
   "version": "3.10.4"
  },
  "orig_nbformat": 4,
  "vscode": {
   "interpreter": {
    "hash": "bb29cca67f29ce02480b5ff6438d9aac2d9f2af911bdc40114e7b970fc35c0c0"
   }
  }
 },
 "nbformat": 4,
 "nbformat_minor": 2
}
