{
 "cells": [
  {
   "cell_type": "code",
   "execution_count": 12,
   "metadata": {},
   "outputs": [
    {
     "name": "stdout",
     "output_type": "stream",
     "text": [
      "/bin/python3\n"
     ]
    }
   ],
   "source": [
    "import pandas as pd\n",
    "from function import *\n",
    "import numpy as np\n",
    "import sys\n",
    "print(sys.executable)\n",
    "import glob\n",
    "from tqdm import tqdm"
   ]
  },
  {
   "cell_type": "code",
   "execution_count": 6,
   "metadata": {},
   "outputs": [
    {
     "data": {
      "text/plain": [
       "7896"
      ]
     },
     "execution_count": 6,
     "metadata": {},
     "output_type": "execute_result"
    }
   ],
   "source": [
    "folder2003 = r'/mnt/e/2003/COMA*.fits'\n",
    "filelist = glob.glob(folder2003)\n",
    "len(filelist)"
   ]
  },
  {
   "cell_type": "code",
   "execution_count": 9,
   "metadata": {},
   "outputs": [],
   "source": [
    "df = pd.DataFrame(columns=[\"FRAME_ID\", \"DATE\", \"NAXIS3\",\"CoAdd\", \"Q_CHEB\", \"Q_CHCN\"])\n",
    "for file in tqdm(filelist):\n",
    "    obsheader = readheader(file)\n",
    "    if obsheader[\"Q_CHAM\"] !=1:\n",
    "        list1 = [obsheader[\"FRAMEID\"], obsheader[\"DATE-OBS\"],obsheader[\"NAXIS3\"], obsheader[\"Q_CHAM\"], obsheader[\"Q_CHEB\"], obsheader[\"Q_CHCN\"]]\n",
    "        add_pd =pd.DataFrame([list1], columns=df.columns)\n",
    "        df = pd.concat([df, add_pd], ignore_index=True)"
   ]
  },
  {
   "cell_type": "code",
   "execution_count": 13,
   "metadata": {},
   "outputs": [
    {
     "name": "stderr",
     "output_type": "stream",
     "text": [
      "100%|██████████| 7896/7896 [06:43<00:00, 19.57it/s]\n"
     ]
    }
   ],
   "source": [
    "df_all = pd.DataFrame(columns=[\"FRAME_ID\", \"DATE\",\n",
    "                  \"NAXIS3\", \"CoAdd\", \"Q_CHEB\", \"Q_CHCN\"])\n",
    "for file in tqdm(filelist):\n",
    "    obsheader = readheader(file)\n",
    "    list1 = [obsheader[\"FRAMEID\"], obsheader[\"DATE-OBS\"], obsheader[\"NAXIS3\"],\n",
    "                 obsheader[\"Q_CHAM\"], obsheader[\"Q_CHEB\"], obsheader[\"Q_CHCN\"]]\n",
    "    add_pd = pd.DataFrame([list1], columns=df.columns)\n",
    "    df_all = pd.concat([df_all, add_pd], ignore_index=True)\n"
   ]
  },
  {
   "cell_type": "code",
   "execution_count": 20,
   "metadata": {},
   "outputs": [
    {
     "data": {
      "text/html": [
       "<div>\n",
       "<style scoped>\n",
       "    .dataframe tbody tr th:only-of-type {\n",
       "        vertical-align: middle;\n",
       "    }\n",
       "\n",
       "    .dataframe tbody tr th {\n",
       "        vertical-align: top;\n",
       "    }\n",
       "\n",
       "    .dataframe thead th {\n",
       "        text-align: right;\n",
       "    }\n",
       "</style>\n",
       "<table border=\"1\" class=\"dataframe\">\n",
       "  <thead>\n",
       "    <tr style=\"text-align: right;\">\n",
       "      <th></th>\n",
       "      <th>FRAME_ID</th>\n",
       "      <th>DATE</th>\n",
       "      <th>NAXIS3</th>\n",
       "      <th>CoAdd</th>\n",
       "      <th>Q_CHEB</th>\n",
       "      <th>Q_CHCN</th>\n",
       "    </tr>\n",
       "  </thead>\n",
       "  <tbody>\n",
       "    <tr>\n",
       "      <th>512</th>\n",
       "      <td>COMA00033273</td>\n",
       "      <td>2003-01-08</td>\n",
       "      <td>224</td>\n",
       "      <td>0</td>\n",
       "      <td>16</td>\n",
       "      <td>14</td>\n",
       "    </tr>\n",
       "    <tr>\n",
       "      <th>513</th>\n",
       "      <td>COMA00033275</td>\n",
       "      <td>2003-01-08</td>\n",
       "      <td>224</td>\n",
       "      <td>0</td>\n",
       "      <td>16</td>\n",
       "      <td>14</td>\n",
       "    </tr>\n",
       "    <tr>\n",
       "      <th>514</th>\n",
       "      <td>COMA00033277</td>\n",
       "      <td>2003-01-08</td>\n",
       "      <td>224</td>\n",
       "      <td>0</td>\n",
       "      <td>16</td>\n",
       "      <td>14</td>\n",
       "    </tr>\n",
       "    <tr>\n",
       "      <th>515</th>\n",
       "      <td>COMA00033279</td>\n",
       "      <td>2003-01-08</td>\n",
       "      <td>224</td>\n",
       "      <td>0</td>\n",
       "      <td>16</td>\n",
       "      <td>14</td>\n",
       "    </tr>\n",
       "    <tr>\n",
       "      <th>516</th>\n",
       "      <td>COMA00033281</td>\n",
       "      <td>2003-01-08</td>\n",
       "      <td>224</td>\n",
       "      <td>0</td>\n",
       "      <td>16</td>\n",
       "      <td>14</td>\n",
       "    </tr>\n",
       "    <tr>\n",
       "      <th>...</th>\n",
       "      <td>...</td>\n",
       "      <td>...</td>\n",
       "      <td>...</td>\n",
       "      <td>...</td>\n",
       "      <td>...</td>\n",
       "      <td>...</td>\n",
       "    </tr>\n",
       "    <tr>\n",
       "      <th>1834</th>\n",
       "      <td>COMA00035451</td>\n",
       "      <td>2003-06-15</td>\n",
       "      <td>192</td>\n",
       "      <td>0</td>\n",
       "      <td>16</td>\n",
       "      <td>12</td>\n",
       "    </tr>\n",
       "    <tr>\n",
       "      <th>1835</th>\n",
       "      <td>COMA00035453</td>\n",
       "      <td>2003-06-15</td>\n",
       "      <td>192</td>\n",
       "      <td>0</td>\n",
       "      <td>16</td>\n",
       "      <td>12</td>\n",
       "    </tr>\n",
       "    <tr>\n",
       "      <th>1836</th>\n",
       "      <td>COMA00035455</td>\n",
       "      <td>2003-06-15</td>\n",
       "      <td>192</td>\n",
       "      <td>0</td>\n",
       "      <td>16</td>\n",
       "      <td>12</td>\n",
       "    </tr>\n",
       "    <tr>\n",
       "      <th>1837</th>\n",
       "      <td>COMA00035457</td>\n",
       "      <td>2003-06-15</td>\n",
       "      <td>192</td>\n",
       "      <td>0</td>\n",
       "      <td>16</td>\n",
       "      <td>12</td>\n",
       "    </tr>\n",
       "    <tr>\n",
       "      <th>1838</th>\n",
       "      <td>COMA00035459</td>\n",
       "      <td>2003-06-15</td>\n",
       "      <td>192</td>\n",
       "      <td>0</td>\n",
       "      <td>16</td>\n",
       "      <td>12</td>\n",
       "    </tr>\n",
       "  </tbody>\n",
       "</table>\n",
       "<p>193 rows × 6 columns</p>\n",
       "</div>"
      ],
      "text/plain": [
       "          FRAME_ID        DATE NAXIS3 CoAdd Q_CHEB Q_CHCN\n",
       "512   COMA00033273  2003-01-08    224     0     16     14\n",
       "513   COMA00033275  2003-01-08    224     0     16     14\n",
       "514   COMA00033277  2003-01-08    224     0     16     14\n",
       "515   COMA00033279  2003-01-08    224     0     16     14\n",
       "516   COMA00033281  2003-01-08    224     0     16     14\n",
       "...            ...         ...    ...   ...    ...    ...\n",
       "1834  COMA00035451  2003-06-15    192     0     16     12\n",
       "1835  COMA00035453  2003-06-15    192     0     16     12\n",
       "1836  COMA00035455  2003-06-15    192     0     16     12\n",
       "1837  COMA00035457  2003-06-15    192     0     16     12\n",
       "1838  COMA00035459  2003-06-15    192     0     16     12\n",
       "\n",
       "[193 rows x 6 columns]"
      ]
     },
     "execution_count": 20,
     "metadata": {},
     "output_type": "execute_result"
    }
   ],
   "source": [
    "df_all[df_all[\"CoAdd\"]==0]"
   ]
  },
  {
   "attachments": {},
   "cell_type": "markdown",
   "metadata": {},
   "source": [
    "この結果より、RAWモードの場合には、q_bsepの処理で、2マイ飛ばしにするのではよくない。  \n",
    "Q_CHEBの枚数の塊が、CHCN個分あるので、CHEBごとに"
   ]
  },
  {
   "cell_type": "code",
   "execution_count": 21,
   "metadata": {},
   "outputs": [
    {
     "data": {
      "text/plain": [
       "'COMA00033273'"
      ]
     },
     "execution_count": 21,
     "metadata": {},
     "output_type": "execute_result"
    }
   ],
   "source": [
    "f1 = filelist[512]\n",
    "fh = readheader(f1)\n",
    "fh[\"FRAMEID\"]"
   ]
  },
  {
   "cell_type": "code",
   "execution_count": 22,
   "metadata": {},
   "outputs": [
    {
     "data": {
      "text/plain": [
       "(1, 224, 240, 320)"
      ]
     },
     "execution_count": 22,
     "metadata": {},
     "output_type": "execute_result"
    }
   ],
   "source": [
    "obsfile = r'/mnt/e/2003/COMA00033273.fits'\n",
    "obsdata = readdata(obsfile)\n",
    "obsdata.shape"
   ]
  },
  {
   "cell_type": "code",
   "execution_count": 55,
   "metadata": {},
   "outputs": [
    {
     "data": {
      "text/plain": [
       "array([[[[-21851., -22229., -21766., ..., -14712., -14936., -14307.],\n",
       "         [-21749., -22463., -22260., ..., -14964., -14360., -14781.],\n",
       "         [-21626., -22455., -21987., ..., -13015., -12777., -12426.],\n",
       "         ...,\n",
       "         [-16774., -15949., -14310., ..., 228547., 231601., 224440.],\n",
       "         [-16949., -16579., -14461., ..., 237366., 227277., 227649.],\n",
       "         [-17457., -16799., -14896., ..., 229482., 223022., 163832.]],\n",
       "\n",
       "        [[-21791., -22173., -21768., ..., -14720., -14891., -14366.],\n",
       "         [-21803., -22540., -22159., ..., -14716., -14344., -14750.],\n",
       "         [-21628., -22396., -21935., ..., -13080., -12777., -12535.],\n",
       "         ...,\n",
       "         [-16769., -15971., -14312., ..., 228613., 231639., 224485.],\n",
       "         [-16929., -16516., -14426., ..., 237319., 227267., 227698.],\n",
       "         [-17447., -16881., -14822., ..., 229558., 223145., 163968.]],\n",
       "\n",
       "        [[-21757., -22080., -21770., ..., -14757., -14910., -14241.],\n",
       "         [-21813., -22429., -22195., ..., -14773., -14290., -14935.],\n",
       "         [-21619., -22426., -21955., ..., -12982., -12775., -12408.],\n",
       "         ...,\n",
       "         [-16769., -16065., -14276., ..., 228679., 231708., 224439.],\n",
       "         [-16918., -16440., -14396., ..., 237214., 227274., 227652.],\n",
       "         [-17425., -16827., -14874., ..., 229588., 223089., 163963.]],\n",
       "\n",
       "        ...,\n",
       "\n",
       "        [[-21717., -22066., -21797., ..., -14671., -14845., -14294.],\n",
       "         [-21791., -22507., -22186., ..., -14763., -14334., -14850.],\n",
       "         [-21601., -22444., -22006., ..., -12976., -12753., -12485.],\n",
       "         ...,\n",
       "         [-16784., -16024., -14358., ..., 228754., 231706., 224594.],\n",
       "         [-16981., -16510., -14417., ..., 237306., 227238., 227604.],\n",
       "         [-17419., -16769., -14857., ..., 229561., 223074., 163977.]],\n",
       "\n",
       "        [[-21724., -22085., -21846., ..., -14702., -14784., -14175.],\n",
       "         [-21783., -22444., -22196., ..., -14920., -14336., -14839.],\n",
       "         [-21659., -22509., -22023., ..., -13001., -12714., -12384.],\n",
       "         ...,\n",
       "         [-16763., -16132., -14302., ..., 228758., 231663., 224480.],\n",
       "         [-16929., -16489., -14413., ..., 237370., 227301., 227665.],\n",
       "         [-17379., -16775., -14854., ..., 229590., 223109., 163901.]],\n",
       "\n",
       "        [[-21764., -22205., -21780., ..., -14613., -14867., -14241.],\n",
       "         [-21724., -22374., -22184., ..., -14870., -14348., -14853.],\n",
       "         [-21664., -22616., -21910., ..., -13026., -12768., -12398.],\n",
       "         ...,\n",
       "         [-16749., -16114., -14267., ..., 228688., 231678., 224519.],\n",
       "         [-16932., -16562., -14403., ..., 237394., 227375., 227650.],\n",
       "         [-17406., -16707., -14837., ..., 229517., 223026., 163903.]]]])"
      ]
     },
     "execution_count": 55,
     "metadata": {},
     "output_type": "execute_result"
    }
   ],
   "source": [
    "obs_dim3 = obsdata[:,:,:,:]\n",
    "X = np.array(np.split(obs_dim3, 14, axis=1))\n",
    "Y = np.sum(X, axis=0)\n",
    "Y"
   ]
  },
  {
   "cell_type": "code",
   "execution_count": null,
   "metadata": {},
   "outputs": [],
   "source": []
  }
 ],
 "metadata": {
  "kernelspec": {
   "display_name": "Python 3",
   "language": "python",
   "name": "python3"
  },
  "language_info": {
   "codemirror_mode": {
    "name": "ipython",
    "version": 3
   },
   "file_extension": ".py",
   "mimetype": "text/x-python",
   "name": "python",
   "nbconvert_exporter": "python",
   "pygments_lexer": "ipython3",
   "version": "3.8.10"
  },
  "orig_nbformat": 4,
  "vscode": {
   "interpreter": {
    "hash": "916dbcbb3f70747c44a77c7bcd40155683ae19c65e1c03b4aa3499c5328201f1"
   }
  }
 },
 "nbformat": 4,
 "nbformat_minor": 2
}
