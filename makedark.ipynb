{
 "cells": [
  {
   "cell_type": "code",
   "execution_count": 3,
   "metadata": {},
   "outputs": [],
   "source": [
    "import astropy.io.fits as fits\n",
    "import numpy as np\n",
    "import glob\n",
    "import os\n",
    "from scipy.ndimage import gaussian_filter\n",
    "import pandas as pd\n",
    "import shutil\n",
    "from function import *"
   ]
  },
  {
   "attachments": {},
   "cell_type": "markdown",
   "metadata": {},
   "source": [
    "## dark特定の事前準備"
   ]
  },
  {
   "attachments": {},
   "cell_type": "markdown",
   "metadata": {},
   "source": [
    "処理手順  \n",
    "ダークの名前を読み込むためのリスト作成   \n",
    "ダークを特定して、データフレームに必要な情報を入れる  \n",
    "そのcsvを該当の年のフォルダに移す  "
   ]
  },
  {
   "cell_type": "code",
   "execution_count": 9,
   "metadata": {},
   "outputs": [],
   "source": [
    "def searchdarkfile(year):  #first\n",
    "    basefolder = r'/mnt/e/DataFrame/'\n",
    "    allframe = pd.read_excel(basefolder + \"COM_\"+year+\".xlsx\", skiprows=0)\n",
    "    allframe.dropna(how=\"all\", axis=0)\n",
    "    darkframe = allframe[(allframe[\"DATA_TYP\"].str.contains(\"DARK\")) |\n",
    "                        (allframe[\"OBJECT2\"].str.contains(\"DARK\"))]\n",
    "    darkframe = darkframe.reset_index(drop=True)\n",
    "    darkframe.to_csv(r'/mnt/e/DataFrame/dark/darkframe_' +\n",
    "                    year + r'.csv', encoding=\"utf-8\")\n",
    "    return darkframe"
   ]
  },
  {
   "attachments": {},
   "cell_type": "markdown",
   "metadata": {},
   "source": [
    "COMAのファイルから、ダークのヘッダーを読み込み必要な情報を取得する。  \n",
    "データフレームに格納する  \n",
    "また、dark画像をdarkフォルダを作成して移動する。  "
   ]
  },
  {
   "attachments": {},
   "cell_type": "markdown",
   "metadata": {},
   "source": [
    "### メモ\n",
    "INS_VER 2001-09-29以降のものにしか、YSTRTがなかった  \n",
    "YSTRTの指定により、y軸のピクセル数が変わってくる  \n",
    "1なら240pixだが、40なら160pixというように"
   ]
  },
  {
   "cell_type": "code",
   "execution_count": 11,
   "metadata": {},
   "outputs": [],
   "source": [
    "def makedarkcsv(year):\n",
    "    basefolder = r'/mnt/e/'+year + r'/'\n",
    "    darkdf = pd.DataFrame(\n",
    "        columns=[\"FRAME_ID\", \"DATE\", \"PIXTIM\", \"RRSTRT\", \"YSTRT\", \"CoAdd\", \"Q_CHEB\"])\n",
    "    darkframe = pd.read_csv(r'/mnt/e/DataFrame/dark/darkframe_' +\n",
    "                            year + r'.csv')\n",
    "    for darkfile in darkframe[\"#FRAME_ID\"]:\n",
    "        # header読み込み\n",
    "        darkfilepath = basefolder + darkfile + \".fits\"\n",
    "        darkheader = readheader(darkfilepath)\n",
    "\n",
    "        list1 = [darkheader[\"FRAMEID\"], darkheader[\"DATE-OBS\"], darkheader[\"Q_PIXTIM\"],\n",
    "                darkheader[\"Q_RRSTRT\"], darkheader[\"Q_YSTRT\"], darkheader[\"Q_CHAM\"], darkheader[\"Q_CHEB\"]]\n",
    "        add_row = pd.DataFrame([list1], columns=darkdf.columns)\n",
    "        darkdf = pd.concat([darkdf, add_row], ignore_index=True)\n",
    "        # dark画像を移動\n",
    "        os.makedirs(basefolder+r'dark', exist_ok=True)\n",
    "        shutil.move(darkfilepath, basefolder+r'dark/')\n",
    "    darkdf.to_csv(basefolder+r'dark/dark.csv', index=False, encoding=\"utf-8\")\n"
   ]
  },
  {
   "cell_type": "code",
   "execution_count": 12,
   "metadata": {},
   "outputs": [
    {
     "ename": "FileNotFoundError",
     "evalue": "[Errno 2] No such file or directory: '/mnt/e/2003/COMA00037345.fits'",
     "output_type": "error",
     "traceback": [
      "\u001b[0;31m---------------------------------------------------------------------------\u001b[0m",
      "\u001b[0;31mFileNotFoundError\u001b[0m                         Traceback (most recent call last)",
      "Cell \u001b[0;32mIn [12], line 1\u001b[0m\n\u001b[0;32m----> 1\u001b[0m makedarkcsv(\u001b[39m\"\u001b[39;49m\u001b[39m2003\u001b[39;49m\u001b[39m\"\u001b[39;49m)\n",
      "Cell \u001b[0;32mIn [11], line 10\u001b[0m, in \u001b[0;36mmakedarkcsv\u001b[0;34m(year)\u001b[0m\n\u001b[1;32m      7\u001b[0m \u001b[39mfor\u001b[39;00m darkfile \u001b[39min\u001b[39;00m darkframe[\u001b[39m\"\u001b[39m\u001b[39m#FRAME_ID\u001b[39m\u001b[39m\"\u001b[39m]:\n\u001b[1;32m      8\u001b[0m     \u001b[39m# header読み込み\u001b[39;00m\n\u001b[1;32m      9\u001b[0m     darkfilepath \u001b[39m=\u001b[39m basefolder \u001b[39m+\u001b[39m darkfile \u001b[39m+\u001b[39m \u001b[39m\"\u001b[39m\u001b[39m.fits\u001b[39m\u001b[39m\"\u001b[39m\n\u001b[0;32m---> 10\u001b[0m     darkheader \u001b[39m=\u001b[39m readheader(darkfilepath)\n\u001b[1;32m     12\u001b[0m     list1 \u001b[39m=\u001b[39m [darkheader[\u001b[39m\"\u001b[39m\u001b[39mFRAMEID\u001b[39m\u001b[39m\"\u001b[39m], darkheader[\u001b[39m\"\u001b[39m\u001b[39mDATE-OBS\u001b[39m\u001b[39m\"\u001b[39m], darkheader[\u001b[39m\"\u001b[39m\u001b[39mQ_PIXTIM\u001b[39m\u001b[39m\"\u001b[39m],\n\u001b[1;32m     13\u001b[0m             darkheader[\u001b[39m\"\u001b[39m\u001b[39mQ_RRSTRT\u001b[39m\u001b[39m\"\u001b[39m], darkheader[\u001b[39m\"\u001b[39m\u001b[39mQ_YSTRT\u001b[39m\u001b[39m\"\u001b[39m], darkheader[\u001b[39m\"\u001b[39m\u001b[39mQ_CHAM\u001b[39m\u001b[39m\"\u001b[39m], darkheader[\u001b[39m\"\u001b[39m\u001b[39mQ_CHEB\u001b[39m\u001b[39m\"\u001b[39m]]\n\u001b[1;32m     14\u001b[0m     add_row \u001b[39m=\u001b[39m pd\u001b[39m.\u001b[39mDataFrame([list1], columns\u001b[39m=\u001b[39mdarkdf\u001b[39m.\u001b[39mcolumns)\n",
      "File \u001b[0;32m/mnt/c/Users/yyush/Documents/GitHub/COMICS/function.py:20\u001b[0m, in \u001b[0;36mreadheader\u001b[0;34m(filename)\u001b[0m\n\u001b[1;32m     16\u001b[0m     \u001b[39mreturn\u001b[39;00m fits\u001b[39m.\u001b[39mopen(filename)[\u001b[39m0\u001b[39m]\u001b[39m.\u001b[39mdata\n\u001b[1;32m     18\u001b[0m     \u001b[39mreturn\u001b[39;00m fits\u001b[39m.\u001b[39mopen(filename)[\u001b[39m0\u001b[39m]\u001b[39m.\u001b[39mdata\n\u001b[0;32m---> 20\u001b[0m \u001b[39mdef\u001b[39;00m \u001b[39mq_bsep_posi\u001b[39m(\u001b[39minput\u001b[39m):\n\u001b[1;32m     21\u001b[0m     \u001b[39mreturn\u001b[39;00m \u001b[39minput\u001b[39m[:,::\u001b[39m2\u001b[39m,:,:]\n\u001b[1;32m     22\u001b[0m \u001b[39mdef\u001b[39;00m \u001b[39mq_bsep_nega\u001b[39m(\u001b[39minput\u001b[39m):\n",
      "File \u001b[0;32m~/.local/lib/python3.8/site-packages/astropy/io/fits/hdu/hdulist.py:175\u001b[0m, in \u001b[0;36mfitsopen\u001b[0;34m(name, mode, memmap, save_backup, cache, lazy_load_hdus, ignore_missing_simple, **kwargs)\u001b[0m\n\u001b[1;32m    172\u001b[0m \u001b[39mif\u001b[39;00m \u001b[39mnot\u001b[39;00m name:\n\u001b[1;32m    173\u001b[0m     \u001b[39mraise\u001b[39;00m \u001b[39mValueError\u001b[39;00m(\u001b[39mf\u001b[39m\u001b[39m'\u001b[39m\u001b[39mEmpty filename: \u001b[39m\u001b[39m{\u001b[39;00mname\u001b[39m!r}\u001b[39;00m\u001b[39m'\u001b[39m)\n\u001b[0;32m--> 175\u001b[0m \u001b[39mreturn\u001b[39;00m HDUList\u001b[39m.\u001b[39;49mfromfile(name, mode, memmap, save_backup, cache,\n\u001b[1;32m    176\u001b[0m                         lazy_load_hdus, ignore_missing_simple, \u001b[39m*\u001b[39;49m\u001b[39m*\u001b[39;49mkwargs)\n",
      "File \u001b[0;32m~/.local/lib/python3.8/site-packages/astropy/io/fits/hdu/hdulist.py:410\u001b[0m, in \u001b[0;36mHDUList.fromfile\u001b[0;34m(cls, fileobj, mode, memmap, save_backup, cache, lazy_load_hdus, ignore_missing_simple, **kwargs)\u001b[0m\n\u001b[1;32m    398\u001b[0m \u001b[39m@classmethod\u001b[39m\n\u001b[1;32m    399\u001b[0m \u001b[39mdef\u001b[39;00m \u001b[39mfromfile\u001b[39m(\u001b[39mcls\u001b[39m, fileobj, mode\u001b[39m=\u001b[39m\u001b[39mNone\u001b[39;00m, memmap\u001b[39m=\u001b[39m\u001b[39mNone\u001b[39;00m,\n\u001b[1;32m    400\u001b[0m              save_backup\u001b[39m=\u001b[39m\u001b[39mFalse\u001b[39;00m, cache\u001b[39m=\u001b[39m\u001b[39mTrue\u001b[39;00m, lazy_load_hdus\u001b[39m=\u001b[39m\u001b[39mTrue\u001b[39;00m,\n\u001b[1;32m    401\u001b[0m              ignore_missing_simple\u001b[39m=\u001b[39m\u001b[39mFalse\u001b[39;00m, \u001b[39m*\u001b[39m\u001b[39m*\u001b[39mkwargs):\n\u001b[1;32m    402\u001b[0m     \u001b[39m\"\"\"\u001b[39;00m\n\u001b[1;32m    403\u001b[0m \u001b[39m    Creates an `HDUList` instance from a file-like object.\u001b[39;00m\n\u001b[1;32m    404\u001b[0m \n\u001b[0;32m   (...)\u001b[0m\n\u001b[1;32m    407\u001b[0m \u001b[39m    documentation for details of the parameters accepted by this method).\u001b[39;00m\n\u001b[1;32m    408\u001b[0m \u001b[39m    \"\"\"\u001b[39;00m\n\u001b[0;32m--> 410\u001b[0m     \u001b[39mreturn\u001b[39;00m \u001b[39mcls\u001b[39;49m\u001b[39m.\u001b[39;49m_readfrom(fileobj\u001b[39m=\u001b[39;49mfileobj, mode\u001b[39m=\u001b[39;49mmode, memmap\u001b[39m=\u001b[39;49mmemmap,\n\u001b[1;32m    411\u001b[0m                          save_backup\u001b[39m=\u001b[39;49msave_backup, cache\u001b[39m=\u001b[39;49mcache,\n\u001b[1;32m    412\u001b[0m                          ignore_missing_simple\u001b[39m=\u001b[39;49mignore_missing_simple,\n\u001b[1;32m    413\u001b[0m                          lazy_load_hdus\u001b[39m=\u001b[39;49mlazy_load_hdus, \u001b[39m*\u001b[39;49m\u001b[39m*\u001b[39;49mkwargs)\n",
      "File \u001b[0;32m~/.local/lib/python3.8/site-packages/astropy/io/fits/hdu/hdulist.py:1062\u001b[0m, in \u001b[0;36mHDUList._readfrom\u001b[0;34m(cls, fileobj, data, mode, memmap, cache, lazy_load_hdus, ignore_missing_simple, **kwargs)\u001b[0m\n\u001b[1;32m   1059\u001b[0m \u001b[39mif\u001b[39;00m fileobj \u001b[39mis\u001b[39;00m \u001b[39mnot\u001b[39;00m \u001b[39mNone\u001b[39;00m:\n\u001b[1;32m   1060\u001b[0m     \u001b[39mif\u001b[39;00m \u001b[39mnot\u001b[39;00m \u001b[39misinstance\u001b[39m(fileobj, _File):\n\u001b[1;32m   1061\u001b[0m         \u001b[39m# instantiate a FITS file object (ffo)\u001b[39;00m\n\u001b[0;32m-> 1062\u001b[0m         fileobj \u001b[39m=\u001b[39m _File(fileobj, mode\u001b[39m=\u001b[39;49mmode, memmap\u001b[39m=\u001b[39;49mmemmap, cache\u001b[39m=\u001b[39;49mcache)\n\u001b[1;32m   1063\u001b[0m     \u001b[39m# The Astropy mode is determined by the _File initializer if the\u001b[39;00m\n\u001b[1;32m   1064\u001b[0m     \u001b[39m# supplied mode was None\u001b[39;00m\n\u001b[1;32m   1065\u001b[0m     mode \u001b[39m=\u001b[39m fileobj\u001b[39m.\u001b[39mmode\n",
      "File \u001b[0;32m~/.local/lib/python3.8/site-packages/astropy/io/fits/file.py:170\u001b[0m, in \u001b[0;36m_File.__init__\u001b[0;34m(self, fileobj, mode, memmap, overwrite, cache)\u001b[0m\n\u001b[1;32m    168\u001b[0m     \u001b[39mself\u001b[39m\u001b[39m.\u001b[39m_open_fileobj(fileobj, mode, overwrite)\n\u001b[1;32m    169\u001b[0m \u001b[39melif\u001b[39;00m \u001b[39misinstance\u001b[39m(fileobj, (\u001b[39mstr\u001b[39m, \u001b[39mbytes\u001b[39m)):\n\u001b[0;32m--> 170\u001b[0m     \u001b[39mself\u001b[39;49m\u001b[39m.\u001b[39;49m_open_filename(fileobj, mode, overwrite)\n\u001b[1;32m    171\u001b[0m \u001b[39melse\u001b[39;00m:\n\u001b[1;32m    172\u001b[0m     \u001b[39mself\u001b[39m\u001b[39m.\u001b[39m_open_filelike(fileobj, mode, overwrite)\n",
      "File \u001b[0;32m~/.local/lib/python3.8/site-packages/astropy/io/fits/file.py:562\u001b[0m, in \u001b[0;36m_File._open_filename\u001b[0;34m(self, filename, mode, overwrite)\u001b[0m\n\u001b[1;32m    559\u001b[0m ext \u001b[39m=\u001b[39m os\u001b[39m.\u001b[39mpath\u001b[39m.\u001b[39msplitext(\u001b[39mself\u001b[39m\u001b[39m.\u001b[39mname)[\u001b[39m1\u001b[39m]\n\u001b[1;32m    561\u001b[0m \u001b[39mif\u001b[39;00m \u001b[39mnot\u001b[39;00m \u001b[39mself\u001b[39m\u001b[39m.\u001b[39m_try_read_compressed(\u001b[39mself\u001b[39m\u001b[39m.\u001b[39mname, magic, mode, ext\u001b[39m=\u001b[39mext):\n\u001b[0;32m--> 562\u001b[0m     \u001b[39mself\u001b[39m\u001b[39m.\u001b[39m_file \u001b[39m=\u001b[39m \u001b[39mopen\u001b[39;49m(\u001b[39mself\u001b[39;49m\u001b[39m.\u001b[39;49mname, IO_FITS_MODES[mode])\n\u001b[1;32m    563\u001b[0m     \u001b[39mself\u001b[39m\u001b[39m.\u001b[39mclose_on_error \u001b[39m=\u001b[39m \u001b[39mTrue\u001b[39;00m\n\u001b[1;32m    565\u001b[0m \u001b[39m# Make certain we're back at the beginning of the file\u001b[39;00m\n\u001b[1;32m    566\u001b[0m \u001b[39m# BZ2File does not support seek when the file is open for writing, but\u001b[39;00m\n\u001b[1;32m    567\u001b[0m \u001b[39m# when opening a file for write, bz2.BZ2File always truncates anyway.\u001b[39;00m\n",
      "\u001b[0;31mFileNotFoundError\u001b[0m: [Errno 2] No such file or directory: '/mnt/e/2003/COMA00037345.fits'"
     ]
    }
   ],
   "source": [
    "makedarkcsv(\"2003\")"
   ]
  },
  {
   "attachments": {},
   "cell_type": "markdown",
   "metadata": {},
   "source": [
    "## 天体画像の入力に対してdarkを特定(dfを返す)"
   ]
  },
  {
   "cell_type": "code",
   "execution_count": 6,
   "metadata": {},
   "outputs": [],
   "source": [
    "def identify(obsfilename):\n",
    "    obsheader = readheader(obsfilename)\n",
    "    #年を取得\n",
    "    year = obsheader[\"DATE-OBS\"][:4]\n",
    "    #DARK.csvにアクセス\n",
    "    darkcsv = r'/mnt/e/'+year +r'/dark/dark.csv'\n",
    "    darkdf = pd.read_csv(darkcsv)\n",
    "    #一致条件を指定する\n",
    "    Q_PIXTIM = obsheader[\"Q_PIXTIM\"]\n",
    "    Q_RRSTRT = obsheader[\"Q_RRSTRT\"]\n",
    "    DATE = obsheader[\"DATE-OBS\"]\n",
    "    Q_YSTRT = obsheader[\"Q_YSTRT\"]\n",
    "    A = (darkdf[\"PIXTIM\"] == Q_PIXTIM)\n",
    "    B = (darkdf[\"RRSTRT\"] == Q_RRSTRT)\n",
    "    C = (darkdf[\"DATE\"] == DATE)\n",
    "    D = (darkdf[\"YSTRT\"] == Q_YSTRT)\n",
    "    df = darkdf[A & B & C & D].reset_index(drop=True)\n",
    "    return df, year"
   ]
  },
  {
   "attachments": {},
   "cell_type": "markdown",
   "metadata": {},
   "source": [
    "## 特定後、1Expあたりの平均画像作成"
   ]
  },
  {
   "cell_type": "code",
   "execution_count": null,
   "metadata": {},
   "outputs": [],
   "source": [
    "def make1Expdark(obsfile)\n",
    "    df = identify(obsfile)[0]\n",
    "    year = identify(obsfile)[1]\n",
    "    darkbasefolder = r'/mnt/e/' + year +r'/'\n",
    "    obsdata= readdata(obsfile)\n",
    "    #obsdataと同じshapeの0のnumpyを作成\n",
    "    darkdata = np.zeros(list(obsdata.shape))\n",
    "    if len(df) == 0:\n",
    "        print(\"該当のダークが存在しない\")\n",
    "        #ここにはその場合の処理を記載する。\n",
    "        \n",
    "    #特定したダークファイル一枚一枚に対して、Q_CHEBが同じものを抽出??\n",
    "\n",
    "    df[df[\"Q_CHEB\"].duplicated()]\n",
    "    for darkfile in df[\"FRAME_ID\"]:\n",
    "        darkfilepath = darkbasefolder + darkfile +r'.fits'\n",
    "        darkdata += np.mean(darkfilepath,axis=1,keepdims=True)\n",
    "    #meanをとる\n",
    "    meandark = darkdata / len(df)\n",
    "    #1Expあたりに直す\n",
    "    meandark_1 = meandark / int(df[\"Q_CHEB\"])\n",
    "    return meandark_1"
   ]
  }
 ],
 "metadata": {
  "kernelspec": {
   "display_name": "Python 3",
   "language": "python",
   "name": "python3"
  },
  "language_info": {
   "codemirror_mode": {
    "name": "ipython",
    "version": 3
   },
   "file_extension": ".py",
   "mimetype": "text/x-python",
   "name": "python",
   "nbconvert_exporter": "python",
   "pygments_lexer": "ipython3",
   "version": "3.8.10"
  },
  "orig_nbformat": 4,
  "vscode": {
   "interpreter": {
    "hash": "916dbcbb3f70747c44a77c7bcd40155683ae19c65e1c03b4aa3499c5328201f1"
   }
  }
 },
 "nbformat": 4,
 "nbformat_minor": 2
}
