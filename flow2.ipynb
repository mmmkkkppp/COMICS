{
 "cells": [
  {
   "cell_type": "markdown",
   "metadata": {},
   "source": [
    "## 全体の流れ \n",
    "①年ごとにわけたフォルダを作成。  \n",
    "②それぞれの年の中で、ダークのフォルダを作成  \n",
    "③ダークのフォルダから、必要情報をまとめたデータフレームあるいは、csvファイルを作成しておく  \n",
    "\n",
    "④天体画像を選択(いったんパス付きで指定したとする)  \n",
    "⑤天体画像の日付等から、csvファイルを開き、ダークを探す  \n",
    "⑥該当のダークファイルが見つかれば、そのファイル名をリストに格納。  \n",
    "⑦ダーク処理を行う  \n",
    "⑧COMQ画像を取得する。  "
   ]
  },
  {
   "cell_type": "markdown",
   "metadata": {},
   "source": [
    "## 関数の定義"
   ]
  },
  {
   "cell_type": "code",
   "execution_count": null,
   "metadata": {},
   "outputs": [],
   "source": [
    "import astropy.io.fits as fits\n",
    "import numpy as np\n",
    "import glob\n",
    "import os\n",
    "from scipy.ndimage import gaussian_filter\n",
    "import pandas as pd\n",
    "import shutil\n",
    "\n",
    "\n",
    "def readheader(filename):\n",
    "    return fits.open(filename)[0].header\n",
    "\n",
    "\n",
    "def readdata(filename):\n",
    "    return fits.open(filename)[0].data\n",
    "#関数の定義\n",
    "def readheader(filename):\n",
    "    return fits.open(filename)[0].header\n",
    "\n",
    "def readdata(filename):\n",
    "    return fits.open(filename)[0].data\n",
    "\n",
    "def q_bsep_posi(input):\n",
    "    return input[:,::2,:,:]\n",
    "def q_bsep_nega(input):\n",
    "    return input[:,1::2,:,:]   \n",
    "#z方向平均\n",
    "def mean_z(input):\n",
    "    return np.mean(input, axis=1, keepdims=True)\n",
    "\n",
    "#gaussian filter\n",
    "\n",
    "\n",
    "def gaussfilter(input):\n",
    "    output = gaussian_filter(input[0, 0, :, :], sigma=6, order=0,\n",
    "                             output=None, mode='nearest', cval=0.0, truncate=4.0)\n",
    "    return output\n",
    "\n",
    "\n",
    "def q_subch(input):\n",
    "    #z方向については、COMQは1となっているはずである。\n",
    "    input_dim2 = input[0, 0, :, :]\n",
    "    #x軸方向に20*240と分割し、z方向に積み上げる\n",
    "\n",
    "    divstack = np.stack(np.split(input_dim2, 16, axis=1))\n",
    "    #z方向にmedianをとり、20*240をtileして320*240にする\n",
    "    beforetile = np.median(divstack, axis=0)  # keepdimsは不要(二次元でいい)\n",
    "    tilemedian = np.tile(beforetile, 16)\n",
    "    # print(tilemedian.shape)\n",
    "    input_to_output = input.copy()\n",
    "    input_to_output[0, 0, :, :] -= tilemedian\n",
    "    # input_to_output[0, 0, :, :] = 1\n",
    "    return input_to_output\n",
    "\n",
    "#fitsファイル作成用\n",
    "\n",
    "def makefits(dataname, filename):\n",
    "    hdu = fits.PrimaryHDU(data=dataname)\n",
    "    fits.HDUList([hdu]).writeto(str(filename), overwrite=True)"
   ]
  },
  {
   "cell_type": "markdown",
   "metadata": {},
   "source": [
    "## 処理の中身"
   ]
  },
  {
   "cell_type": "code",
   "execution_count": null,
   "metadata": {},
   "outputs": [],
   "source": [
    "def process(obsfilename):\n",
    "    \"\"\"  \n",
    "    ここには天体画像から、ダークを特定する処理を記載する。上のセル参照\n",
    "    \n",
    "    \"\"\"\n",
    "    darkheader1 =\n",
    "    if (darkheader1[\"Q_CHAM\"] != 1) or (obsheader[\"Q_CHAM\"] != 1):\n",
    "        print(\"CoAdd Modeが1ではない。\")\n",
    "    elif darkheader1[\"Q_CHAM\"] == 1 and darkheader2[\"Q_CHAM\"] == 1:\n",
    "        darkfile1 = readdata(dark1)\n",
    "        darkfile2 = readdata(dark2)\n",
    "        meandark = (np.mean(dark1, axis=1, keepdims=True) +\n",
    "                    np.mean(dark2, axis=1, keepdims=True)) / 2\n",
    "        meandark_1 = meandark / int(darkheader1[\"Q_CHEB\"])\n",
    "\n",
    "        #darkの差し引き\n",
    "        #Q_CHEB倍する\n",
    "        obsdata = readdata(obsfilename)\n",
    "        meandark_obs = meandark_1 * obsheader[\"Q_CHEB\"]\n",
    "\n",
    "        skydata = obsdata - meandark_obs\n",
    "        skydata_p = q_bsep_posi(skydata)\n",
    "        skydata_n = q_bsep_nega(skydata)\n",
    "\n",
    "        #z方向平均\n",
    "        sky_pa = mean_z(skydata_p)\n",
    "        sky_na = mean_z(skydata_n)\n",
    "\n",
    "        #gaussian　平均\n",
    "        sky_paG = gaussfilter(sky_pa)\n",
    "        sky_naG = gaussfilter(sky_na)\n",
    "\n",
    "        #Flatの作成\n",
    "        sky_paF = sky_pa / sky_paG\n",
    "        sky_naF = sky_na / sky_naG\n",
    "\n",
    "        #Chop差し引きした、COMQ画像に対して、Flatで割る\n",
    "        comq_data = readdata(obs_comq)\n",
    "        obj_obs = q_subch(comq_data)\n",
    "\n",
    "        #Flatで割る\n",
    "        obj_obs_datP0 = obj_obs / sky_naF\n",
    "        obj_obs_datN0 = obj_obs / sky_paF\n",
    "\n",
    "        makefits(obj_obs_datP0, \"./out/obj\" +\n",
    "                 str(obsfilename[-10:-5]) + \"_datP0.fits\")\n",
    "        makefits(obj_obs_datN0, \"./out/obj\" +\n",
    "                 str(obsfilename[-10:-5]) + \"_datN0.fits\")\n"
   ]
  },
  {
   "cell_type": "markdown",
   "metadata": {},
   "source": [
    "## 1. 年ごとにわけたフォルダの作成\n",
    "データの申請段階で年ごとに行なっているので、ファイル名を変えるのみ。"
   ]
  },
  {
   "cell_type": "markdown",
   "metadata": {},
   "source": [
    "## 2. ダークのフォルダを作成\n",
    "これは、それぞれの年ごとのフレームリストから、該当のファイルをとってきて、フォルダを移動させる。"
   ]
  },
  {
   "cell_type": "code",
   "execution_count": null,
   "metadata": {},
   "outputs": [],
   "source": [
    "#for example 2009年度のもの\n",
    "folderpath = r'D:\\2009-01-13'\n",
    "judgedarkfile = r'./DataFrame/COM_2009.xlsx'\n",
    "\n",
    "frameall = pd.read_excel(judgedarkfile)\n",
    "#1行目は不要なので削除\n",
    "frameall = frameall.dropna(how=\"all\", axis=0)\n",
    "darkframe = frameall[(frameall[\"DATA_TYP\"] == \"DARK\") |\n",
    "                     (frameall[\"OBJECT2\"] == \"DARK\")]\n",
    "#indexをリセット\n",
    "darkframe = darkframe.reset_index(drop=True)\n",
    "\n",
    "\n",
    "#filepath\n",
    "filepath = r\"D:\\2009\"\n",
    "filelist = glob.glob(filepath+\"\\*\")\n",
    "#ダークのフォルダを作成。\n",
    "os.makedirs(r\"D:\\2009\\DARK\", exist_ok=True)\n",
    "#darkの名前を取得\n",
    "for dark in darkframe[\"#FRAME_ID\"]:\n",
    "    #filename作成\n",
    "    name = filepath +\"\\\\\"+ str(dark) +\".fits\"\n",
    "    #移動\n",
    "    if name in filelist:\n",
    "        shutil.move(name, filepath+\"\\\\DARK\\\\\" + str(dark) +\".fits\")"
   ]
  },
  {
   "cell_type": "markdown",
   "metadata": {},
   "source": []
  },
  {
   "cell_type": "markdown",
   "metadata": {},
   "source": [
    "## 3. ダークフォルダから、必要な情報をまとめたデータフレームを作成"
   ]
  },
  {
   "cell_type": "code",
   "execution_count": null,
   "metadata": {},
   "outputs": [],
   "source": [
    "#for example 2009年の場合\n",
    "darkfolderpath = r\"D:\\2009\\DARK\"\n",
    "#darkのファイル名を取得\n",
    "darkfilelist = glob.glob(darkfolderpath+\"\\\\*\")\n",
    "#データフレーム作成。\n",
    "darkdf = pd.DataFrame(columns=[\"FRRAME_ID\", \"DATE\", \"PIXTIM\", \"RRSTRT\", \"YSTRT\", \"CoAdd\"])\n",
    "for darkfile in darkfilelist:\n",
    "    darkheader = readheader(darkfile)\n",
    "\n",
    "    list1 = [darkheader[\"FRAMEID\"], darkheader[\"DATE-OBS\"], darkheader[\"Q_PIXTIM\"],\n",
    "            darkheader[\"Q_RRSTRT\"], darkheader[\"Q_YSTRT\"], darkheader[\"Q_CHAM\"]]\n",
    "    add_row = pd.DataFrame([list1], columns = darkdf.columns)\n",
    "    darkdf = pd.concat([darkdf, add_row], ignore_index=True)\n",
    "darkdf.to_csv(darkfolderpath + \"\\\\\" + \"dark.csv\")\n",
    "\n"
   ]
  },
  {
   "cell_type": "code",
   "execution_count": null,
   "metadata": {},
   "outputs": [],
   "source": []
  },
  {
   "cell_type": "markdown",
   "metadata": {},
   "source": [
    "## 4. 天体画像を与えたときにダークを探す"
   ]
  },
  {
   "cell_type": "code",
   "execution_count": null,
   "metadata": {},
   "outputs": [],
   "source": [
    "#for example \n",
    "obsfile = \n",
    "obsheader = readheader(obsfile)"
   ]
  },
  {
   "cell_type": "markdown",
   "metadata": {},
   "source": []
  }
 ],
 "metadata": {
  "kernelspec": {
   "display_name": "Python 3.9.1 64-bit",
   "language": "python",
   "name": "python3"
  },
  "language_info": {
   "name": "python",
   "version": "3.9.1"
  },
  "orig_nbformat": 4,
  "vscode": {
   "interpreter": {
    "hash": "aee8b7b246df8f9039afb4144a1f6fd8d2ca17a180786b69acc140d282b71a49"
   }
  }
 },
 "nbformat": 4,
 "nbformat_minor": 2
}
