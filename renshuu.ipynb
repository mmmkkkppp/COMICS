{
 "cells": [
  {
   "cell_type": "code",
   "execution_count": 9,
   "metadata": {},
   "outputs": [
    {
     "ename": "FileNotFoundError",
     "evalue": "[WinError 2] 指定されたファイルが見つかりません。",
     "output_type": "error",
     "traceback": [
      "\u001b[1;31m---------------------------------------------------------------------------\u001b[0m",
      "\u001b[1;31mFileNotFoundError\u001b[0m                         Traceback (most recent call last)",
      "\u001b[1;32mセル1 を c:\\Users\\yyush\\Documents\\GitHub\\COMICS\\renshuu.ipynb\u001b[0m in \u001b[0;36m<cell line: 44>\u001b[1;34m()\u001b[0m\n\u001b[0;32m     <a href='vscode-notebook-cell:/c%3A/Users/yyush/Documents/GitHub/COMICS/renshuu.ipynb#W0sZmlsZQ%3D%3D?line=27'>28</a>\u001b[0m \u001b[39m# data = pd.read_csv('default_.sex', sep='\\t', header=None)\u001b[39;00m\n\u001b[0;32m     <a href='vscode-notebook-cell:/c%3A/Users/yyush/Documents/GitHub/COMICS/renshuu.ipynb#W0sZmlsZQ%3D%3D?line=28'>29</a>\u001b[0m \u001b[39m#data.iloc[4,0]\u001b[39;00m\n\u001b[0;32m     <a href='vscode-notebook-cell:/c%3A/Users/yyush/Documents/GitHub/COMICS/renshuu.ipynb#W0sZmlsZQ%3D%3D?line=29'>30</a>\u001b[0m \u001b[39m#~.catの変更\u001b[39;00m\n\u001b[1;32m   (...)\u001b[0m\n\u001b[0;32m     <a href='vscode-notebook-cell:/c%3A/Users/yyush/Documents/GitHub/COMICS/renshuu.ipynb#W0sZmlsZQ%3D%3D?line=40'>41</a>\u001b[0m \n\u001b[0;32m     <a href='vscode-notebook-cell:/c%3A/Users/yyush/Documents/GitHub/COMICS/renshuu.ipynb#W0sZmlsZQ%3D%3D?line=41'>42</a>\u001b[0m \u001b[39m# sex filename -c ~~.sex -DETECT_MINAREA PSF -PHOT_APERTURES \"複数の値指定\" -DETECT_THRESH 3 -ANALYSIS_THRESH 3 -FILTER N\u001b[39;00m\n\u001b[0;32m     <a href='vscode-notebook-cell:/c%3A/Users/yyush/Documents/GitHub/COMICS/renshuu.ipynb#W0sZmlsZQ%3D%3D?line=42'>43</a>\u001b[0m CATALOG_NAME \u001b[39m=\u001b[39m \u001b[39m\"\u001b[39m\u001b[39m\"\u001b[39m  \u001b[39m# 出力cat\u001b[39;00m\n\u001b[1;32m---> <a href='vscode-notebook-cell:/c%3A/Users/yyush/Documents/GitHub/COMICS/renshuu.ipynb#W0sZmlsZQ%3D%3D?line=43'>44</a>\u001b[0m sp\u001b[39m.\u001b[39;49mcall([\u001b[39m\"\u001b[39;49m\u001b[39msex\u001b[39;49m\u001b[39m\"\u001b[39;49m, \u001b[39mstr\u001b[39;49m(filename), \u001b[39m\"\u001b[39;49m\u001b[39m-c\u001b[39;49m\u001b[39m\"\u001b[39;49m,\n\u001b[0;32m     <a href='vscode-notebook-cell:/c%3A/Users/yyush/Documents/GitHub/COMICS/renshuu.ipynb#W0sZmlsZQ%3D%3D?line=44'>45</a>\u001b[0m          \u001b[39m\"\u001b[39;49m\u001b[39m/mnt/c/Users/yyush/Documents/GitHub/COMICS/default_.sex\u001b[39;49m\u001b[39m\"\u001b[39;49m,\n\u001b[0;32m     <a href='vscode-notebook-cell:/c%3A/Users/yyush/Documents/GitHub/COMICS/renshuu.ipynb#W0sZmlsZQ%3D%3D?line=45'>46</a>\u001b[0m         \u001b[39m#  \"-CATALOG_NAME\",\u001b[39;49;00m\n\u001b[0;32m     <a href='vscode-notebook-cell:/c%3A/Users/yyush/Documents/GitHub/COMICS/renshuu.ipynb#W0sZmlsZQ%3D%3D?line=46'>47</a>\u001b[0m         \u001b[39m#  str(filename.replace(\"fits\", \"cat\")),\u001b[39;49;00m\n\u001b[0;32m     <a href='vscode-notebook-cell:/c%3A/Users/yyush/Documents/GitHub/COMICS/renshuu.ipynb#W0sZmlsZQ%3D%3D?line=47'>48</a>\u001b[0m         \u001b[39m#  \"-DETECT_MINAREA\",\u001b[39;49;00m\n\u001b[0;32m     <a href='vscode-notebook-cell:/c%3A/Users/yyush/Documents/GitHub/COMICS/renshuu.ipynb#W0sZmlsZQ%3D%3D?line=48'>49</a>\u001b[0m         \u001b[39m#  str(PSF(filename))[:4],\u001b[39;49;00m\n\u001b[0;32m     <a href='vscode-notebook-cell:/c%3A/Users/yyush/Documents/GitHub/COMICS/renshuu.ipynb#W0sZmlsZQ%3D%3D?line=49'>50</a>\u001b[0m         \u001b[39m#  \"-DETECT_THRESH\",\u001b[39;49;00m\n\u001b[0;32m     <a href='vscode-notebook-cell:/c%3A/Users/yyush/Documents/GitHub/COMICS/renshuu.ipynb#W0sZmlsZQ%3D%3D?line=50'>51</a>\u001b[0m         \u001b[39m#  3,\u001b[39;49;00m\n\u001b[0;32m     <a href='vscode-notebook-cell:/c%3A/Users/yyush/Documents/GitHub/COMICS/renshuu.ipynb#W0sZmlsZQ%3D%3D?line=51'>52</a>\u001b[0m         \u001b[39m#  \"-ANALYSIS_THRESH\",\u001b[39;49;00m\n\u001b[0;32m     <a href='vscode-notebook-cell:/c%3A/Users/yyush/Documents/GitHub/COMICS/renshuu.ipynb#W0sZmlsZQ%3D%3D?line=52'>53</a>\u001b[0m         \u001b[39m#  3,\u001b[39;49;00m\n\u001b[0;32m     <a href='vscode-notebook-cell:/c%3A/Users/yyush/Documents/GitHub/COMICS/renshuu.ipynb#W0sZmlsZQ%3D%3D?line=53'>54</a>\u001b[0m         \u001b[39m#  \"-FILTER\",\u001b[39;49;00m\n\u001b[0;32m     <a href='vscode-notebook-cell:/c%3A/Users/yyush/Documents/GitHub/COMICS/renshuu.ipynb#W0sZmlsZQ%3D%3D?line=54'>55</a>\u001b[0m         \u001b[39m#  \"N\"\u001b[39;49;00m\n\u001b[0;32m     <a href='vscode-notebook-cell:/c%3A/Users/yyush/Documents/GitHub/COMICS/renshuu.ipynb#W0sZmlsZQ%3D%3D?line=55'>56</a>\u001b[0m          ])\n",
      "File \u001b[1;32mc:\\Users\\yyush\\AppData\\Local\\Programs\\Python\\Python310\\lib\\subprocess.py:345\u001b[0m, in \u001b[0;36mcall\u001b[1;34m(timeout, *popenargs, **kwargs)\u001b[0m\n\u001b[0;32m    337\u001b[0m \u001b[39mdef\u001b[39;00m \u001b[39mcall\u001b[39m(\u001b[39m*\u001b[39mpopenargs, timeout\u001b[39m=\u001b[39m\u001b[39mNone\u001b[39;00m, \u001b[39m*\u001b[39m\u001b[39m*\u001b[39mkwargs):\n\u001b[0;32m    338\u001b[0m     \u001b[39m\"\"\"Run command with arguments.  Wait for command to complete or\u001b[39;00m\n\u001b[0;32m    339\u001b[0m \u001b[39m    timeout, then return the returncode attribute.\u001b[39;00m\n\u001b[0;32m    340\u001b[0m \n\u001b[1;32m   (...)\u001b[0m\n\u001b[0;32m    343\u001b[0m \u001b[39m    retcode = call([\"ls\", \"-l\"])\u001b[39;00m\n\u001b[0;32m    344\u001b[0m \u001b[39m    \"\"\"\u001b[39;00m\n\u001b[1;32m--> 345\u001b[0m     \u001b[39mwith\u001b[39;00m Popen(\u001b[39m*\u001b[39mpopenargs, \u001b[39m*\u001b[39m\u001b[39m*\u001b[39mkwargs) \u001b[39mas\u001b[39;00m p:\n\u001b[0;32m    346\u001b[0m         \u001b[39mtry\u001b[39;00m:\n\u001b[0;32m    347\u001b[0m             \u001b[39mreturn\u001b[39;00m p\u001b[39m.\u001b[39mwait(timeout\u001b[39m=\u001b[39mtimeout)\n",
      "File \u001b[1;32mc:\\Users\\yyush\\AppData\\Local\\Programs\\Python\\Python310\\lib\\subprocess.py:966\u001b[0m, in \u001b[0;36mPopen.__init__\u001b[1;34m(self, args, bufsize, executable, stdin, stdout, stderr, preexec_fn, close_fds, shell, cwd, env, universal_newlines, startupinfo, creationflags, restore_signals, start_new_session, pass_fds, user, group, extra_groups, encoding, errors, text, umask, pipesize)\u001b[0m\n\u001b[0;32m    962\u001b[0m         \u001b[39mif\u001b[39;00m \u001b[39mself\u001b[39m\u001b[39m.\u001b[39mtext_mode:\n\u001b[0;32m    963\u001b[0m             \u001b[39mself\u001b[39m\u001b[39m.\u001b[39mstderr \u001b[39m=\u001b[39m io\u001b[39m.\u001b[39mTextIOWrapper(\u001b[39mself\u001b[39m\u001b[39m.\u001b[39mstderr,\n\u001b[0;32m    964\u001b[0m                     encoding\u001b[39m=\u001b[39mencoding, errors\u001b[39m=\u001b[39merrors)\n\u001b[1;32m--> 966\u001b[0m     \u001b[39mself\u001b[39;49m\u001b[39m.\u001b[39;49m_execute_child(args, executable, preexec_fn, close_fds,\n\u001b[0;32m    967\u001b[0m                         pass_fds, cwd, env,\n\u001b[0;32m    968\u001b[0m                         startupinfo, creationflags, shell,\n\u001b[0;32m    969\u001b[0m                         p2cread, p2cwrite,\n\u001b[0;32m    970\u001b[0m                         c2pread, c2pwrite,\n\u001b[0;32m    971\u001b[0m                         errread, errwrite,\n\u001b[0;32m    972\u001b[0m                         restore_signals,\n\u001b[0;32m    973\u001b[0m                         gid, gids, uid, umask,\n\u001b[0;32m    974\u001b[0m                         start_new_session)\n\u001b[0;32m    975\u001b[0m \u001b[39mexcept\u001b[39;00m:\n\u001b[0;32m    976\u001b[0m     \u001b[39m# Cleanup if the child failed starting.\u001b[39;00m\n\u001b[0;32m    977\u001b[0m     \u001b[39mfor\u001b[39;00m f \u001b[39min\u001b[39;00m \u001b[39mfilter\u001b[39m(\u001b[39mNone\u001b[39;00m, (\u001b[39mself\u001b[39m\u001b[39m.\u001b[39mstdin, \u001b[39mself\u001b[39m\u001b[39m.\u001b[39mstdout, \u001b[39mself\u001b[39m\u001b[39m.\u001b[39mstderr)):\n",
      "File \u001b[1;32mc:\\Users\\yyush\\AppData\\Local\\Programs\\Python\\Python310\\lib\\subprocess.py:1435\u001b[0m, in \u001b[0;36mPopen._execute_child\u001b[1;34m(self, args, executable, preexec_fn, close_fds, pass_fds, cwd, env, startupinfo, creationflags, shell, p2cread, p2cwrite, c2pread, c2pwrite, errread, errwrite, unused_restore_signals, unused_gid, unused_gids, unused_uid, unused_umask, unused_start_new_session)\u001b[0m\n\u001b[0;32m   1433\u001b[0m \u001b[39m# Start the process\u001b[39;00m\n\u001b[0;32m   1434\u001b[0m \u001b[39mtry\u001b[39;00m:\n\u001b[1;32m-> 1435\u001b[0m     hp, ht, pid, tid \u001b[39m=\u001b[39m _winapi\u001b[39m.\u001b[39;49mCreateProcess(executable, args,\n\u001b[0;32m   1436\u001b[0m                              \u001b[39m# no special security\u001b[39;49;00m\n\u001b[0;32m   1437\u001b[0m                              \u001b[39mNone\u001b[39;49;00m, \u001b[39mNone\u001b[39;49;00m,\n\u001b[0;32m   1438\u001b[0m                              \u001b[39mint\u001b[39;49m(\u001b[39mnot\u001b[39;49;00m close_fds),\n\u001b[0;32m   1439\u001b[0m                              creationflags,\n\u001b[0;32m   1440\u001b[0m                              env,\n\u001b[0;32m   1441\u001b[0m                              cwd,\n\u001b[0;32m   1442\u001b[0m                              startupinfo)\n\u001b[0;32m   1443\u001b[0m \u001b[39mfinally\u001b[39;00m:\n\u001b[0;32m   1444\u001b[0m     \u001b[39m# Child is launched. Close the parent's copy of those pipe\u001b[39;00m\n\u001b[0;32m   1445\u001b[0m     \u001b[39m# handles that only the child should have open.  You need\u001b[39;00m\n\u001b[1;32m   (...)\u001b[0m\n\u001b[0;32m   1448\u001b[0m     \u001b[39m# pipe will not close when the child process exits and the\u001b[39;00m\n\u001b[0;32m   1449\u001b[0m     \u001b[39m# ReadFile will hang.\u001b[39;00m\n\u001b[0;32m   1450\u001b[0m     \u001b[39mself\u001b[39m\u001b[39m.\u001b[39m_close_pipe_fds(p2cread, p2cwrite,\n\u001b[0;32m   1451\u001b[0m                          c2pread, c2pwrite,\n\u001b[0;32m   1452\u001b[0m                          errread, errwrite)\n",
      "\u001b[1;31mFileNotFoundError\u001b[0m: [WinError 2] 指定されたファイルが見つかりません。"
     ]
    }
   ],
   "source": [
    "import subprocess as sp\n",
    "import sys\n",
    "import os\n",
    "from function import *\n",
    "import pandas as pd\n",
    "import re\n",
    "import math\n",
    "\n",
    "\n",
    "def PSF(file):\n",
    "    header = readheader(file)[\"FILTER03\"]\n",
    "    # CとWに挟まれた文字を検索、group(1)でCとWを含めないよう指定、float型に変換\n",
    "    lambda_ = float(re.search(r'C(.+)W', header).group(1))\n",
    "    \n",
    "    D = 8.08\n",
    "    lambda_=8\n",
    "    PSF_arcsec = 1.028 * lambda_*1e-6 / D * 3600 * 180 / math.pi\n",
    "    #arcsec からpixelに変換\n",
    "    PSF_pixel = PSF_arcsec / 0.13\n",
    "    return PSF_pixel\n",
    "\n",
    "\n",
    "#sextractorを回す。\n",
    "#先に、ディレクトリを移動しておく。\n",
    "filename = sys.argv[1]\n",
    "filename =\"COMQ00058799.fits\"\n",
    "\n",
    "# data = pd.read_csv('default_.sex', sep='\\t', header=None)\n",
    "#data.iloc[4,0]\n",
    "#~.catの変更\n",
    "# renamecat = filename.replace(\n",
    "#     'out_obj/', 'out_obj/cat/').replace('fits', 'cat')  # pathをここに入れる\n",
    "# cat = 'CATALOG_NAME     ' + renamecat + '       # name of the output catalog'\n",
    "# data.iloc[4, 0] = cat\n",
    "# aftername = 'DETECT_MINAREA   ' + \\\n",
    "#     str(PSF(filename))[:5]+'              # min. # of pixels above threshold'\n",
    "# print(\"DETECT_MINAREA: {}\".format(str(PSF(filename))[:5]))\n",
    "# data.iloc[10, 0] = aftername\n",
    "# data.to_csv('finalversion.sex', sep='\\t', index=False, header=None)\n",
    "\n",
    "\n",
    "# sex filename -c ~~.sex -DETECT_MINAREA PSF -PHOT_APERTURES \"複数の値指定\" -DETECT_THRESH 3 -ANALYSIS_THRESH 3 -FILTER N\n",
    "CATALOG_NAME = \"\"  # 出力cat\n",
    "sp.call([\"sex\", str(filename), \"-c\",\n",
    "         \"/mnt/c/Users/yyush/Documents/GitHub/COMICS/default_.sex\",\n",
    "        #  \"-CATALOG_NAME\",\n",
    "        #  str(filename.replace(\"fits\", \"cat\")),\n",
    "        #  \"-DETECT_MINAREA\",\n",
    "        #  str(PSF(filename))[:4],\n",
    "        #  \"-DETECT_THRESH\",\n",
    "        #  3,\n",
    "        #  \"-ANALYSIS_THRESH\",\n",
    "        #  3,\n",
    "        #  \"-FILTER\",\n",
    "        #  \"N\"\n",
    "         ])\n"
   ]
  },
  {
   "cell_type": "code",
   "execution_count": 14,
   "metadata": {},
   "outputs": [],
   "source": [
    "def PSF(file):\n",
    "    header = readheader(file)[\"FILTER03\"]\n",
    "    # CとWに挟まれた文字を検索、group(1)でCとWを含めないよう指定、float型に変換\n",
    "    lambda_ = float(re.search(r'C(.+)W', header).group(1))\n",
    "\n",
    "    D = 8.08\n",
    "    \n",
    "    PSF_arcsec = 1.028 * lambda_*1e-6 / D * 3600 * 180 / math.pi\n",
    "    print(PSF_arcsec)\n",
    "    #arcsec からpixelに変換\n",
    "    PSF_pixel = PSF_arcsec / 0.13\n",
    "    print(PSF_pixel)\n",
    "    return PSF_pixel\n",
    "file = \"COMQ00058799.fits\""
   ]
  },
  {
   "cell_type": "code",
   "execution_count": 15,
   "metadata": {},
   "outputs": [
    {
     "name": "stdout",
     "output_type": "stream",
     "text": [
      "0.20994081269506437\n",
      "1.614929328423572\n"
     ]
    },
    {
     "data": {
      "text/plain": [
       "1.614929328423572"
      ]
     },
     "execution_count": 15,
     "metadata": {},
     "output_type": "execute_result"
    }
   ],
   "source": [
    "PSF(file)"
   ]
  },
  {
   "cell_type": "code",
   "execution_count": null,
   "metadata": {},
   "outputs": [],
   "source": []
  }
 ],
 "metadata": {
  "kernelspec": {
   "display_name": "Python 3",
   "language": "python",
   "name": "python3"
  },
  "language_info": {
   "codemirror_mode": {
    "name": "ipython",
    "version": 3
   },
   "file_extension": ".py",
   "mimetype": "text/x-python",
   "name": "python",
   "nbconvert_exporter": "python",
   "pygments_lexer": "ipython3",
   "version": "3.8.10 (default, Jun 22 2022, 20:18:18) \n[GCC 9.4.0]"
  },
  "orig_nbformat": 4,
  "vscode": {
   "interpreter": {
    "hash": "916dbcbb3f70747c44a77c7bcd40155683ae19c65e1c03b4aa3499c5328201f1"
   }
  }
 },
 "nbformat": 4,
 "nbformat_minor": 2
}
