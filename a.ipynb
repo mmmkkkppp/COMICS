{
 "cells": [
  {
   "cell_type": "code",
   "execution_count": 1,
   "metadata": {},
   "outputs": [],
   "source": [
    "from function import *"
   ]
  },
  {
   "cell_type": "code",
   "execution_count": 5,
   "metadata": {},
   "outputs": [],
   "source": [
    "import pandas as pd\n",
    "year = \"2004\"\n",
    "darkcsv = r'/mnt/e/'+year + r'/dark/dark.csv'\n",
    "df = pd.read_csv(darkcsv)"
   ]
  },
  {
   "cell_type": "code",
   "execution_count": 17,
   "metadata": {},
   "outputs": [],
   "source": [
    "def searchdarkfile(year):  # first\n",
    "    basefolder = r'/mnt/e/DataFrame/'\n",
    "    allframe = pd.read_excel(basefolder + \"COM_\"+year +\n",
    "                             \".xlsx\", sheet_name=\"COM_\"+year, skiprows=0)\n",
    "    allframe.dropna(how=\"all\", axis=0)\n",
    "    darkframe = allframe[(allframe[\"DATA_TYP\"].str.contains(\"DARK\")) |\n",
    "                         (allframe[\"OBJECT2\"].str.contains(\"DARK\"))]\n",
    "    darkframe = darkframe.reset_index(drop=True)\n",
    "    darkframe.to_csv(r'/mnt/e/DataFrame/dark/darkframe_' +\n",
    "                     year + r'.csv', encoding=\"utf-8\")\n",
    "    return darkframe\n"
   ]
  },
  {
   "cell_type": "code",
   "execution_count": 12,
   "metadata": {},
   "outputs": [],
   "source": [
    "def makedarkcsv2(year):\n",
    "    basefolder = r'/mnt/e/'+year + r'/'\n",
    "    darkdf = pd.DataFrame(\n",
    "        columns=[\"FRAME_ID\", \"DATE\", \"PIXTIM\", \"RRSTRT\", \"YSTRT\", \"CoAdd\", \"NAXIS1\",\"NAXIS2\",\"NAXIS3\",\"NAXIS4\",\"Q_CHEB\",  \"OBS-MOD\", \"Q_DTYPE\",\"Q_DETST\"])\n",
    "    darkframe = pd.read_csv(r'/mnt/e/DataFrame/dark/darkframe_' +\n",
    "                            year + r'.csv')\n",
    "    for darkfile in darkframe[\"#FRAME_ID\"]:\n",
    "        # header読み込み\n",
    "        darkfilepath = basefolder + darkfile + \".fits\"\n",
    "        darkheader = readheader(darkfilepath)\n",
    "        darkdata = readdata(darkfilepath)\n",
    "\n",
    "        list1 = [darkheader[\"FRAMEID\"], darkheader[\"DATE-OBS\"], darkheader[\"Q_PIXTIM\"],\n",
    "                darkheader[\"Q_RRSTRT\"], darkheader[\"Q_YSTRT\"], darkheader[\"Q_CHAM\"], darkheader[\"NAXIS1\"],darkheader[\"NAXIS2\"], darkheader[\"NAXIS3\"],darkheader[\"NAXIS4\"],darkheader[\"Q_CHEB\"],darkheader[\"OBS-MOD\"], darkheader[\"Q_DTYPE\"],darkheader[\"Q_DETST\"]]\n",
    "        add_row = pd.DataFrame([list1], columns=darkdf.columns)\n",
    "        darkdf = pd.concat([darkdf, add_row], ignore_index=True)\n",
    "        # dark画像を移動\n",
    "        os.makedirs(basefolder+r'dark', exist_ok=True)\n",
    "        shutil.move(darkfilepath, basefolder+r'dark/')\n",
    "    darkdf.to_csv(basefolder+r'dark/dark.csv', index=False, encoding=\"utf-8\")"
   ]
  },
  {
   "cell_type": "code",
   "execution_count": 8,
   "metadata": {},
   "outputs": [],
   "source": [
    "makedarkcsv2(\"2004\")"
   ]
  },
  {
   "cell_type": "code",
   "execution_count": 9,
   "metadata": {},
   "outputs": [],
   "source": [
    "makedarkcsv2(\"2005\")"
   ]
  },
  {
   "cell_type": "code",
   "execution_count": 13,
   "metadata": {},
   "outputs": [],
   "source": [
    "makedarkcsv2(\"2006\")"
   ]
  },
  {
   "cell_type": "code",
   "execution_count": 18,
   "metadata": {},
   "outputs": [
    {
     "ename": "FileNotFoundError",
     "evalue": "[Errno 2] No such file or directory: '/mnt/e/2014/dark/COMA00121253.fits'",
     "output_type": "error",
     "traceback": [
      "\u001b[0;31m---------------------------------------------------------------------------\u001b[0m",
      "\u001b[0;31mFileNotFoundError\u001b[0m                         Traceback (most recent call last)",
      "Cell \u001b[0;32mIn [18], line 4\u001b[0m\n\u001b[1;32m      2\u001b[0m \u001b[39mfor\u001b[39;00m year \u001b[39min\u001b[39;00m yearlist:\n\u001b[1;32m      3\u001b[0m     searchdarkfile(year)\n\u001b[0;32m----> 4\u001b[0m     makedarkcsv2(year)\n",
      "Cell \u001b[0;32mIn [12], line 10\u001b[0m, in \u001b[0;36mmakedarkcsv2\u001b[0;34m(year)\u001b[0m\n\u001b[1;32m      7\u001b[0m \u001b[39mfor\u001b[39;00m darkfile \u001b[39min\u001b[39;00m darkframe[\u001b[39m\"\u001b[39m\u001b[39m#FRAME_ID\u001b[39m\u001b[39m\"\u001b[39m]:\n\u001b[1;32m      8\u001b[0m     \u001b[39m# header読み込み\u001b[39;00m\n\u001b[1;32m      9\u001b[0m     darkfilepath \u001b[39m=\u001b[39m basefolder \u001b[39m+\u001b[39m darkfile \u001b[39m+\u001b[39m \u001b[39m\"\u001b[39m\u001b[39m.fits\u001b[39m\u001b[39m\"\u001b[39m\n\u001b[0;32m---> 10\u001b[0m     darkheader \u001b[39m=\u001b[39m readheader(darkfilepath)\n\u001b[1;32m     11\u001b[0m     darkdata \u001b[39m=\u001b[39m readdata(darkfilepath)\n\u001b[1;32m     13\u001b[0m     list1 \u001b[39m=\u001b[39m [darkheader[\u001b[39m\"\u001b[39m\u001b[39mFRAMEID\u001b[39m\u001b[39m\"\u001b[39m], darkheader[\u001b[39m\"\u001b[39m\u001b[39mDATE-OBS\u001b[39m\u001b[39m\"\u001b[39m], darkheader[\u001b[39m\"\u001b[39m\u001b[39mQ_PIXTIM\u001b[39m\u001b[39m\"\u001b[39m],\n\u001b[1;32m     14\u001b[0m             darkheader[\u001b[39m\"\u001b[39m\u001b[39mQ_RRSTRT\u001b[39m\u001b[39m\"\u001b[39m], darkheader[\u001b[39m\"\u001b[39m\u001b[39mQ_YSTRT\u001b[39m\u001b[39m\"\u001b[39m], darkheader[\u001b[39m\"\u001b[39m\u001b[39mQ_CHAM\u001b[39m\u001b[39m\"\u001b[39m], darkheader[\u001b[39m\"\u001b[39m\u001b[39mNAXIS1\u001b[39m\u001b[39m\"\u001b[39m],darkheader[\u001b[39m\"\u001b[39m\u001b[39mNAXIS2\u001b[39m\u001b[39m\"\u001b[39m], darkheader[\u001b[39m\"\u001b[39m\u001b[39mNAXIS3\u001b[39m\u001b[39m\"\u001b[39m],darkheader[\u001b[39m\"\u001b[39m\u001b[39mNAXIS4\u001b[39m\u001b[39m\"\u001b[39m],darkheader[\u001b[39m\"\u001b[39m\u001b[39mQ_CHEB\u001b[39m\u001b[39m\"\u001b[39m],darkheader[\u001b[39m\"\u001b[39m\u001b[39mOBS-MOD\u001b[39m\u001b[39m\"\u001b[39m], darkheader[\u001b[39m\"\u001b[39m\u001b[39mQ_DTYPE\u001b[39m\u001b[39m\"\u001b[39m],darkheader[\u001b[39m\"\u001b[39m\u001b[39mQ_DETST\u001b[39m\u001b[39m\"\u001b[39m]]\n",
      "File \u001b[0;32m/mnt/c/Users/yyush/Documents/GitHub/COMICS/function.py:12\u001b[0m, in \u001b[0;36mreadheader\u001b[0;34m(filename)\u001b[0m\n\u001b[1;32m     11\u001b[0m \u001b[39mdef\u001b[39;00m \u001b[39mreadheader\u001b[39m(filename):\n\u001b[0;32m---> 12\u001b[0m     \u001b[39mreturn\u001b[39;00m fits\u001b[39m.\u001b[39;49mopen(filename)[\u001b[39m0\u001b[39m]\u001b[39m.\u001b[39mheader\n",
      "File \u001b[0;32m~/.local/lib/python3.8/site-packages/astropy/io/fits/hdu/hdulist.py:175\u001b[0m, in \u001b[0;36mfitsopen\u001b[0;34m(name, mode, memmap, save_backup, cache, lazy_load_hdus, ignore_missing_simple, **kwargs)\u001b[0m\n\u001b[1;32m    172\u001b[0m \u001b[39mif\u001b[39;00m \u001b[39mnot\u001b[39;00m name:\n\u001b[1;32m    173\u001b[0m     \u001b[39mraise\u001b[39;00m \u001b[39mValueError\u001b[39;00m(\u001b[39mf\u001b[39m\u001b[39m'\u001b[39m\u001b[39mEmpty filename: \u001b[39m\u001b[39m{\u001b[39;00mname\u001b[39m!r}\u001b[39;00m\u001b[39m'\u001b[39m)\n\u001b[0;32m--> 175\u001b[0m \u001b[39mreturn\u001b[39;00m HDUList\u001b[39m.\u001b[39;49mfromfile(name, mode, memmap, save_backup, cache,\n\u001b[1;32m    176\u001b[0m                         lazy_load_hdus, ignore_missing_simple, \u001b[39m*\u001b[39;49m\u001b[39m*\u001b[39;49mkwargs)\n",
      "File \u001b[0;32m~/.local/lib/python3.8/site-packages/astropy/io/fits/hdu/hdulist.py:410\u001b[0m, in \u001b[0;36mHDUList.fromfile\u001b[0;34m(cls, fileobj, mode, memmap, save_backup, cache, lazy_load_hdus, ignore_missing_simple, **kwargs)\u001b[0m\n\u001b[1;32m    398\u001b[0m \u001b[39m@classmethod\u001b[39m\n\u001b[1;32m    399\u001b[0m \u001b[39mdef\u001b[39;00m \u001b[39mfromfile\u001b[39m(\u001b[39mcls\u001b[39m, fileobj, mode\u001b[39m=\u001b[39m\u001b[39mNone\u001b[39;00m, memmap\u001b[39m=\u001b[39m\u001b[39mNone\u001b[39;00m,\n\u001b[1;32m    400\u001b[0m              save_backup\u001b[39m=\u001b[39m\u001b[39mFalse\u001b[39;00m, cache\u001b[39m=\u001b[39m\u001b[39mTrue\u001b[39;00m, lazy_load_hdus\u001b[39m=\u001b[39m\u001b[39mTrue\u001b[39;00m,\n\u001b[1;32m    401\u001b[0m              ignore_missing_simple\u001b[39m=\u001b[39m\u001b[39mFalse\u001b[39;00m, \u001b[39m*\u001b[39m\u001b[39m*\u001b[39mkwargs):\n\u001b[1;32m    402\u001b[0m     \u001b[39m\"\"\"\u001b[39;00m\n\u001b[1;32m    403\u001b[0m \u001b[39m    Creates an `HDUList` instance from a file-like object.\u001b[39;00m\n\u001b[1;32m    404\u001b[0m \n\u001b[0;32m   (...)\u001b[0m\n\u001b[1;32m    407\u001b[0m \u001b[39m    documentation for details of the parameters accepted by this method).\u001b[39;00m\n\u001b[1;32m    408\u001b[0m \u001b[39m    \"\"\"\u001b[39;00m\n\u001b[0;32m--> 410\u001b[0m     \u001b[39mreturn\u001b[39;00m \u001b[39mcls\u001b[39;49m\u001b[39m.\u001b[39;49m_readfrom(fileobj\u001b[39m=\u001b[39;49mfileobj, mode\u001b[39m=\u001b[39;49mmode, memmap\u001b[39m=\u001b[39;49mmemmap,\n\u001b[1;32m    411\u001b[0m                          save_backup\u001b[39m=\u001b[39;49msave_backup, cache\u001b[39m=\u001b[39;49mcache,\n\u001b[1;32m    412\u001b[0m                          ignore_missing_simple\u001b[39m=\u001b[39;49mignore_missing_simple,\n\u001b[1;32m    413\u001b[0m                          lazy_load_hdus\u001b[39m=\u001b[39;49mlazy_load_hdus, \u001b[39m*\u001b[39;49m\u001b[39m*\u001b[39;49mkwargs)\n",
      "File \u001b[0;32m~/.local/lib/python3.8/site-packages/astropy/io/fits/hdu/hdulist.py:1062\u001b[0m, in \u001b[0;36mHDUList._readfrom\u001b[0;34m(cls, fileobj, data, mode, memmap, cache, lazy_load_hdus, ignore_missing_simple, **kwargs)\u001b[0m\n\u001b[1;32m   1059\u001b[0m \u001b[39mif\u001b[39;00m fileobj \u001b[39mis\u001b[39;00m \u001b[39mnot\u001b[39;00m \u001b[39mNone\u001b[39;00m:\n\u001b[1;32m   1060\u001b[0m     \u001b[39mif\u001b[39;00m \u001b[39mnot\u001b[39;00m \u001b[39misinstance\u001b[39m(fileobj, _File):\n\u001b[1;32m   1061\u001b[0m         \u001b[39m# instantiate a FITS file object (ffo)\u001b[39;00m\n\u001b[0;32m-> 1062\u001b[0m         fileobj \u001b[39m=\u001b[39m _File(fileobj, mode\u001b[39m=\u001b[39;49mmode, memmap\u001b[39m=\u001b[39;49mmemmap, cache\u001b[39m=\u001b[39;49mcache)\n\u001b[1;32m   1063\u001b[0m     \u001b[39m# The Astropy mode is determined by the _File initializer if the\u001b[39;00m\n\u001b[1;32m   1064\u001b[0m     \u001b[39m# supplied mode was None\u001b[39;00m\n\u001b[1;32m   1065\u001b[0m     mode \u001b[39m=\u001b[39m fileobj\u001b[39m.\u001b[39mmode\n",
      "File \u001b[0;32m~/.local/lib/python3.8/site-packages/astropy/io/fits/file.py:170\u001b[0m, in \u001b[0;36m_File.__init__\u001b[0;34m(self, fileobj, mode, memmap, overwrite, cache)\u001b[0m\n\u001b[1;32m    168\u001b[0m     \u001b[39mself\u001b[39m\u001b[39m.\u001b[39m_open_fileobj(fileobj, mode, overwrite)\n\u001b[1;32m    169\u001b[0m \u001b[39melif\u001b[39;00m \u001b[39misinstance\u001b[39m(fileobj, (\u001b[39mstr\u001b[39m, \u001b[39mbytes\u001b[39m)):\n\u001b[0;32m--> 170\u001b[0m     \u001b[39mself\u001b[39;49m\u001b[39m.\u001b[39;49m_open_filename(fileobj, mode, overwrite)\n\u001b[1;32m    171\u001b[0m \u001b[39melse\u001b[39;00m:\n\u001b[1;32m    172\u001b[0m     \u001b[39mself\u001b[39m\u001b[39m.\u001b[39m_open_filelike(fileobj, mode, overwrite)\n",
      "File \u001b[0;32m~/.local/lib/python3.8/site-packages/astropy/io/fits/file.py:562\u001b[0m, in \u001b[0;36m_File._open_filename\u001b[0;34m(self, filename, mode, overwrite)\u001b[0m\n\u001b[1;32m    559\u001b[0m ext \u001b[39m=\u001b[39m os\u001b[39m.\u001b[39mpath\u001b[39m.\u001b[39msplitext(\u001b[39mself\u001b[39m\u001b[39m.\u001b[39mname)[\u001b[39m1\u001b[39m]\n\u001b[1;32m    561\u001b[0m \u001b[39mif\u001b[39;00m \u001b[39mnot\u001b[39;00m \u001b[39mself\u001b[39m\u001b[39m.\u001b[39m_try_read_compressed(\u001b[39mself\u001b[39m\u001b[39m.\u001b[39mname, magic, mode, ext\u001b[39m=\u001b[39mext):\n\u001b[0;32m--> 562\u001b[0m     \u001b[39mself\u001b[39m\u001b[39m.\u001b[39m_file \u001b[39m=\u001b[39m \u001b[39mopen\u001b[39;49m(\u001b[39mself\u001b[39;49m\u001b[39m.\u001b[39;49mname, IO_FITS_MODES[mode])\n\u001b[1;32m    563\u001b[0m     \u001b[39mself\u001b[39m\u001b[39m.\u001b[39mclose_on_error \u001b[39m=\u001b[39m \u001b[39mTrue\u001b[39;00m\n\u001b[1;32m    565\u001b[0m \u001b[39m# Make certain we're back at the beginning of the file\u001b[39;00m\n\u001b[1;32m    566\u001b[0m \u001b[39m# BZ2File does not support seek when the file is open for writing, but\u001b[39;00m\n\u001b[1;32m    567\u001b[0m \u001b[39m# when opening a file for write, bz2.BZ2File always truncates anyway.\u001b[39;00m\n",
      "\u001b[0;31mFileNotFoundError\u001b[0m: [Errno 2] No such file or directory: '/mnt/e/2014/dark/COMA00121253.fits'"
     ]
    }
   ],
   "source": [
    "yearlist = [str(i) for i in range(2014,2017)]\n",
    "for year in yearlist:\n",
    "    searchdarkfile(year)\n",
    "    makedarkcsv2(year)"
   ]
  },
  {
   "cell_type": "code",
   "execution_count": 20,
   "metadata": {},
   "outputs": [
    {
     "name": "stdout",
     "output_type": "stream",
     "text": [
      "/bin/python3\n"
     ]
    }
   ],
   "source": [
    "import sys\n",
    "print(sys.executable)"
   ]
  },
  {
   "cell_type": "code",
   "execution_count": 24,
   "metadata": {},
   "outputs": [
    {
     "ename": "KeyError",
     "evalue": "'DISPLAY'",
     "output_type": "error",
     "traceback": [
      "\u001b[0;31m---------------------------------------------------------------------------\u001b[0m",
      "\u001b[0;31mKeyError\u001b[0m                                  Traceback (most recent call last)",
      "Cell \u001b[0;32mIn [24], line 1\u001b[0m\n\u001b[0;32m----> 1\u001b[0m \u001b[39mimport\u001b[39;00m \u001b[39mpyautogui\u001b[39;00m\n",
      "File \u001b[0;32m~/.local/lib/python3.8/site-packages/pyautogui/__init__.py:249\u001b[0m\n\u001b[1;32m    245\u001b[0m     screenshot \u001b[39m=\u001b[39m _couldNotImportPyScreeze\n\u001b[1;32m    248\u001b[0m \u001b[39mtry\u001b[39;00m:\n\u001b[0;32m--> 249\u001b[0m     \u001b[39mimport\u001b[39;00m \u001b[39mmouseinfo\u001b[39;00m\n\u001b[1;32m    251\u001b[0m     \u001b[39mdef\u001b[39;00m \u001b[39mmouseInfo\u001b[39m():\n\u001b[1;32m    252\u001b[0m         \u001b[39m\"\"\"\u001b[39;00m\n\u001b[1;32m    253\u001b[0m \u001b[39m        Launches the MouseInfo app. This application provides mouse coordinate information which can be useful when\u001b[39;00m\n\u001b[1;32m    254\u001b[0m \u001b[39m        planning GUI automation tasks. This function blocks until the application is closed.\u001b[39;00m\n\u001b[1;32m    255\u001b[0m \u001b[39m        \"\"\"\u001b[39;00m\n",
      "File \u001b[0;32m~/.local/lib/python3.8/site-packages/mouseinfo/__init__.py:223\u001b[0m\n\u001b[1;32m    220\u001b[0m     \u001b[39melse\u001b[39;00m:\n\u001b[1;32m    221\u001b[0m         \u001b[39mraise\u001b[39;00m\n\u001b[0;32m--> 223\u001b[0m _display \u001b[39m=\u001b[39m Display(os\u001b[39m.\u001b[39;49menviron[\u001b[39m'\u001b[39;49m\u001b[39mDISPLAY\u001b[39;49m\u001b[39m'\u001b[39;49m])\n\u001b[1;32m    225\u001b[0m \u001b[39mdef\u001b[39;00m \u001b[39m_linuxPosition\u001b[39m():\n\u001b[1;32m    226\u001b[0m     coord \u001b[39m=\u001b[39m _display\u001b[39m.\u001b[39mscreen()\u001b[39m.\u001b[39mroot\u001b[39m.\u001b[39mquery_pointer()\u001b[39m.\u001b[39m_data\n",
      "File \u001b[0;32m/usr/lib/python3.8/os.py:675\u001b[0m, in \u001b[0;36m_Environ.__getitem__\u001b[0;34m(self, key)\u001b[0m\n\u001b[1;32m    672\u001b[0m     value \u001b[39m=\u001b[39m \u001b[39mself\u001b[39m\u001b[39m.\u001b[39m_data[\u001b[39mself\u001b[39m\u001b[39m.\u001b[39mencodekey(key)]\n\u001b[1;32m    673\u001b[0m \u001b[39mexcept\u001b[39;00m \u001b[39mKeyError\u001b[39;00m:\n\u001b[1;32m    674\u001b[0m     \u001b[39m# raise KeyError with the original key value\u001b[39;00m\n\u001b[0;32m--> 675\u001b[0m     \u001b[39mraise\u001b[39;00m \u001b[39mKeyError\u001b[39;00m(key) \u001b[39mfrom\u001b[39;00m \u001b[39mNone\u001b[39m\n\u001b[1;32m    676\u001b[0m \u001b[39mreturn\u001b[39;00m \u001b[39mself\u001b[39m\u001b[39m.\u001b[39mdecodevalue(value)\n",
      "\u001b[0;31mKeyError\u001b[0m: 'DISPLAY'"
     ]
    }
   ],
   "source": [
    "import pyautogui"
   ]
  },
  {
   "cell_type": "code",
   "execution_count": 23,
   "metadata": {},
   "outputs": [
    {
     "ename": "KeyError",
     "evalue": "'DISPLAY'",
     "output_type": "error",
     "traceback": [
      "\u001b[0;31m---------------------------------------------------------------------------\u001b[0m",
      "\u001b[0;31mKeyError\u001b[0m                                  Traceback (most recent call last)",
      "Cell \u001b[0;32mIn [23], line 1\u001b[0m\n\u001b[0;32m----> 1\u001b[0m \u001b[39mimport\u001b[39;00m \u001b[39mpyautogui\u001b[39;00m \u001b[39mas\u001b[39;00m \u001b[39mpg\u001b[39;00m\n",
      "File \u001b[0;32m~/.local/lib/python3.8/site-packages/pyautogui/__init__.py:249\u001b[0m\n\u001b[1;32m    245\u001b[0m     screenshot \u001b[39m=\u001b[39m _couldNotImportPyScreeze\n\u001b[1;32m    248\u001b[0m \u001b[39mtry\u001b[39;00m:\n\u001b[0;32m--> 249\u001b[0m     \u001b[39mimport\u001b[39;00m \u001b[39mmouseinfo\u001b[39;00m\n\u001b[1;32m    251\u001b[0m     \u001b[39mdef\u001b[39;00m \u001b[39mmouseInfo\u001b[39m():\n\u001b[1;32m    252\u001b[0m         \u001b[39m\"\"\"\u001b[39;00m\n\u001b[1;32m    253\u001b[0m \u001b[39m        Launches the MouseInfo app. This application provides mouse coordinate information which can be useful when\u001b[39;00m\n\u001b[1;32m    254\u001b[0m \u001b[39m        planning GUI automation tasks. This function blocks until the application is closed.\u001b[39;00m\n\u001b[1;32m    255\u001b[0m \u001b[39m        \"\"\"\u001b[39;00m\n",
      "File \u001b[0;32m~/.local/lib/python3.8/site-packages/mouseinfo/__init__.py:223\u001b[0m\n\u001b[1;32m    220\u001b[0m     \u001b[39melse\u001b[39;00m:\n\u001b[1;32m    221\u001b[0m         \u001b[39mraise\u001b[39;00m\n\u001b[0;32m--> 223\u001b[0m _display \u001b[39m=\u001b[39m Display(os\u001b[39m.\u001b[39;49menviron[\u001b[39m'\u001b[39;49m\u001b[39mDISPLAY\u001b[39;49m\u001b[39m'\u001b[39;49m])\n\u001b[1;32m    225\u001b[0m \u001b[39mdef\u001b[39;00m \u001b[39m_linuxPosition\u001b[39m():\n\u001b[1;32m    226\u001b[0m     coord \u001b[39m=\u001b[39m _display\u001b[39m.\u001b[39mscreen()\u001b[39m.\u001b[39mroot\u001b[39m.\u001b[39mquery_pointer()\u001b[39m.\u001b[39m_data\n",
      "File \u001b[0;32m/usr/lib/python3.8/os.py:675\u001b[0m, in \u001b[0;36m_Environ.__getitem__\u001b[0;34m(self, key)\u001b[0m\n\u001b[1;32m    672\u001b[0m     value \u001b[39m=\u001b[39m \u001b[39mself\u001b[39m\u001b[39m.\u001b[39m_data[\u001b[39mself\u001b[39m\u001b[39m.\u001b[39mencodekey(key)]\n\u001b[1;32m    673\u001b[0m \u001b[39mexcept\u001b[39;00m \u001b[39mKeyError\u001b[39;00m:\n\u001b[1;32m    674\u001b[0m     \u001b[39m# raise KeyError with the original key value\u001b[39;00m\n\u001b[0;32m--> 675\u001b[0m     \u001b[39mraise\u001b[39;00m \u001b[39mKeyError\u001b[39;00m(key) \u001b[39mfrom\u001b[39;00m \u001b[39mNone\u001b[39m\n\u001b[1;32m    676\u001b[0m \u001b[39mreturn\u001b[39;00m \u001b[39mself\u001b[39m\u001b[39m.\u001b[39mdecodevalue(value)\n",
      "\u001b[0;31mKeyError\u001b[0m: 'DISPLAY'"
     ]
    }
   ],
   "source": []
  },
  {
   "cell_type": "code",
   "execution_count": null,
   "metadata": {},
   "outputs": [],
   "source": []
  }
 ],
 "metadata": {
  "kernelspec": {
   "display_name": "Python 3",
   "language": "python",
   "name": "python3"
  },
  "language_info": {
   "codemirror_mode": {
    "name": "ipython",
    "version": 3
   },
   "file_extension": ".py",
   "mimetype": "text/x-python",
   "name": "python",
   "nbconvert_exporter": "python",
   "pygments_lexer": "ipython3",
   "version": "3.8.10 (default, Jun 22 2022, 20:18:18) \n[GCC 9.4.0]"
  },
  "orig_nbformat": 4,
  "vscode": {
   "interpreter": {
    "hash": "31f2aee4e71d21fbe5cf8b01ff0e069b9275f58929596ceb00d14d90e3e16cd6"
   }
  }
 },
 "nbformat": 4,
 "nbformat_minor": 2
}
