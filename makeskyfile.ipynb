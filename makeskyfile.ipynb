{
 "cells": [
  {
   "cell_type": "code",
   "execution_count": 18,
   "metadata": {},
   "outputs": [],
   "source": [
    "import astropy.io.fits as fits\n",
    "import numpy as np\n",
    "import glob\n",
    "import os\n",
    "from scipy.ndimage import gaussian_filter\n",
    "import pandas as pd\n",
    "import shutil\n",
    "from function import *"
   ]
  },
  {
   "attachments": {},
   "cell_type": "markdown",
   "metadata": {},
   "source": [
    "##  sky画像の作成  \n",
    "makedark.ipynbまでで作成した関数により、1Expあたりのダークまでは得られた  \n",
    "次にobsfileを指定したとき、obsfileのQ_CHEBを取得して、1Expあたりのdarkに掛け算する。それをobsfileから差し引くことでskyとする  \n",
    "差し引くとき、次元が異なるが、できるかは試してみること"
   ]
  },
  {
   "cell_type": "code",
   "execution_count": 19,
   "metadata": {},
   "outputs": [],
   "source": [
    "#実験用ファイル\n",
    "obsfile = r'/mnt/e/2003/COMA00042689.fits'"
   ]
  },
  {
   "cell_type": "code",
   "execution_count": 20,
   "metadata": {},
   "outputs": [],
   "source": [
    "obsdata = readdata(obsfile)\n",
    "Q_CHEB = readheader(obsfile)[\"Q_CHEB\"]\n"
   ]
  },
  {
   "cell_type": "code",
   "execution_count": 21,
   "metadata": {},
   "outputs": [
    {
     "ename": "NameError",
     "evalue": "name 'makeExpdark' is not defined",
     "output_type": "error",
     "traceback": [
      "\u001b[0;31m---------------------------------------------------------------------------\u001b[0m",
      "\u001b[0;31mNameError\u001b[0m                                 Traceback (most recent call last)",
      "Cell \u001b[0;32mIn [21], line 1\u001b[0m\n\u001b[0;32m----> 1\u001b[0m makeExpdark(obsfile)\n",
      "\u001b[0;31mNameError\u001b[0m: name 'makeExpdark' is not defined"
     ]
    }
   ],
   "source": [
    "makeExpdark(obsfile)"
   ]
  },
  {
   "cell_type": "code",
   "execution_count": 11,
   "metadata": {},
   "outputs": [
    {
     "ename": "KeyError",
     "evalue": "1",
     "output_type": "error",
     "traceback": [
      "\u001b[0;31m---------------------------------------------------------------------------\u001b[0m",
      "\u001b[0;31mKeyError\u001b[0m                                  Traceback (most recent call last)",
      "File \u001b[0;32m~/.local/lib/python3.8/site-packages/pandas/core/indexes/base.py:3803\u001b[0m, in \u001b[0;36mIndex.get_loc\u001b[0;34m(self, key, method, tolerance)\u001b[0m\n\u001b[1;32m   3802\u001b[0m \u001b[39mtry\u001b[39;00m:\n\u001b[0;32m-> 3803\u001b[0m     \u001b[39mreturn\u001b[39;00m \u001b[39mself\u001b[39;49m\u001b[39m.\u001b[39;49m_engine\u001b[39m.\u001b[39;49mget_loc(casted_key)\n\u001b[1;32m   3804\u001b[0m \u001b[39mexcept\u001b[39;00m \u001b[39mKeyError\u001b[39;00m \u001b[39mas\u001b[39;00m err:\n",
      "File \u001b[0;32m~/.local/lib/python3.8/site-packages/pandas/_libs/index.pyx:138\u001b[0m, in \u001b[0;36mpandas._libs.index.IndexEngine.get_loc\u001b[0;34m()\u001b[0m\n",
      "File \u001b[0;32m~/.local/lib/python3.8/site-packages/pandas/_libs/index.pyx:165\u001b[0m, in \u001b[0;36mpandas._libs.index.IndexEngine.get_loc\u001b[0;34m()\u001b[0m\n",
      "File \u001b[0;32mpandas/_libs/hashtable_class_helper.pxi:5745\u001b[0m, in \u001b[0;36mpandas._libs.hashtable.PyObjectHashTable.get_item\u001b[0;34m()\u001b[0m\n",
      "File \u001b[0;32mpandas/_libs/hashtable_class_helper.pxi:5753\u001b[0m, in \u001b[0;36mpandas._libs.hashtable.PyObjectHashTable.get_item\u001b[0;34m()\u001b[0m\n",
      "\u001b[0;31mKeyError\u001b[0m: 1",
      "\nThe above exception was the direct cause of the following exception:\n",
      "\u001b[0;31mKeyError\u001b[0m                                  Traceback (most recent call last)",
      "Cell \u001b[0;32mIn [11], line 1\u001b[0m\n\u001b[0;32m----> 1\u001b[0m identify(obsfile)[\u001b[39m1\u001b[39;49m]\n",
      "File \u001b[0;32m~/.local/lib/python3.8/site-packages/pandas/core/frame.py:3804\u001b[0m, in \u001b[0;36mDataFrame.__getitem__\u001b[0;34m(self, key)\u001b[0m\n\u001b[1;32m   3802\u001b[0m \u001b[39mif\u001b[39;00m \u001b[39mself\u001b[39m\u001b[39m.\u001b[39mcolumns\u001b[39m.\u001b[39mnlevels \u001b[39m>\u001b[39m \u001b[39m1\u001b[39m:\n\u001b[1;32m   3803\u001b[0m     \u001b[39mreturn\u001b[39;00m \u001b[39mself\u001b[39m\u001b[39m.\u001b[39m_getitem_multilevel(key)\n\u001b[0;32m-> 3804\u001b[0m indexer \u001b[39m=\u001b[39m \u001b[39mself\u001b[39;49m\u001b[39m.\u001b[39;49mcolumns\u001b[39m.\u001b[39;49mget_loc(key)\n\u001b[1;32m   3805\u001b[0m \u001b[39mif\u001b[39;00m is_integer(indexer):\n\u001b[1;32m   3806\u001b[0m     indexer \u001b[39m=\u001b[39m [indexer]\n",
      "File \u001b[0;32m~/.local/lib/python3.8/site-packages/pandas/core/indexes/base.py:3805\u001b[0m, in \u001b[0;36mIndex.get_loc\u001b[0;34m(self, key, method, tolerance)\u001b[0m\n\u001b[1;32m   3803\u001b[0m     \u001b[39mreturn\u001b[39;00m \u001b[39mself\u001b[39m\u001b[39m.\u001b[39m_engine\u001b[39m.\u001b[39mget_loc(casted_key)\n\u001b[1;32m   3804\u001b[0m \u001b[39mexcept\u001b[39;00m \u001b[39mKeyError\u001b[39;00m \u001b[39mas\u001b[39;00m err:\n\u001b[0;32m-> 3805\u001b[0m     \u001b[39mraise\u001b[39;00m \u001b[39mKeyError\u001b[39;00m(key) \u001b[39mfrom\u001b[39;00m \u001b[39merr\u001b[39;00m\n\u001b[1;32m   3806\u001b[0m \u001b[39mexcept\u001b[39;00m \u001b[39mTypeError\u001b[39;00m:\n\u001b[1;32m   3807\u001b[0m     \u001b[39m# If we have a listlike key, _check_indexing_error will raise\u001b[39;00m\n\u001b[1;32m   3808\u001b[0m     \u001b[39m#  InvalidIndexError. Otherwise we fall through and re-raise\u001b[39;00m\n\u001b[1;32m   3809\u001b[0m     \u001b[39m#  the TypeError.\u001b[39;00m\n\u001b[1;32m   3810\u001b[0m     \u001b[39mself\u001b[39m\u001b[39m.\u001b[39m_check_indexing_error(key)\n",
      "\u001b[0;31mKeyError\u001b[0m: 1"
     ]
    }
   ],
   "source": [
    "identify(obsfile)[1]"
   ]
  },
  {
   "cell_type": "code",
   "execution_count": 8,
   "metadata": {},
   "outputs": [
    {
     "name": "stdout",
     "output_type": "stream",
     "text": [
      "/mnt/e/2003/COMA00042689.fits\n"
     ]
    },
    {
     "ename": "KeyError",
     "evalue": "0",
     "output_type": "error",
     "traceback": [
      "\u001b[0;31m---------------------------------------------------------------------------\u001b[0m",
      "\u001b[0;31mKeyError\u001b[0m                                  Traceback (most recent call last)",
      "File \u001b[0;32m~/.local/lib/python3.8/site-packages/pandas/core/indexes/base.py:3803\u001b[0m, in \u001b[0;36mIndex.get_loc\u001b[0;34m(self, key, method, tolerance)\u001b[0m\n\u001b[1;32m   3802\u001b[0m \u001b[39mtry\u001b[39;00m:\n\u001b[0;32m-> 3803\u001b[0m     \u001b[39mreturn\u001b[39;00m \u001b[39mself\u001b[39;49m\u001b[39m.\u001b[39;49m_engine\u001b[39m.\u001b[39;49mget_loc(casted_key)\n\u001b[1;32m   3804\u001b[0m \u001b[39mexcept\u001b[39;00m \u001b[39mKeyError\u001b[39;00m \u001b[39mas\u001b[39;00m err:\n",
      "File \u001b[0;32m~/.local/lib/python3.8/site-packages/pandas/_libs/index.pyx:138\u001b[0m, in \u001b[0;36mpandas._libs.index.IndexEngine.get_loc\u001b[0;34m()\u001b[0m\n",
      "File \u001b[0;32m~/.local/lib/python3.8/site-packages/pandas/_libs/index.pyx:165\u001b[0m, in \u001b[0;36mpandas._libs.index.IndexEngine.get_loc\u001b[0;34m()\u001b[0m\n",
      "File \u001b[0;32mpandas/_libs/hashtable_class_helper.pxi:5745\u001b[0m, in \u001b[0;36mpandas._libs.hashtable.PyObjectHashTable.get_item\u001b[0;34m()\u001b[0m\n",
      "File \u001b[0;32mpandas/_libs/hashtable_class_helper.pxi:5753\u001b[0m, in \u001b[0;36mpandas._libs.hashtable.PyObjectHashTable.get_item\u001b[0;34m()\u001b[0m\n",
      "\u001b[0;31mKeyError\u001b[0m: 0",
      "\nThe above exception was the direct cause of the following exception:\n",
      "\u001b[0;31mKeyError\u001b[0m                                  Traceback (most recent call last)",
      "Cell \u001b[0;32mIn [8], line 2\u001b[0m\n\u001b[1;32m      1\u001b[0m \u001b[39m# dark_1を取得\u001b[39;00m\n\u001b[0;32m----> 2\u001b[0m dark_1 \u001b[39m=\u001b[39m make1Expdark(obsfile)\n\u001b[1;32m      3\u001b[0m \u001b[39m# Q_CHEB倍する\u001b[39;00m\n\u001b[1;32m      4\u001b[0m dark_CHEB \u001b[39m=\u001b[39m dark_1 \u001b[39m*\u001b[39m \u001b[39mint\u001b[39m(Q_CHEB)\n",
      "File \u001b[0;32m/mnt/c/Users/yyush/Documents/GitHub/COMICS/function.py:76\u001b[0m, in \u001b[0;36mmake1Expdark\u001b[0;34m(obsfile)\u001b[0m\n\u001b[1;32m     74\u001b[0m \u001b[39mdef\u001b[39;00m \u001b[39mmake1Expdark\u001b[39m(obsfile):\n\u001b[1;32m     75\u001b[0m     \u001b[39mprint\u001b[39m(obsfile)\n\u001b[0;32m---> 76\u001b[0m     df \u001b[39m=\u001b[39m identify(obsfile)[\u001b[39m0\u001b[39;49m]\n\u001b[1;32m     77\u001b[0m     year \u001b[39m=\u001b[39m identify(obsfile)[\u001b[39m1\u001b[39m]\n\u001b[1;32m     78\u001b[0m     darkbasefolder \u001b[39m=\u001b[39m \u001b[39mr\u001b[39m\u001b[39m'\u001b[39m\u001b[39m/mnt/e/\u001b[39m\u001b[39m'\u001b[39m \u001b[39m+\u001b[39m year \u001b[39m+\u001b[39m \u001b[39mr\u001b[39m\u001b[39m'\u001b[39m\u001b[39m/dark/\u001b[39m\u001b[39m'\u001b[39m\n",
      "File \u001b[0;32m~/.local/lib/python3.8/site-packages/pandas/core/frame.py:3804\u001b[0m, in \u001b[0;36mDataFrame.__getitem__\u001b[0;34m(self, key)\u001b[0m\n\u001b[1;32m   3802\u001b[0m \u001b[39mif\u001b[39;00m \u001b[39mself\u001b[39m\u001b[39m.\u001b[39mcolumns\u001b[39m.\u001b[39mnlevels \u001b[39m>\u001b[39m \u001b[39m1\u001b[39m:\n\u001b[1;32m   3803\u001b[0m     \u001b[39mreturn\u001b[39;00m \u001b[39mself\u001b[39m\u001b[39m.\u001b[39m_getitem_multilevel(key)\n\u001b[0;32m-> 3804\u001b[0m indexer \u001b[39m=\u001b[39m \u001b[39mself\u001b[39;49m\u001b[39m.\u001b[39;49mcolumns\u001b[39m.\u001b[39;49mget_loc(key)\n\u001b[1;32m   3805\u001b[0m \u001b[39mif\u001b[39;00m is_integer(indexer):\n\u001b[1;32m   3806\u001b[0m     indexer \u001b[39m=\u001b[39m [indexer]\n",
      "File \u001b[0;32m~/.local/lib/python3.8/site-packages/pandas/core/indexes/base.py:3805\u001b[0m, in \u001b[0;36mIndex.get_loc\u001b[0;34m(self, key, method, tolerance)\u001b[0m\n\u001b[1;32m   3803\u001b[0m     \u001b[39mreturn\u001b[39;00m \u001b[39mself\u001b[39m\u001b[39m.\u001b[39m_engine\u001b[39m.\u001b[39mget_loc(casted_key)\n\u001b[1;32m   3804\u001b[0m \u001b[39mexcept\u001b[39;00m \u001b[39mKeyError\u001b[39;00m \u001b[39mas\u001b[39;00m err:\n\u001b[0;32m-> 3805\u001b[0m     \u001b[39mraise\u001b[39;00m \u001b[39mKeyError\u001b[39;00m(key) \u001b[39mfrom\u001b[39;00m \u001b[39merr\u001b[39;00m\n\u001b[1;32m   3806\u001b[0m \u001b[39mexcept\u001b[39;00m \u001b[39mTypeError\u001b[39;00m:\n\u001b[1;32m   3807\u001b[0m     \u001b[39m# If we have a listlike key, _check_indexing_error will raise\u001b[39;00m\n\u001b[1;32m   3808\u001b[0m     \u001b[39m#  InvalidIndexError. Otherwise we fall through and re-raise\u001b[39;00m\n\u001b[1;32m   3809\u001b[0m     \u001b[39m#  the TypeError.\u001b[39;00m\n\u001b[1;32m   3810\u001b[0m     \u001b[39mself\u001b[39m\u001b[39m.\u001b[39m_check_indexing_error(key)\n",
      "\u001b[0;31mKeyError\u001b[0m: 0"
     ]
    }
   ],
   "source": [
    "# dark_1を取得\n",
    "dark_1 = make1Expdark(obsfile)\n",
    "# Q_CHEB倍する\n",
    "dark_CHEB = dark_1 * int(Q_CHEB)\n",
    "dark_CHEB"
   ]
  },
  {
   "cell_type": "code",
   "execution_count": 32,
   "metadata": {},
   "outputs": [
    {
     "data": {
      "text/plain": [
       "'/mnt/e/2003/COMA00042689.fits'"
      ]
     },
     "execution_count": 32,
     "metadata": {},
     "output_type": "execute_result"
    }
   ],
   "source": [
    "obsfile"
   ]
  },
  {
   "cell_type": "code",
   "execution_count": 34,
   "metadata": {},
   "outputs": [
    {
     "data": {
      "text/plain": [
       "SIMPLE  =                    T / Standard FITS format                           \n",
       "BITPIX  =                   32 / # of bits per pixel                            \n",
       "NAXIS   =                    4 / of axis in frame                               \n",
       "NAXIS1  =                  320 / # of pixels/row                                \n",
       "NAXIS2  =                  240 / # of pixels/row                                \n",
       "NAXIS3  =                   12 / # of pixels/row                                \n",
       "NAXIS4  =                    1 / # of pixels/row                                \n",
       "EXTEND  =                    F / ASCII Extension Table                          \n",
       "COMMENT   = ' +++++++++++++++++++ SUBARU COMMON'                                \n",
       "COMMENT   = ' ------------------------- About This DATA'                        \n",
       "FRAMEID = 'COMA00042689'       /  Data Serial Num of COMICS A-sequence          \n",
       "EXP-ID  = 'COME00042689'       /  Exporsure ID                                  \n",
       "OBS-ALOC= 'Observation'        /  Allocation Mode                               \n",
       "COMMENT   = ' ------------------------- Observation ID'                         \n",
       "OBSERVER= 'Watanabe,Kasusa,Fernandez,Honda,Yamashita' /  Observers              \n",
       "PROP-ID = 'o03219  '           /  Proposal ID                                   \n",
       "OBSERVAT= 'NAOJ    '           /  Observatory                                   \n",
       "TELESCOP= 'Subaru  '           /  Telescope name                                \n",
       "INSTRUME= 'COMICS  '           /  Instrument                                    \n",
       "INS-VER = '2001-09-29'         /  Version of the instrument                     \n",
       "DETECTOR= 'Si:As IBC-104 SG'   /  Name of the detector/CCD                      \n",
       "COMMENT   = ' ------------------------- Telescope Settings'                     \n",
       "FOC-POS = 'Cassegrain'         /  Focus where the instrument is attached        \n",
       "TELFOCUS= 'Cassegrain'         /  Focus where a beam is reachable               \n",
       "FOC-LEN =           100000.111 / Focal length of the telescope (mm)             \n",
       "FOC-VAL =                0.796 / Encoder value of the focus unit (mm)           \n",
       "INSROT  =               72.928 / Instrument Rotator angle (deg)                 \n",
       "INST-PA =                0.000 / Instrument Rotator P.A. (deg)                  \n",
       "AUTOGUID= 'ON      '           /  Auto Guider on/off                            \n",
       "M2-TYPE = 'CS_IR   '           /  Type of the Secondary Mirror (Opt/IR)         \n",
       "M2-TIP  = 'CHOPPING'           /  2nd Mirror tip-tilt on/off                    \n",
       "M2-ANG1 =               -0.216 / 2nd Mirror Angle-1                             \n",
       "M2-ANG2 =                2.611 / 2nd Mirror Angle-2                             \n",
       "M2-POS1 =               -4.197 / 2nd Mirror Position-1                          \n",
       "M2-POS2 =               -0.348 / 2nd Mirror Position-2                          \n",
       "COMMENT   = ' ------------------------- Size, Coordinate etc..'                 \n",
       "DETPXSZ1=               0.0500 / Detector pixel size in axis1 (mm)              \n",
       "DETPXSZ2=               0.0500 / Detector pixel size in axis2 (mm)              \n",
       "CDELT1  =           0.00003611 / X Scale projected on detector(#/pix)           \n",
       "CDELT2  =           0.00003611 / Y scale projected on detector(#/pix)           \n",
       "CTYPE1  = 'RA---TAN'           /  Pixel coordinate system                       \n",
       "CTYPE2  = 'DEC--TAN'           /  Pixel coordinate system                       \n",
       "CUNIT1  = 'degree  '           /  Units used in both CRVAL1 and CDELT1          \n",
       "CUNIT2  = 'degree  '           /  Units used in both CRVAL2 and CDELT2          \n",
       "CRPIX1  =                185.0 / Reference pixel in X (pixel,IMG)               \n",
       "CRPIX2  =                115.0 / Reference pixel in Y (pixel,IMG)               \n",
       "CRVAL1  =           4.19025417 / Physical value of the reference pixel X        \n",
       "CRVAL2  =          10.24420833 / Physical value of the reference pixel Y        \n",
       "PROJP1  =                  0.0 / Projection type of the first axis              \n",
       "PROJP2  =                  0.0 / Projection type of the second axis             \n",
       "PC001001=           0.00000000 / Pixel Coordinate translation matrix            \n",
       "CD1_1   =           0.00000000 / Pixel Coordinate translation matrix            \n",
       "PC001002=           1.00000000 / Pixel Coordinate translation matrix            \n",
       "CD1_2   =          -0.00003611 / Pixel Coordinate translation matrix            \n",
       "PC002001=           1.00000000 / Pixel Coordinate translation matrix            \n",
       "CD2_1   =          -0.00003611 / Pixel Coordinate translation matrix            \n",
       "PC002002=           0.00000000 / Pixel Coordinate translation matrix            \n",
       "CD2_2   =          -0.00000000 / Pixel Coordinate translation matrix            \n",
       "BSCALE  =           1.00000000 / Real=fits-value*BSCALE+BZERO                   \n",
       "BZERO   =           0.00000000 / Real=fits-value*BSCALE+BZERO                   \n",
       "BUNIT   = 'ADU     '           /  Unit of original pixel values                 \n",
       "BLANK   =                    0 / Value used for NULL pixels                     \n",
       "WCS-ORIG= 'comics20001209'     /  Origin of the WCS value                       \n",
       "COMMENT   = '  (So far, WCS parameters may be incorrect?)'                      \n",
       "COMMENT   = '                                     (dummy)'                      \n",
       "COMMENT   = ' ------------------------- Date'                                   \n",
       "TIMESYS = 'UTC     '           /  Time System used in the header. UTC fix.      \n",
       "DATE-OBS= '2003-11-12'         /  yyyy-mm-dd UTC obs start date                 \n",
       "UT      = '11:03:18.000'       /  HH:MM:SS.SSS Universal Time                   \n",
       "HST     = '01:03:18.000'       /  HH:MM:SS.SSS HST ?                            \n",
       "UT1-UTC =          -0.37510000 / UT1-UTC                                        \n",
       "LST     = '04:06:03.229'       /  HH:MM:SS.SSS LST                              \n",
       "MJD     =       52955.46062066 / Modified Julian Date                           \n",
       "COMMENT   = ' ------------------------- Object'                                 \n",
       "DATA-TYP= 'OBJECT  '           /  Type of this data                             \n",
       "RADECSYS= 'FK5     '           /  The equatorial coordinate system              \n",
       "OBJECT  = 'HD1255  '           /  Target Description                            \n",
       "EQUINOX =               2000.0 / Equinox                                        \n",
       "RA      = '00:16:45.661'       /  HH:MM:SS.SSS RA pointing (given EQ)           \n",
       "RA2000  = '00:16:45.661'       /  HH:MM:SS.SSS RA pointing (J2000)              \n",
       "DEC     = '+10:14:39.15'       /  +/-DD:MM:SS.SS DEC pointing (given EQ)        \n",
       "DEC2000 = '+10:14:39.15'       /  +/-DD:MM:SS.SS DEC pointing (J2000)           \n",
       "AZIMUTH =            269.10255 / Azimuth of telescope pointing (degree)         \n",
       "ALTITUDE=             34.15016 / Altitude of telescope pointing(degree)         \n",
       "AIRMASS =                1.778 / Air Mass                                       \n",
       "ZD      =             55.85024 / Zenith Distance                                \n",
       "SECZ    =                1.781 / SEC(Zenith Distance)                           \n",
       "LONGPOLE=                180.0 / The North Pole of standard system (deg)        \n",
       "COMMENT   = ' ------------------------- COMICS Optics'                          \n",
       "OBS-MOD = 'imaging '           /  Observation Mode                              \n",
       "FILTER01= 'F01C10.50W6.00'     /  Filter name/ID (pre-opt filter-1)             \n",
       "FILTER02= 'H21     '           /  Filter name/ID (pre-opt filter-2)             \n",
       "FILTER03= 'F08C11.60W1.10'     /  Filter name/ID (img-opt filter)               \n",
       "FILTER04= 'L01L10I '           /  Lens  name/ID (img-opt)                       \n",
       "DISPERSR= 'G01L10L '           /  Identifier of the disperser used              \n",
       "SLIT    = 'S01W000 '           /  Identifier of the slit                        \n",
       "SLT-LEN =               39.600 / Length of the slit used                        \n",
       "SLT-PA  =                  0.0 / Slit Position Angle (degree)                   \n",
       "SLT-WID =                0.000 / Width of the slit used                         \n",
       "SLTCPIX1=                120.0 / Slit center projected on detector(pix)         \n",
       "SLTCPIX2=                160.0 / Slit center projected on detector(pix)         \n",
       "COMMENT   = ' ------------------------- COMICS Detector'                        \n",
       "EXPTIME =                0.080 / 1 exposure integration time per exp(sec)       \n",
       "DET-TMP =                 4.82 / Detector temperature (K)                       \n",
       "GAIN    =              350.000 / AD conversion factor (electron/ADU)            \n",
       "PRD-MIN1=                    1 / Start X pos. of partialy read out (pix)        \n",
       "PRD-MIN2=                    1 / Start Y pos. of partialy read out (pix)        \n",
       "PRD-RNG1=                  336 / X Range of partialy read out (pix)             \n",
       "PRD-RNG2=                  241 / Y Range of partialy read out (pix)             \n",
       "BIN-FCT1=                    1 / Binning factor of X axis (pixel)               \n",
       "BIN-FCT2=                    1 / Binning factor of Y axis (pixel)               \n",
       "COMMENT   = ' ------------------------- Weather Condition'                      \n",
       "WEATHER = 'Fare    '           /  Weather condition                             \n",
       "SEEING  =                 0.42 / Long integ PSF FWHM in optical (arcsec)        \n",
       "DOM-WND =                 0.50 / Wind speed in the dome (m/s)                   \n",
       "OUT-WND =                 7.10 / Wind speed outside (m/s)                       \n",
       "DOM-TMP =               276.75 / Temperature measured in the dome (K)           \n",
       "OUT-TMP =               276.15 / Temperature measured outside dome (K)          \n",
       "DOM-HUM =                  4.0 / Humidity measured in the dome                  \n",
       "OUT-HUM =                  1.8 / Humidity measured outside dome                 \n",
       "DOM-PRS =               623.00 / Atmospheric pressure in the Dome (hpa)         \n",
       "OUT-PRS =               623.00 / Atmospheric pressure outside (hpa)             \n",
       "COMMENT   = ' +++++++++++++++++++ COMICS ORIGINAL'                              \n",
       "COMMENT   = ' ------------------------- Type of the data'                       \n",
       "Q_DTYPE = 'imaging '           /  type of this data  spec/img/slitview          \n",
       "COMMENT   = ' ------------------------- Pre-Optics'                             \n",
       "Q_WINDOW= 'W05KBr  '           /  Entrance Window                               \n",
       "Q_M1MOTA=                 1420 / Pulse count of 1st mir. outer frame            \n",
       "Q_M1MOTB=                 1775 / Pulse count of 1st mir. inner frame            \n",
       "Q_GRTPOS=                24335 / Grating Position in pulse                      \n",
       "COMMENT   = ' ------------------------- Temperature '                           \n",
       "COMMENT   = ' (Not yet completed)'                                              \n",
       "Q_DETTPI= 'unknown '           /  COMICS DETECTOR TEMP IMAGING                  \n",
       "Q_CFTPI = '4.82    '           /  COMICS COLD FINGER TEMP IMAGING               \n",
       "Q_DETTS1= 'unknown '           /  COMICS DETECTOR TEMP SPEC POS-1               \n",
       "Q_DETTS2= 'unknown '           /  COMICS DETECTOR TEMP SPEC POS-2               \n",
       "Q_DETTS3= 'unknown '           /  COMICS DETECTOR TEMP SPEC POS-3               \n",
       "Q_DETTS4= 'unknown '           /  COMICS DETECTOR TEMP SPEC POS-4               \n",
       "Q_DETTS5= 'unknown '           /  COMICS DETECTOR TEMP SPEC POS-5               \n",
       "Q_CFTPS = '5.56    '           /  COMICS COLD FINGER TEMP SPEC                  \n",
       "Q_OPTTP = '30.97   '           /  COMICS OPTICS TEMP                            \n",
       "COMMENT   = ' ------------------------- Detector bias,clock'                    \n",
       "Q_IMCHIP= 'IBC-104 '           /  COMICS IMAGING CHIP ID                        \n",
       "Q_IMVSC = '-5.0032 '           /  COMICS IMAGING CHIP VSSCLK VOLTAGE            \n",
       "Q_IMVSS = '-5.8701 '           /  COMICS IMAGING CHIP VSS VOLTAGE               \n",
       "Q_IMBS0 = '-6.9115 '           /  COMICS IMAGING CHIP BIAS0 VOLTAGE             \n",
       "Q_IMBS1 = '-7.0651 '           /  COMICS IMAGING CHIP BIAS1 VOLTAGE             \n",
       "Q_IMBS2 = '-5.1021 '           /  COMICS IMAGING CHIP BIAS2 VOLTAGE             \n",
       "Q_IMBS3 = '-3.8124 '           /  COMICS IMAGING CHIP BIAS3 VOLTAGE             \n",
       "Q_IMBS4 = '-2.8108 '           /  COMICS IMAGING CHIP BIAS4 VOLTAGE             \n",
       "Q_IMBS5 = '-3.5052 '           /  COMICS IMAGING CHIP BIAS5 VOLTAGE             \n",
       "Q_IMBS6 = '-2.0008 '           /  COMICS IMAGING CHIP BIAS6 VOLTAGE             \n",
       "Q_IMBS7 = '-6.0237 '           /  COMICS IMAGING CHIP BIAS7 VOLTAGE             \n",
       "Q_IMBS8 = '-3.0170 '           /  COMICS IMAGING CHIP BIAS8 VOLTAGE             \n",
       "Q_IMBS9 = '-4.1090 '           /  COMICS IMAGING CHIP BIAS9 VOLTAGE             \n",
       "Q_IMCS00= '84.2    '           /  COMICS IMAGING CHIP CS00 CURRENT              \n",
       "Q_IMCS02= '168.3   '           /  COMICS IMAGING CHIP CS02 CURRENT              \n",
       "Q_IMCS03= '147.3   '           /  COMICS IMAGING CHIP CS03 CURRENT              \n",
       "Q_DETST = '100000  '           /  Detector Readout Status                       \n",
       "Q_CLKFL = '/home/comics/cbin/clk/clkgen/013/c040.00040.001.01' /  Macro File    \n",
       "Q_PIXTIM=                   40 / Clock duration for a pixel (0.1us)             \n",
       "Q_RRSTRT=                    1 / Reset Row Start Width (ND)                     \n",
       "Q_CHWB  =                    2 / Wipe Exporsure Number in a Chop-beam           \n",
       "Q_CHEB  =                   12 / Exporsure Number in a Chop-beam                \n",
       "Q_CHCN  =                   12 / Chopping Number in this file                   \n",
       "Q_CHAM  =                    1 / Add Mode 0:RAW 1:ADD 2:ECO                     \n",
       "Q_CHOP  =                    1 / Chopping ON=1 OFF=0                            \n",
       "Q_CTYPE =                    0 / Clock Type 0-9                                 \n",
       "Q_YSTRT =                    1 / Readout Region Y start                         \n",
       "Q_1EXP  =                0.080 / Integration time per exp. (sec) = EXPTIME      \n",
       "Q_1FRAME=                0.964 / Integration time per frame(co-added) (sec)     \n",
       "COMMENT   = ' ------------------------- CHOPPING'                               \n",
       "Q_CHTHRW=                10.00 / Chopping Throw                                 \n",
       "Q_CHDEG =               360.00 / Chopping Degree                                \n",
       "COMMENT   = ' ------------------------- FITS VERSION'                           \n",
       "Q_GETVER= '4.24    '           /  FITS header VERSION                           \n",
       "COMMENT -------------------------------------------------------------           \n",
       "COMMENT ------------   SMOKA (https://smoka.nao.ac.jp)   ------------           \n",
       "COMMENT -------------------------------------------------------------           \n",
       "COMMENT  This file is provided by SMOKA Ver.3.7 at Sat Dec 03 16:36:35 JST 2022."
      ]
     },
     "execution_count": 34,
     "metadata": {},
     "output_type": "execute_result"
    }
   ],
   "source": [
    "readheader(obsfile)"
   ]
  },
  {
   "cell_type": "code",
   "execution_count": 28,
   "metadata": {},
   "outputs": [
    {
     "ename": "NameError",
     "evalue": "name 'make1Expdark' is not defined",
     "output_type": "error",
     "traceback": [
      "\u001b[0;31m---------------------------------------------------------------------------\u001b[0m",
      "\u001b[0;31mNameError\u001b[0m                                 Traceback (most recent call last)",
      "Cell \u001b[0;32mIn [28], line 1\u001b[0m\n\u001b[0;32m----> 1\u001b[0m make1Expdark(obsfile)\n",
      "\u001b[0;31mNameError\u001b[0m: name 'make1Expdark' is not defined"
     ]
    }
   ],
   "source": [
    "make1Expdark(obsfile)"
   ]
  },
  {
   "cell_type": "code",
   "execution_count": null,
   "metadata": {},
   "outputs": [],
   "source": []
  }
 ],
 "metadata": {
  "kernelspec": {
   "display_name": "Python 3",
   "language": "python",
   "name": "python3"
  },
  "language_info": {
   "codemirror_mode": {
    "name": "ipython",
    "version": 3
   },
   "file_extension": ".py",
   "mimetype": "text/x-python",
   "name": "python",
   "nbconvert_exporter": "python",
   "pygments_lexer": "ipython3",
   "version": "3.8.10"
  },
  "orig_nbformat": 4,
  "vscode": {
   "interpreter": {
    "hash": "916dbcbb3f70747c44a77c7bcd40155683ae19c65e1c03b4aa3499c5328201f1"
   }
  }
 },
 "nbformat": 4,
 "nbformat_minor": 2
}
