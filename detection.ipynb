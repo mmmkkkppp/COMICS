{
 "cells": [
  {
   "cell_type": "code",
   "execution_count": 1,
   "metadata": {},
   "outputs": [],
   "source": [
    "import sewpy"
   ]
  },
  {
   "attachments": {},
   "cell_type": "markdown",
   "metadata": {},
   "source": [
    "カウントを1秒あたりに直すと、\n",
    "on-sourceを考えて、積分時間で割る  \n",
    "magででてきているものをカウント数に直して、積分時間で割る  \n",
    "COMICSの画像を回すときに、最後に積分時間で割ると   \n",
    "Q_1FRAMEに対して、Q_CHCNをかけて、2で割ることで積分時間に変換できる。  "
   ]
  },
  {
   "attachments": {},
   "cell_type": "markdown",
   "metadata": {},
   "source": [
    "source extractorのsexファイルの測光半径を複数指定できるので  \n"
   ]
  },
  {
   "attachments": {},
   "cell_type": "markdown",
   "metadata": {},
   "source": [
    "画像でどこでdetectしたかを目をつむってしまうという方法  \n",
    "file名、観測パラメータ、フォトメトリー結果のものを出すというのが一つ  \n",
    "jpegで結果を表示してくれるもの。  \n",
    "\n",
    "あるいは、処理の途中に画像が出てきて、y通すと進めるのもある。  \n",
    "photometryの結果を書くというのがでてくるといいかもしれない。  \n",
    "\n",
    "選んで比較してみるといいかもしれない。  \n",
    "まずは2,3年分やってほしを比較してみるといいかもしれない。  "
   ]
  },
  {
   "cell_type": "code",
   "execution_count": 3,
   "metadata": {},
   "outputs": [
    {
     "name": "stderr",
     "output_type": "stream",
     "text": [
      "Ouch, SExtractor complains :\n",
      "b''\n"
     ]
    }
   ],
   "source": [
    "year =\"2003\"\n",
    "outdir = r'/mnt/e/'+year +r'/detection/'\n",
    "sew = sewpy.SEW(params=[\"X_IMAGE\", \"Y_IMAGE\", \"ALPHA_J2000\", \"DELTA_J2000\", \"FLUX_RADIUS(3)\", \"CLASS_STAR\", \"FLAGS\"],\n",
    "        config={\"DETECT_MINAREA\":10, \"PHOT_FLUXFRAC\":\"0.3, 0.5, 0.8\"},workdir=outdir)\n",
    "out = sew(\"COMQ00058799.fits\")"
   ]
  },
  {
   "cell_type": "code",
   "execution_count": 1,
   "metadata": {},
   "outputs": [
    {
     "name": "stdout",
     "output_type": "stream",
     "text": [
      "c:\\Users\\yyush\\AppData\\Local\\Programs\\Python\\Python310\\python.exe\n"
     ]
    }
   ],
   "source": [
    "import sys\n",
    "print(sys.executable)"
   ]
  },
  {
   "cell_type": "markdown",
   "metadata": {},
   "source": []
  },
  {
   "cell_type": "code",
   "execution_count": null,
   "metadata": {},
   "outputs": [],
   "source": [
    "#catの作成\n",
    "talk = #pythonのコマンドを記入する\n",
    "subprocess.call\n",
    "#名前も含めてcatファイルの作成"
   ]
  },
  {
   "cell_type": "code",
   "execution_count": null,
   "metadata": {},
   "outputs": [],
   "source": [
    "#regの作成\n",
    "measurecat = \".cat\"\n",
    "file = open(measurecat.replace('.cat', ~~'.reg'), 'w')\n",
    "line = 'global color=green dashlist=8 3 width=1 font=\"helvetica 10 normal roman\" select=1 highlite=1 dash=0 fixed=0 edit=1 move=1 delete=1 include=1 source=1 \\n'\n",
    "file.write(line)\n",
    "for line in open(measurecat):\n",
    "    # #がある行を飛ばす\n",
    "    infomation = line.rstrip().split()\n",
    "    #必要な情報をリストを読み込む\n",
    "    ra = infomation[]#番\n",
    "    dec = infomation[]#番号\n",
    "    reg = \"circle( \" + ra + \",\" + dec + \" .5\\\") #color=green text={%s}\\n\" % (magauto)\n",
    "    \n",
    "    #必要な処理を書く\n",
    "    "
   ]
  },
  {
   "cell_type": "code",
   "execution_count": null,
   "metadata": {},
   "outputs": [],
   "source": [
    "reg = \"circle( \" + ra + \",\" + dec + \" .5\\\") #color=green text={%s}\\n\" %(magauto)"
   ]
  }
 ],
 "metadata": {
  "kernelspec": {
   "display_name": "Python 3.8.10 64-bit",
   "language": "python",
   "name": "python3"
  },
  "language_info": {
   "codemirror_mode": {
    "name": "ipython",
    "version": 3
   },
   "file_extension": ".py",
   "mimetype": "text/x-python",
   "name": "python",
   "nbconvert_exporter": "python",
   "pygments_lexer": "ipython3",
   "version": "3.8.10 (default, Jun 22 2022, 20:18:18) \n[GCC 9.4.0]"
  },
  "orig_nbformat": 4,
  "vscode": {
   "interpreter": {
    "hash": "916dbcbb3f70747c44a77c7bcd40155683ae19c65e1c03b4aa3499c5328201f1"
   }
  }
 },
 "nbformat": 4,
 "nbformat_minor": 2
}
