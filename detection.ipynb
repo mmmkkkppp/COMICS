{
 "cells": [
  {
   "cell_type": "code",
   "execution_count": 1,
   "metadata": {},
   "outputs": [],
   "source": [
    "import sewpy"
   ]
  },
  {
   "attachments": {},
   "cell_type": "markdown",
   "metadata": {},
   "source": [
    "カウントを1秒あたりに直すと、\n",
    "on-sourceを考えて、積分時間で割る  \n",
    "magででてきているものをカウント数に直して、積分時間で割る  \n",
    "COMICSの画像を回すときに、最後に積分時間で割ると   \n",
    "Q_1FRAMEに対して、Q_CHCNをかけて、2で割ることで積分時間に変換できる。  "
   ]
  },
  {
   "attachments": {},
   "cell_type": "markdown",
   "metadata": {},
   "source": [
    "source extractorのsexファイルの測光半径を複数指定できるので  \n"
   ]
  },
  {
   "attachments": {},
   "cell_type": "markdown",
   "metadata": {},
   "source": [
    "画像でどこでdetectしたかを目をつむってしまうという方法  \n",
    "file名、観測パラメータ、フォトメトリー結果のものを出すというのが一つ  \n",
    "jpegで結果を表示してくれるもの。  \n",
    "\n",
    "あるいは、処理の途中に画像が出てきて、y通すと進めるのもある。  \n",
    "photometryの結果を書くというのがでてくるといいかもしれない。  \n",
    "\n",
    "選んで比較してみるといいかもしれない。  \n",
    "まずは2,3年分やってほしを比較してみるといいかもしれない。  "
   ]
  },
  {
   "cell_type": "code",
   "execution_count": null,
   "metadata": {},
   "outputs": [],
   "source": [
    "#PSFの計算\n",
    "#1.028 * lambda / D=8.08m　* 3600 * 180 / math.piで計算する。\n",
    "#lambdaの特定には、fitsのヘッダー情報を見る必要がある。\n",
    "#fitspath \n",
    "fitspath = r'/mnt/e/'+year + r'/out_obj/'\n",
    "fitsheader = readheader(sys.argv[1]) \n",
    "lamdata = fitsheader[\"FILTER03\"]"
   ]
  },
  {
   "cell_type": "code",
   "execution_count": 27,
   "metadata": {},
   "outputs": [
    {
     "data": {
      "text/plain": [
       "12.5"
      ]
     },
     "execution_count": 27,
     "metadata": {},
     "output_type": "execute_result"
    }
   ],
   "source": [
    "filen = \"COMQ00058799.fits\"\n",
    "from function import *\n",
    "import re\n",
    "he = readheader(filen)\n",
    "p = r'C(.+)W'\n",
    "float(re.search(p,he[\"FILTER03\"]).group(1))"
   ]
  },
  {
   "cell_type": "code",
   "execution_count": 57,
   "metadata": {},
   "outputs": [],
   "source": [
    "#DETECT_MINAREAの決定\n",
    "import sys\n",
    "import re\n",
    "from function import *\n",
    "import math\n",
    "def PSF(file):\n",
    "    header = readheader(file)[\"FILTER03\"]\n",
    "    lambda_ = float(re.search(r'C(.+)W', header).group(1))  # CとWに挟まれた文字を検索、group(1)でCとWを含めないよう指定、float型に変換\n",
    "    D = 8.08\n",
    "    PSF_arcsec = 1.028 * lambda_*1e-6 / D * 3600 * 180 / math.pi\n",
    "    #arcsec からpixelに変換\n",
    "    PSF_pixel = PSF_arcsec / 0.13\n",
    "    return PSF_pixel\n",
    "\n",
    "#DETECT_MINAREAはPSFにしたい。\n"
   ]
  },
  {
   "cell_type": "code",
   "execution_count": 76,
   "metadata": {},
   "outputs": [
    {
     "ename": "FileNotFoundError",
     "evalue": "[Errno 2] No such file or directory: '/mnt/e/2006/out_obj/obj_69839_datN0_per1sec.fits'",
     "output_type": "error",
     "traceback": [
      "\u001b[1;31m---------------------------------------------------------------------------\u001b[0m",
      "\u001b[1;31mFileNotFoundError\u001b[0m                         Traceback (most recent call last)",
      "\u001b[1;32mセル8 を c:\\Users\\yyush\\Documents\\GitHub\\COMICS\\detection.ipynb\u001b[0m in \u001b[0;36m<cell line: 3>\u001b[1;34m()\u001b[0m\n\u001b[0;32m      <a href='vscode-notebook-cell:/c%3A/Users/yyush/Documents/GitHub/COMICS/detection.ipynb#X36sZmlsZQ%3D%3D?line=0'>1</a>\u001b[0m \u001b[39mfrom\u001b[39;00m \u001b[39mfunction\u001b[39;00m \u001b[39mimport\u001b[39;00m \u001b[39m*\u001b[39m\n\u001b[0;32m      <a href='vscode-notebook-cell:/c%3A/Users/yyush/Documents/GitHub/COMICS/detection.ipynb#X36sZmlsZQ%3D%3D?line=1'>2</a>\u001b[0m file \u001b[39m=\u001b[39m \u001b[39mr\u001b[39m\u001b[39m'\u001b[39m\u001b[39m/mnt/e/2006/out_obj/obj_69839_datN0_per1sec.fits\u001b[39m\u001b[39m'\u001b[39m\n\u001b[1;32m----> <a href='vscode-notebook-cell:/c%3A/Users/yyush/Documents/GitHub/COMICS/detection.ipynb#X36sZmlsZQ%3D%3D?line=2'>3</a>\u001b[0m header \u001b[39m=\u001b[39m readheader(file)\n\u001b[0;32m      <a href='vscode-notebook-cell:/c%3A/Users/yyush/Documents/GitHub/COMICS/detection.ipynb#X36sZmlsZQ%3D%3D?line=3'>4</a>\u001b[0m header\n",
      "File \u001b[1;32mc:\\Users\\yyush\\Documents\\GitHub\\COMICS\\function.py:12\u001b[0m, in \u001b[0;36mreadheader\u001b[1;34m(filename)\u001b[0m\n\u001b[0;32m     11\u001b[0m \u001b[39mdef\u001b[39;00m \u001b[39mreadheader\u001b[39m(filename):\n\u001b[1;32m---> 12\u001b[0m     \u001b[39mreturn\u001b[39;00m fits\u001b[39m.\u001b[39;49mopen(filename)[\u001b[39m0\u001b[39m]\u001b[39m.\u001b[39mheader\n",
      "File \u001b[1;32mc:\\Users\\yyush\\AppData\\Local\\Programs\\Python\\Python310\\lib\\site-packages\\astropy\\io\\fits\\hdu\\hdulist.py:175\u001b[0m, in \u001b[0;36mfitsopen\u001b[1;34m(name, mode, memmap, save_backup, cache, lazy_load_hdus, ignore_missing_simple, **kwargs)\u001b[0m\n\u001b[0;32m    172\u001b[0m \u001b[39mif\u001b[39;00m \u001b[39mnot\u001b[39;00m name:\n\u001b[0;32m    173\u001b[0m     \u001b[39mraise\u001b[39;00m \u001b[39mValueError\u001b[39;00m(\u001b[39mf\u001b[39m\u001b[39m'\u001b[39m\u001b[39mEmpty filename: \u001b[39m\u001b[39m{\u001b[39;00mname\u001b[39m!r}\u001b[39;00m\u001b[39m'\u001b[39m)\n\u001b[1;32m--> 175\u001b[0m \u001b[39mreturn\u001b[39;00m HDUList\u001b[39m.\u001b[39mfromfile(name, mode, memmap, save_backup, cache,\n\u001b[0;32m    176\u001b[0m                         lazy_load_hdus, ignore_missing_simple, \u001b[39m*\u001b[39m\u001b[39m*\u001b[39mkwargs)\n",
      "File \u001b[1;32mc:\\Users\\yyush\\AppData\\Local\\Programs\\Python\\Python310\\lib\\site-packages\\astropy\\io\\fits\\hdu\\hdulist.py:410\u001b[0m, in \u001b[0;36mHDUList.fromfile\u001b[1;34m(cls, fileobj, mode, memmap, save_backup, cache, lazy_load_hdus, ignore_missing_simple, **kwargs)\u001b[0m\n\u001b[0;32m    398\u001b[0m \u001b[39m@classmethod\u001b[39m\n\u001b[0;32m    399\u001b[0m \u001b[39mdef\u001b[39;00m \u001b[39mfromfile\u001b[39m(\u001b[39mcls\u001b[39m, fileobj, mode\u001b[39m=\u001b[39m\u001b[39mNone\u001b[39;00m, memmap\u001b[39m=\u001b[39m\u001b[39mNone\u001b[39;00m,\n\u001b[0;32m    400\u001b[0m              save_backup\u001b[39m=\u001b[39m\u001b[39mFalse\u001b[39;00m, cache\u001b[39m=\u001b[39m\u001b[39mTrue\u001b[39;00m, lazy_load_hdus\u001b[39m=\u001b[39m\u001b[39mTrue\u001b[39;00m,\n\u001b[0;32m    401\u001b[0m              ignore_missing_simple\u001b[39m=\u001b[39m\u001b[39mFalse\u001b[39;00m, \u001b[39m*\u001b[39m\u001b[39m*\u001b[39mkwargs):\n\u001b[0;32m    402\u001b[0m     \u001b[39m\"\"\"\u001b[39;00m\n\u001b[0;32m    403\u001b[0m \u001b[39m    Creates an `HDUList` instance from a file-like object.\u001b[39;00m\n\u001b[0;32m    404\u001b[0m \n\u001b[1;32m   (...)\u001b[0m\n\u001b[0;32m    407\u001b[0m \u001b[39m    documentation for details of the parameters accepted by this method).\u001b[39;00m\n\u001b[0;32m    408\u001b[0m \u001b[39m    \"\"\"\u001b[39;00m\n\u001b[1;32m--> 410\u001b[0m     \u001b[39mreturn\u001b[39;00m \u001b[39mcls\u001b[39m\u001b[39m.\u001b[39m_readfrom(fileobj\u001b[39m=\u001b[39mfileobj, mode\u001b[39m=\u001b[39mmode, memmap\u001b[39m=\u001b[39mmemmap,\n\u001b[0;32m    411\u001b[0m                          save_backup\u001b[39m=\u001b[39msave_backup, cache\u001b[39m=\u001b[39mcache,\n\u001b[0;32m    412\u001b[0m                          ignore_missing_simple\u001b[39m=\u001b[39mignore_missing_simple,\n\u001b[0;32m    413\u001b[0m                          lazy_load_hdus\u001b[39m=\u001b[39mlazy_load_hdus, \u001b[39m*\u001b[39m\u001b[39m*\u001b[39mkwargs)\n",
      "File \u001b[1;32mc:\\Users\\yyush\\AppData\\Local\\Programs\\Python\\Python310\\lib\\site-packages\\astropy\\io\\fits\\hdu\\hdulist.py:1060\u001b[0m, in \u001b[0;36mHDUList._readfrom\u001b[1;34m(cls, fileobj, data, mode, memmap, cache, lazy_load_hdus, ignore_missing_simple, **kwargs)\u001b[0m\n\u001b[0;32m   1057\u001b[0m \u001b[39mif\u001b[39;00m fileobj \u001b[39mis\u001b[39;00m \u001b[39mnot\u001b[39;00m \u001b[39mNone\u001b[39;00m:\n\u001b[0;32m   1058\u001b[0m     \u001b[39mif\u001b[39;00m \u001b[39mnot\u001b[39;00m \u001b[39misinstance\u001b[39m(fileobj, _File):\n\u001b[0;32m   1059\u001b[0m         \u001b[39m# instantiate a FITS file object (ffo)\u001b[39;00m\n\u001b[1;32m-> 1060\u001b[0m         fileobj \u001b[39m=\u001b[39m _File(fileobj, mode\u001b[39m=\u001b[39;49mmode, memmap\u001b[39m=\u001b[39;49mmemmap, cache\u001b[39m=\u001b[39;49mcache)\n\u001b[0;32m   1061\u001b[0m     \u001b[39m# The Astropy mode is determined by the _File initializer if the\u001b[39;00m\n\u001b[0;32m   1062\u001b[0m     \u001b[39m# supplied mode was None\u001b[39;00m\n\u001b[0;32m   1063\u001b[0m     mode \u001b[39m=\u001b[39m fileobj\u001b[39m.\u001b[39mmode\n",
      "File \u001b[1;32mc:\\Users\\yyush\\AppData\\Local\\Programs\\Python\\Python310\\lib\\site-packages\\astropy\\io\\fits\\file.py:170\u001b[0m, in \u001b[0;36m_File.__init__\u001b[1;34m(self, fileobj, mode, memmap, overwrite, cache)\u001b[0m\n\u001b[0;32m    168\u001b[0m     \u001b[39mself\u001b[39m\u001b[39m.\u001b[39m_open_fileobj(fileobj, mode, overwrite)\n\u001b[0;32m    169\u001b[0m \u001b[39melif\u001b[39;00m \u001b[39misinstance\u001b[39m(fileobj, (\u001b[39mstr\u001b[39m, \u001b[39mbytes\u001b[39m)):\n\u001b[1;32m--> 170\u001b[0m     \u001b[39mself\u001b[39;49m\u001b[39m.\u001b[39;49m_open_filename(fileobj, mode, overwrite)\n\u001b[0;32m    171\u001b[0m \u001b[39melse\u001b[39;00m:\n\u001b[0;32m    172\u001b[0m     \u001b[39mself\u001b[39m\u001b[39m.\u001b[39m_open_filelike(fileobj, mode, overwrite)\n",
      "File \u001b[1;32mc:\\Users\\yyush\\AppData\\Local\\Programs\\Python\\Python310\\lib\\site-packages\\astropy\\io\\fits\\file.py:562\u001b[0m, in \u001b[0;36m_File._open_filename\u001b[1;34m(self, filename, mode, overwrite)\u001b[0m\n\u001b[0;32m    559\u001b[0m ext \u001b[39m=\u001b[39m os\u001b[39m.\u001b[39mpath\u001b[39m.\u001b[39msplitext(\u001b[39mself\u001b[39m\u001b[39m.\u001b[39mname)[\u001b[39m1\u001b[39m]\n\u001b[0;32m    561\u001b[0m \u001b[39mif\u001b[39;00m \u001b[39mnot\u001b[39;00m \u001b[39mself\u001b[39m\u001b[39m.\u001b[39m_try_read_compressed(\u001b[39mself\u001b[39m\u001b[39m.\u001b[39mname, magic, mode, ext\u001b[39m=\u001b[39mext):\n\u001b[1;32m--> 562\u001b[0m     \u001b[39mself\u001b[39m\u001b[39m.\u001b[39m_file \u001b[39m=\u001b[39m \u001b[39mopen\u001b[39;49m(\u001b[39mself\u001b[39;49m\u001b[39m.\u001b[39;49mname, IO_FITS_MODES[mode])\n\u001b[0;32m    563\u001b[0m     \u001b[39mself\u001b[39m\u001b[39m.\u001b[39mclose_on_error \u001b[39m=\u001b[39m \u001b[39mTrue\u001b[39;00m\n\u001b[0;32m    565\u001b[0m \u001b[39m# Make certain we're back at the beginning of the file\u001b[39;00m\n\u001b[0;32m    566\u001b[0m \u001b[39m# BZ2File does not support seek when the file is open for writing, but\u001b[39;00m\n\u001b[0;32m    567\u001b[0m \u001b[39m# when opening a file for write, bz2.BZ2File always truncates anyway.\u001b[39;00m\n",
      "\u001b[1;31mFileNotFoundError\u001b[0m: [Errno 2] No such file or directory: '/mnt/e/2006/out_obj/obj_69839_datN0_per1sec.fits'"
     ]
    }
   ],
   "source": [
    "from function import *\n",
    "file = r'/mnt/e/2006/out_obj/obj_69839_datN0_per1sec.fits'\n",
    "header = readheader(file)\n",
    "header"
   ]
  },
  {
   "cell_type": "code",
   "execution_count": 58,
   "metadata": {},
   "outputs": [
    {
     "data": {
      "text/plain": [
       "2.523327075661832"
      ]
     },
     "execution_count": 58,
     "metadata": {},
     "output_type": "execute_result"
    }
   ],
   "source": [
    "file = \"COMQ00058799.fits\"\n",
    "PSF(file)"
   ]
  },
  {
   "cell_type": "code",
   "execution_count": 35,
   "metadata": {},
   "outputs": [],
   "source": [
    "parameters = [\n",
    "    \"XWIN_IMAGE\",\n",
    "    \"YWIN_IMAGE\",\n",
    "    \"ALPHA_J2000\",\n",
    "    \"DELTA_J2000\",\n",
    "    \"MAG_AUTO\",\n",
    "    \"FWHM_IMAGE\",\n",
    "    \"ELONGATION\",\n",
    "    \"MAG_APER(5)\",\n",
    "    \"MAGERR_APER(5)\",\n",
    "    \"FLUX_APER(5)\",\n",
    "    \"FLUXERR_APER(5)\"\n",
    "]\n",
    "with open('param.param', 'w') as f:\n",
    "    for d in parameters:\n",
    "        f.write(\"%s\\n\" % d)"
   ]
  },
  {
   "cell_type": "code",
   "execution_count": 48,
   "metadata": {},
   "outputs": [
    {
     "name": "stdout",
     "output_type": "stream",
     "text": [
      "# Default configuration file for SExtractor 2.25.3\n",
      "\n",
      "# EB 2022-11-29\n",
      "\n",
      "#\n",
      "\n",
      " \n",
      "\n",
      "#-------------------------------- Catalog ------------------------------------\n",
      "\n",
      " \n",
      "\n",
      "CATALOG_NAME     test3.cat       # name of the output catalog\n",
      "\n",
      "CATALOG_TYPE     ASCII_HEAD     # NONE,ASCII,ASCII_HEAD, ASCII_SKYCAT,\n",
      "\n",
      "                                # ASCII_VOTABLE, FITS_1.0 or FITS_LDAC\n",
      "\n",
      "PARAMETERS_NAME  default.param  # name of the file containing catalog contents\n",
      "\n",
      " \n",
      "\n",
      "#------------------------------- Extraction ----------------------------------\n",
      "\n",
      " \n",
      "\n",
      "DETECT_TYPE      CCD            # CCD (linear) or PHOTO (with gamma correction)\n",
      "\n",
      "DETECT_MINAREA   7              # min. # of pixels above threshold\n",
      "\n",
      "DETECT_THRESH    1.5            # <sigmas> or <threshold>,<ZP> in mag.arcsec-2\n",
      "\n",
      "ANALYSIS_THRESH  1.5            # <sigmas> or <threshold>,<ZP> in mag.arcsec-2\n",
      "\n",
      " \n",
      "\n",
      "FILTER           N              # apply filter for detection (Y or N)?\n",
      "\n",
      "FILTER_NAME      default.conv   # name of the file containing the filter\n",
      "\n",
      " \n",
      "\n",
      "DEBLEND_NTHRESH  32             # Number of deblending sub-thresholds\n",
      "\n",
      "DEBLEND_MINCONT  0.005          # Minimum contrast parameter for deblending\n",
      "\n",
      " \n",
      "\n",
      "CLEAN            Y              # Clean spurious detections? (Y or N)?\n",
      "\n",
      "CLEAN_PARAM      1.0            # Cleaning efficiency\n",
      "\n",
      " \n",
      "\n",
      "MASK_TYPE        CORRECT        # type of detection MASKing: can be one of\n",
      "\n",
      "                                # NONE, BLANK or CORRECT\n",
      "\n",
      " \n",
      "\n",
      "#------------------------------ Photometry -----------------------------------\n",
      "\n",
      " \n",
      "\n",
      "PHOT_APERTURES   5,10,15              # MAG_APER aperture diameter(s) in pixels\n",
      "\n",
      "PHOT_AUTOPARAMS  2.5, 3.5       # MAG_AUTO parameters: <Kron_fact>,<min_radius>\n",
      "\n",
      "PHOT_PETROPARAMS 2.0, 3.5       # MAG_PETRO parameters: <Petrosian_fact>,\n",
      "\n",
      "                                # <min_radius>\n",
      "\n",
      " \n",
      "\n",
      "SATUR_LEVEL      50000.0        # level (in ADUs) at which arises saturation\n",
      "\n",
      "SATUR_KEY        SATURATE       # keyword for saturation level (in ADUs)\n",
      "\n",
      " \n",
      "\n",
      "MAG_ZEROPOINT    0.0            # magnitude zero-point\n",
      "\n",
      "MAG_GAMMA        4.0            # gamma of emulsion (for photographic scans)\n",
      "\n",
      "GAIN             0.0            # detector gain in e-/ADU\n",
      "\n",
      "GAIN_KEY         GAIN           # keyword for detector gain in e-/ADU\n",
      "\n",
      "PIXEL_SCALE      1.0            # size of pixel in arcsec (0=use FITS WCS info)\n",
      "\n",
      " \n",
      "\n",
      "#------------------------- Star/Galaxy Separation ----------------------------\n",
      "\n",
      " \n",
      "\n",
      "SEEING_FWHM      1.2            # stellar FWHM in arcsec\n",
      "\n",
      "STARNNW_NAME     default.nnw    # Neural-Network_Weight table filename\n",
      "\n",
      " \n",
      "\n",
      "#------------------------------ Background -----------------------------------\n",
      "\n",
      " \n",
      "\n",
      "BACK_SIZE        64             # Background mesh: <size> or <width>,<height>\n",
      "\n",
      "BACK_FILTERSIZE  3              # Background filter: <size> or <width>,<height>\n",
      "\n",
      " \n",
      "\n",
      "BACKPHOTO_TYPE   GLOBAL         # can be GLOBAL or LOCAL\n",
      "\n",
      " \n",
      "\n",
      "#------------------------------ Check Image ----------------------------------\n",
      "\n",
      " \n",
      "\n",
      "CHECKIMAGE_TYPE  NONE           # can be NONE, BACKGROUND, BACKGROUND_RMS,\n",
      "\n",
      "                                # MINIBACKGROUND, MINIBACK_RMS, -BACKGROUND,\n",
      "\n",
      "                                # FILTERED, OBJECTS, -OBJECTS, SEGMENTATION,\n",
      "\n",
      "                                # or APERTURES\n",
      "\n",
      "CHECKIMAGE_NAME  check.fits     # Filename for the check-image\n",
      "\n",
      " \n",
      "\n",
      "#--------------------- Memory (change with caution!) -------------------------\n",
      "\n",
      " \n",
      "\n",
      "MEMORY_OBJSTACK  3000           # number of objects in stack\n",
      "\n",
      "MEMORY_PIXSTACK  300000         # number of pixels in stack\n",
      "\n",
      "MEMORY_BUFSIZE   1024           # number of lines in buffer\n",
      "\n",
      " \n",
      "\n",
      "#----------------------------- Miscellaneous ---------------------------------\n",
      "\n",
      " \n",
      "\n",
      "VERBOSE_TYPE     NORMAL         # can be QUIET, NORMAL or FULL\n",
      "\n",
      "HEADER_SUFFIX    .head          # Filename extension for additional headers\n",
      "\n",
      "WRITE_XML        N              # Write XML file (Y/N)?\n",
      "\n",
      "XML_NAME         sex.xml        # Filename for XML output\n",
      "\n"
     ]
    }
   ],
   "source": [
    "with open('--default.sex', 'r') as file:\n",
    "    s = file.readlines()\n",
    "    # for line in s:\n",
    "    #     print(line)\n",
    "    "
   ]
  },
  {
   "cell_type": "code",
   "execution_count": 69,
   "metadata": {},
   "outputs": [
    {
     "data": {
      "text/plain": [
       "'CATALOG_NAME     test.cat       # name of the output catalog'"
      ]
     },
     "execution_count": 69,
     "metadata": {},
     "output_type": "execute_result"
    }
   ],
   "source": [
    "import pandas as pd\n",
    "data = pd.read_csv('default.sex',sep='\\t',header=None)\n",
    "data.iloc[4,0]\n",
    "# aftername = 'DETECT_MINAREA   '+str(PSF(file))[:5]+'              # min. # of pixels above threshold'\n",
    "# print(aftername)\n",
    "# data.iloc[10,0] = aftername\n",
    "# data.to_csv('default.sex', sep='\\t',index=False,header=None)\n"
   ]
  },
  {
   "cell_type": "code",
   "execution_count": 71,
   "metadata": {},
   "outputs": [
    {
     "data": {
      "text/plain": [
       "'/mnt/e/2006/out_obj/cat/obj_69767_datN0_per1sec.cat'"
      ]
     },
     "execution_count": 71,
     "metadata": {},
     "output_type": "execute_result"
    }
   ],
   "source": [
    "file =r'/mnt/e/2006/out_obj/obj_69767_datN0_per1sec.fits'\n",
    "renamecat =file.replace('out_obj/','out_obj/cat/').replace('fits', 'cat')#pathをここに入れる\n",
    "renamecat"
   ]
  },
  {
   "cell_type": "code",
   "execution_count": 66,
   "metadata": {},
   "outputs": [
    {
     "data": {
      "text/plain": [
       "'DETECT_MINAREA   2.523              # min. # of pixels above threshold'"
      ]
     },
     "execution_count": 66,
     "metadata": {},
     "output_type": "execute_result"
    }
   ],
   "source": [
    "df = pd.read_csv('--default.sex', sep = '\\t', header = None)\n",
    "df.iloc[10,0]"
   ]
  },
  {
   "cell_type": "code",
   "execution_count": null,
   "metadata": {},
   "outputs": [],
   "source": [
    "import sewpy\n",
    "sew = sewpy.SEW()"
   ]
  },
  {
   "cell_type": "code",
   "execution_count": 34,
   "metadata": {},
   "outputs": [
    {
     "ename": "RuntimeError",
     "evalue": "Could not run SExtractor. Is the path 'sex' correct ? If not, specify sexpath='/path/to/sextractor'",
     "output_type": "error",
     "traceback": [
      "\u001b[1;31m---------------------------------------------------------------------------\u001b[0m",
      "\u001b[1;31mFileNotFoundError\u001b[0m                         Traceback (most recent call last)",
      "File \u001b[1;32mc:\\Users\\yyush\\AppData\\Local\\Programs\\Python\\Python310\\lib\\site-packages\\sewpy\\sewpy.py:161\u001b[0m, in \u001b[0;36mSEW.get_version\u001b[1;34m(self)\u001b[0m\n\u001b[0;32m    160\u001b[0m \u001b[39mtry\u001b[39;00m:\n\u001b[1;32m--> 161\u001b[0m \tp \u001b[39m=\u001b[39m subprocess\u001b[39m.\u001b[39;49mPopen([\u001b[39mself\u001b[39;49m\u001b[39m.\u001b[39;49msexpath], stdout\u001b[39m=\u001b[39;49msubprocess\u001b[39m.\u001b[39;49mPIPE, stderr\u001b[39m=\u001b[39;49msubprocess\u001b[39m.\u001b[39;49mPIPE)\n\u001b[0;32m    162\u001b[0m \u001b[39mexcept\u001b[39;00m:\n",
      "File \u001b[1;32mc:\\Users\\yyush\\AppData\\Local\\Programs\\Python\\Python310\\lib\\subprocess.py:966\u001b[0m, in \u001b[0;36mPopen.__init__\u001b[1;34m(self, args, bufsize, executable, stdin, stdout, stderr, preexec_fn, close_fds, shell, cwd, env, universal_newlines, startupinfo, creationflags, restore_signals, start_new_session, pass_fds, user, group, extra_groups, encoding, errors, text, umask, pipesize)\u001b[0m\n\u001b[0;32m    963\u001b[0m             \u001b[39mself\u001b[39m\u001b[39m.\u001b[39mstderr \u001b[39m=\u001b[39m io\u001b[39m.\u001b[39mTextIOWrapper(\u001b[39mself\u001b[39m\u001b[39m.\u001b[39mstderr,\n\u001b[0;32m    964\u001b[0m                     encoding\u001b[39m=\u001b[39mencoding, errors\u001b[39m=\u001b[39merrors)\n\u001b[1;32m--> 966\u001b[0m     \u001b[39mself\u001b[39;49m\u001b[39m.\u001b[39;49m_execute_child(args, executable, preexec_fn, close_fds,\n\u001b[0;32m    967\u001b[0m                         pass_fds, cwd, env,\n\u001b[0;32m    968\u001b[0m                         startupinfo, creationflags, shell,\n\u001b[0;32m    969\u001b[0m                         p2cread, p2cwrite,\n\u001b[0;32m    970\u001b[0m                         c2pread, c2pwrite,\n\u001b[0;32m    971\u001b[0m                         errread, errwrite,\n\u001b[0;32m    972\u001b[0m                         restore_signals,\n\u001b[0;32m    973\u001b[0m                         gid, gids, uid, umask,\n\u001b[0;32m    974\u001b[0m                         start_new_session)\n\u001b[0;32m    975\u001b[0m \u001b[39mexcept\u001b[39;00m:\n\u001b[0;32m    976\u001b[0m     \u001b[39m# Cleanup if the child failed starting.\u001b[39;00m\n",
      "File \u001b[1;32mc:\\Users\\yyush\\AppData\\Local\\Programs\\Python\\Python310\\lib\\subprocess.py:1435\u001b[0m, in \u001b[0;36mPopen._execute_child\u001b[1;34m(self, args, executable, preexec_fn, close_fds, pass_fds, cwd, env, startupinfo, creationflags, shell, p2cread, p2cwrite, c2pread, c2pwrite, errread, errwrite, unused_restore_signals, unused_gid, unused_gids, unused_uid, unused_umask, unused_start_new_session)\u001b[0m\n\u001b[0;32m   1434\u001b[0m \u001b[39mtry\u001b[39;00m:\n\u001b[1;32m-> 1435\u001b[0m     hp, ht, pid, tid \u001b[39m=\u001b[39m _winapi\u001b[39m.\u001b[39;49mCreateProcess(executable, args,\n\u001b[0;32m   1436\u001b[0m                              \u001b[39m# no special security\u001b[39;49;00m\n\u001b[0;32m   1437\u001b[0m                              \u001b[39mNone\u001b[39;49;00m, \u001b[39mNone\u001b[39;49;00m,\n\u001b[0;32m   1438\u001b[0m                              \u001b[39mint\u001b[39;49m(\u001b[39mnot\u001b[39;49;00m close_fds),\n\u001b[0;32m   1439\u001b[0m                              creationflags,\n\u001b[0;32m   1440\u001b[0m                              env,\n\u001b[0;32m   1441\u001b[0m                              cwd,\n\u001b[0;32m   1442\u001b[0m                              startupinfo)\n\u001b[0;32m   1443\u001b[0m \u001b[39mfinally\u001b[39;00m:\n\u001b[0;32m   1444\u001b[0m     \u001b[39m# Child is launched. Close the parent's copy of those pipe\u001b[39;00m\n\u001b[0;32m   1445\u001b[0m     \u001b[39m# handles that only the child should have open.  You need\u001b[39;00m\n\u001b[1;32m   (...)\u001b[0m\n\u001b[0;32m   1448\u001b[0m     \u001b[39m# pipe will not close when the child process exits and the\u001b[39;00m\n\u001b[0;32m   1449\u001b[0m     \u001b[39m# ReadFile will hang.\u001b[39;00m\n",
      "\u001b[1;31mFileNotFoundError\u001b[0m: [WinError 2] 指定されたファイルが見つかりません。",
      "\nDuring handling of the above exception, another exception occurred:\n",
      "\u001b[1;31mRuntimeError\u001b[0m                              Traceback (most recent call last)",
      "\u001b[1;32mセル10 を c:\\Users\\yyush\\Documents\\GitHub\\COMICS\\detection.ipynb\u001b[0m in \u001b[0;36m<cell line: 25>\u001b[1;34m()\u001b[0m\n\u001b[0;32m     <a href='vscode-notebook-cell:/c%3A/Users/yyush/Documents/GitHub/COMICS/detection.ipynb#W4sZmlsZQ%3D%3D?line=16'>17</a>\u001b[0m configure\u001b[39m=\u001b[39m{\u001b[39m#\"CATALOG_NAME\":input_name.replace(\".fits\",\".cat\"),\u001b[39;00m\n\u001b[0;32m     <a href='vscode-notebook-cell:/c%3A/Users/yyush/Documents/GitHub/COMICS/detection.ipynb#W4sZmlsZQ%3D%3D?line=17'>18</a>\u001b[0m         \u001b[39m\"\u001b[39m\u001b[39mDETECT_MINAREA\u001b[39m\u001b[39m\"\u001b[39m:PSF(input_name),\n\u001b[0;32m     <a href='vscode-notebook-cell:/c%3A/Users/yyush/Documents/GitHub/COMICS/detection.ipynb#W4sZmlsZQ%3D%3D?line=18'>19</a>\u001b[0m         \u001b[39m\"\u001b[39m\u001b[39mDETECT_THRESH\u001b[39m\u001b[39m\"\u001b[39m:\u001b[39m3\u001b[39m,\n\u001b[0;32m     <a href='vscode-notebook-cell:/c%3A/Users/yyush/Documents/GitHub/COMICS/detection.ipynb#W4sZmlsZQ%3D%3D?line=19'>20</a>\u001b[0m         \u001b[39m\"\u001b[39m\u001b[39mANALYSIS_THRESH\u001b[39m\u001b[39m\"\u001b[39m:\u001b[39m3\u001b[39m,\n\u001b[0;32m     <a href='vscode-notebook-cell:/c%3A/Users/yyush/Documents/GitHub/COMICS/detection.ipynb#W4sZmlsZQ%3D%3D?line=20'>21</a>\u001b[0m         \u001b[39m\"\u001b[39m\u001b[39mFILTER\u001b[39m\u001b[39m\"\u001b[39m:\u001b[39m\"\u001b[39m\u001b[39mN\u001b[39m\u001b[39m\"\u001b[39m,\n\u001b[0;32m     <a href='vscode-notebook-cell:/c%3A/Users/yyush/Documents/GitHub/COMICS/detection.ipynb#W4sZmlsZQ%3D%3D?line=21'>22</a>\u001b[0m         \u001b[39m\"\u001b[39m\u001b[39mPHOT_APERTURES\u001b[39m\u001b[39m\"\u001b[39m:\u001b[39m\"\u001b[39m\u001b[39m3,5,7,9,11\u001b[39m\u001b[39m\"\u001b[39m}\n\u001b[0;32m     <a href='vscode-notebook-cell:/c%3A/Users/yyush/Documents/GitHub/COMICS/detection.ipynb#W4sZmlsZQ%3D%3D?line=22'>23</a>\u001b[0m \u001b[39m# sew = sewpy.SEW(params=[\"X_IMAGE\", \"Y_IMAGE\", \"ALPHA_J2000\", \"DELTA_J2000\", \"FLUX_RADIUS(3)\",  \"FLAGS\"],\u001b[39;00m\n\u001b[0;32m     <a href='vscode-notebook-cell:/c%3A/Users/yyush/Documents/GitHub/COMICS/detection.ipynb#W4sZmlsZQ%3D%3D?line=23'>24</a>\u001b[0m \u001b[39m#                 config={\"DETECT_MINAREA\": 8, \"PHOT_APERTURES\":5, \"PHOT_FLUXFRAC\": 0.5},workdir=outdir)\u001b[39;00m\n\u001b[1;32m---> <a href='vscode-notebook-cell:/c%3A/Users/yyush/Documents/GitHub/COMICS/detection.ipynb#W4sZmlsZQ%3D%3D?line=24'>25</a>\u001b[0m sew \u001b[39m=\u001b[39m sewpy\u001b[39m.\u001b[39;49mSEW(workdir\u001b[39m=\u001b[39;49m\u001b[39mr\u001b[39;49m\u001b[39m'\u001b[39;49m\u001b[39m/mnt/c/Users/yyush/Documents/GitHub/COMICS\u001b[39;49m\u001b[39m'\u001b[39;49m,\n\u001b[0;32m     <a href='vscode-notebook-cell:/c%3A/Users/yyush/Documents/GitHub/COMICS/detection.ipynb#W4sZmlsZQ%3D%3D?line=25'>26</a>\u001b[0m                 params\u001b[39m=\u001b[39;49mparameters, config\u001b[39m=\u001b[39;49mconfigure, sexpath\u001b[39m=\u001b[39;49m\u001b[39m\"\u001b[39;49m\u001b[39msex\u001b[39;49m\u001b[39m\"\u001b[39;49m)\n\u001b[0;32m     <a href='vscode-notebook-cell:/c%3A/Users/yyush/Documents/GitHub/COMICS/detection.ipynb#W4sZmlsZQ%3D%3D?line=26'>27</a>\u001b[0m out \u001b[39m=\u001b[39m sew(input_name)\n",
      "File \u001b[1;32mc:\\Users\\yyush\\AppData\\Local\\Programs\\Python\\Python310\\lib\\site-packages\\sewpy\\sewpy.py:112\u001b[0m, in \u001b[0;36mSEW.__init__\u001b[1;34m(self, workdir, sexpath, params, config, configfilepath, nice, loglevel)\u001b[0m\n\u001b[0;32m    109\u001b[0m \u001b[39mself\u001b[39m\u001b[39m.\u001b[39mconfigfilepath \u001b[39m=\u001b[39m configfilepath\n\u001b[0;32m    110\u001b[0m \u001b[39mself\u001b[39m\u001b[39m.\u001b[39mnice \u001b[39m=\u001b[39m nice\n\u001b[1;32m--> 112\u001b[0m logger\u001b[39m.\u001b[39minfo(\u001b[39m\"\u001b[39m\u001b[39mSExtractor version is \u001b[39m\u001b[39m%s\u001b[39;00m\u001b[39m\"\u001b[39m \u001b[39m%\u001b[39m (\u001b[39mself\u001b[39;49m\u001b[39m.\u001b[39;49mget_version()))\n\u001b[0;32m    114\u001b[0m \u001b[39m# ... and the workdir\u001b[39;00m\n\u001b[0;32m    116\u001b[0m \u001b[39mif\u001b[39;00m workdir \u001b[39mis\u001b[39;00m \u001b[39mnot\u001b[39;00m \u001b[39mNone\u001b[39;00m:\n",
      "File \u001b[1;32mc:\\Users\\yyush\\AppData\\Local\\Programs\\Python\\Python310\\lib\\site-packages\\sewpy\\sewpy.py:163\u001b[0m, in \u001b[0;36mSEW.get_version\u001b[1;34m(self)\u001b[0m\n\u001b[0;32m    161\u001b[0m \tp \u001b[39m=\u001b[39m subprocess\u001b[39m.\u001b[39mPopen([\u001b[39mself\u001b[39m\u001b[39m.\u001b[39msexpath], stdout\u001b[39m=\u001b[39msubprocess\u001b[39m.\u001b[39mPIPE, stderr\u001b[39m=\u001b[39msubprocess\u001b[39m.\u001b[39mPIPE)\n\u001b[0;32m    162\u001b[0m \u001b[39mexcept\u001b[39;00m:\n\u001b[1;32m--> 163\u001b[0m \t\u001b[39mraise\u001b[39;00m \u001b[39mRuntimeError\u001b[39;00m(\u001b[39m\"\u001b[39m\u001b[39mCould not run SExtractor. Is the path \u001b[39m\u001b[39m'\u001b[39m\u001b[39m%s\u001b[39;00m\u001b[39m'\u001b[39m\u001b[39m correct ? If not, specify sexpath=\u001b[39m\u001b[39m'\u001b[39m\u001b[39m/path/to/sextractor\u001b[39m\u001b[39m'\u001b[39m\u001b[39m\"\u001b[39m \u001b[39m%\u001b[39m \u001b[39mself\u001b[39m\u001b[39m.\u001b[39msexpath)\n\u001b[0;32m    164\u001b[0m out, err \u001b[39m=\u001b[39m p\u001b[39m.\u001b[39mcommunicate()\n\u001b[0;32m    165\u001b[0m version_match \u001b[39m=\u001b[39m re\u001b[39m.\u001b[39msearch(\u001b[39m\"\u001b[39m\u001b[39m[Vv]ersion ([0-9\u001b[39m\u001b[39m\\\u001b[39m\u001b[39m.])+\u001b[39m\u001b[39m\"\u001b[39m, err\u001b[39m.\u001b[39mdecode(encoding\u001b[39m=\u001b[39m\u001b[39m'\u001b[39m\u001b[39mUTF-8\u001b[39m\u001b[39m'\u001b[39m))\n",
      "\u001b[1;31mRuntimeError\u001b[0m: Could not run SExtractor. Is the path 'sex' correct ? If not, specify sexpath='/path/to/sextractor'"
     ]
    }
   ],
   "source": [
    "\n",
    "outdir=r'./'\n",
    "input_name = \"COMQ00058799.fits\"\n",
    "\n",
    "parameters = [\n",
    "    \"XWIN_IMAGE\",\n",
    "    \"YWIN_IMAGE\",\n",
    "    \"ALPHA_J2000\",\n",
    "    \"DELTA_J2000\",\n",
    "    \"MAG_AUTO\",\n",
    "    \"FWHM_IMAGE\",\n",
    "    \"ELONGATION\",\n",
    "    \"MAG_APER(5)\",\n",
    "    \"MAGERR_APER(5)\",\n",
    "    \"FLUX_APER(5)\",\n",
    "    \"FLUXERR_APER(5)\"\n",
    "]\n",
    "configure={#\"CATALOG_NAME\":input_name.replace(\".fits\",\".cat\"),\n",
    "        \"DETECT_MINAREA\":PSF(input_name),\n",
    "        \"DETECT_THRESH\":3,\n",
    "        \"ANALYSIS_THRESH\":3,\n",
    "        \"FILTER\":\"N\",\n",
    "        \"PHOT_APERTURES\":\"3,5,7,9,11\"}\n",
    "# sew = sewpy.SEW(params=[\"X_IMAGE\", \"Y_IMAGE\", \"ALPHA_J2000\", \"DELTA_J2000\", \"FLUX_RADIUS(3)\",  \"FLAGS\"],\n",
    "#                 config={\"DETECT_MINAREA\": 8, \"PHOT_APERTURES\":5, \"PHOT_FLUXFRAC\": 0.5},workdir=outdir)\n",
    "sew = sewpy.SEW(workdir=r'/mnt/c/Users/yyush/Documents/GitHub/COMICS',\n",
    "                params=parameters, config=configure, sexpath=\"sex\")\n",
    "out = sew(input_name)"
   ]
  },
  {
   "cell_type": "code",
   "execution_count": null,
   "metadata": {},
   "outputs": [],
   "source": [
    "sewpy.SEW(params)"
   ]
  },
  {
   "cell_type": "code",
   "execution_count": null,
   "metadata": {},
   "outputs": [],
   "source": [
    "import sys\n",
    "print(sys.executable)"
   ]
  },
  {
   "cell_type": "markdown",
   "metadata": {},
   "source": []
  },
  {
   "cell_type": "code",
   "execution_count": null,
   "metadata": {},
   "outputs": [],
   "source": [
    "#catの作成\n",
    "talk = \"sew \"+#pythonのコマンドを記入する\n",
    "subprocess.call\n",
    "#名前も含めてcatファイルの作成"
   ]
  },
  {
   "cell_type": "code",
   "execution_count": null,
   "metadata": {},
   "outputs": [],
   "source": [
    "#regの作成\n",
    "measurecat = \".cat\"\n",
    "file = open(measurecat.replace('.cat', ~~'.reg'), 'w')\n",
    "line = 'global color=green dashlist=8 3 width=1 font=\"helvetica 10 normal roman\" select=1 highlite=1 dash=0 fixed=0 edit=1 move=1 delete=1 include=1 source=1 \\n'\n",
    "file.write(line)\n",
    "for line in open(measurecat):\n",
    "    # #がある行を飛ばす\n",
    "    infomation = line.rstrip().split()\n",
    "    #必要な情報をリストを読み込む\n",
    "    ra = infomation[]#番\n",
    "    dec = infomation[]#番号\n",
    "    reg = \"circle( \" + ra + \",\" + dec + \" .5\\\") #color=green text={%s}\\n\" % (magauto)\n",
    "    \n",
    "    #必要な処理を書く\n",
    "    "
   ]
  },
  {
   "cell_type": "code",
   "execution_count": null,
   "metadata": {},
   "outputs": [],
   "source": [
    "# filecat = \"./test.cat\"\n",
    "# filename = \"COMQ00058799.fits\"\n",
    "# with open(filecat.replace('test.cat', filename.replace('.fits', '.cat')),'w') as file:\n",
    "    "
   ]
  },
  {
   "cell_type": "code",
   "execution_count": 4,
   "metadata": {},
   "outputs": [],
   "source": [
    "import os \n",
    "os.rename('./検出用パラメータ/test3.cat',\"COM.fits\".replace('.fits', '.cat'))"
   ]
  }
 ],
 "metadata": {
  "kernelspec": {
   "display_name": "Python 3",
   "language": "python",
   "name": "python3"
  },
  "language_info": {
   "codemirror_mode": {
    "name": "ipython",
    "version": 3
   },
   "file_extension": ".py",
   "mimetype": "text/x-python",
   "name": "python",
   "nbconvert_exporter": "python",
   "pygments_lexer": "ipython3",
   "version": "3.10.4"
  },
  "orig_nbformat": 4,
  "vscode": {
   "interpreter": {
    "hash": "bb29cca67f29ce02480b5ff6438d9aac2d9f2af911bdc40114e7b970fc35c0c0"
   }
  }
 },
 "nbformat": 4,
 "nbformat_minor": 2
}
